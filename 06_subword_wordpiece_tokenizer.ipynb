{
 "cells": [
  {
   "cell_type": "markdown",
   "metadata": {
    "tags": []
   },
   "source": [
    "# 子词词元化过程"
   ]
  },
  {
   "cell_type": "code",
   "execution_count": 2,
   "metadata": {
    "ExecuteTime": {
     "end_time": "2022-07-09T02:48:50.247468Z",
     "start_time": "2022-07-09T02:48:50.244431Z"
    },
    "tags": []
   },
   "outputs": [],
   "source": [
    "# 测试数据\n",
    "s1 = 'albums sold 124443286539 copies'\n",
    "s2 = 'technically perfect, melodically correct'\n",
    "s3 = 'featuring a previously unheard track'\n",
    "s4 = 'bestselling music artist'\n",
    "s5 = 's1 d1 o1 and o2'\n",
    "s6 = 'asbofwheohwbeif'"
   ]
  },
  {
   "cell_type": "markdown",
   "metadata": {
    "ExecuteTime": {
     "end_time": "2022-07-09T02:28:16.211451Z",
     "start_time": "2022-07-09T02:28:16.209738Z"
    }
   },
   "source": [
    "## 0. 实例化 tokenizer"
   ]
  },
  {
   "cell_type": "code",
   "execution_count": 3,
   "metadata": {
    "ExecuteTime": {
     "end_time": "2022-07-09T02:42:32.975723Z",
     "start_time": "2022-07-09T02:42:25.656501Z"
    },
    "tags": []
   },
   "outputs": [
    {
     "name": "stderr",
     "output_type": "stream",
     "text": [
      "/root/miniconda3/lib/python3.8/site-packages/huggingface_hub/file_download.py:1132: FutureWarning: `resume_download` is deprecated and will be removed in version 1.0.0. Downloads always resume when possible. If you want to force a new download, use `force_download=True`.\n",
      "  warnings.warn(\n"
     ]
    }
   ],
   "source": [
    "from transformers import BertTokenizer\n",
    "\n",
    "model_name = 'bert-base-uncased'\n",
    "tokenizer = BertTokenizer.from_pretrained(model_name)"
   ]
  },
  {
   "cell_type": "markdown",
   "metadata": {},
   "source": [
    "## 1. vocab"
   ]
  },
  {
   "cell_type": "markdown",
   "metadata": {},
   "source": [
    "- `tokenizer.vocab`：OrderedDict 类型，键为 token，值为 id\n",
    "- `tokenizer.ids_to_tokens`：OrderedDict 类型，键为 id，值为 token\n",
    "- `len(tokenizer.vocab) == len(tokenizer.ids_to_tokens) == 30522`"
   ]
  },
  {
   "cell_type": "code",
   "execution_count": 4,
   "metadata": {
    "ExecuteTime": {
     "end_time": "2022-07-09T02:43:53.672683Z",
     "start_time": "2022-07-09T02:43:53.670232Z"
    },
    "tags": []
   },
   "outputs": [],
   "source": [
    "# tokenizer.vocab\n",
    "# tokenizer.ids_to_tokens"
   ]
  },
  {
   "cell_type": "code",
   "execution_count": 5,
   "metadata": {
    "ExecuteTime": {
     "end_time": "2022-07-09T02:43:27.055307Z",
     "start_time": "2022-07-09T02:43:27.050585Z"
    },
    "tags": []
   },
   "outputs": [
    {
     "data": {
      "text/plain": [
       "(30522, 30522)"
      ]
     },
     "execution_count": 5,
     "metadata": {},
     "output_type": "execute_result"
    }
   ],
   "source": [
    "len(tokenizer.vocab), len(tokenizer.ids_to_tokens)"
   ]
  },
  {
   "cell_type": "code",
   "execution_count": 6,
   "metadata": {
    "ExecuteTime": {
     "end_time": "2022-07-09T02:43:35.493500Z",
     "start_time": "2022-07-09T02:43:35.489465Z"
    },
    "tags": []
   },
   "outputs": [
    {
     "data": {
      "text/plain": [
       "100"
      ]
     },
     "execution_count": 6,
     "metadata": {},
     "output_type": "execute_result"
    }
   ],
   "source": [
    "tokenizer.vocab['[UNK]']   # 获取特定词的 id"
   ]
  },
  {
   "cell_type": "code",
   "execution_count": 7,
   "metadata": {
    "ExecuteTime": {
     "end_time": "2022-07-09T02:48:01.375569Z",
     "start_time": "2022-07-09T02:48:01.371231Z"
    },
    "tags": []
   },
   "outputs": [
    {
     "data": {
      "text/plain": [
       "['best', '##sell', '##ing']"
      ]
     },
     "execution_count": 7,
     "metadata": {},
     "output_type": "execute_result"
    }
   ],
   "source": [
    "tokenizer.tokenize('bestselling')   # tokenize 将 word 尽可能地映射为 vocab 中的 keys"
   ]
  },
  {
   "cell_type": "code",
   "execution_count": 8,
   "metadata": {
    "ExecuteTime": {
     "end_time": "2022-07-09T02:51:31.053715Z",
     "start_time": "2022-07-09T02:51:30.100811Z"
    },
    "tags": []
   },
   "outputs": [
    {
     "name": "stdout",
     "output_type": "stream",
     "text": [
      "5828\n"
     ]
    }
   ],
   "source": [
    "cnt_sharp = 0   # 统计 ## 开头的词汇的数量\n",
    "for token, id in tokenizer.vocab.items():\n",
    "    if token.startswith('##'):\n",
    "        # print(token)\n",
    "        cnt_sharp += 1\n",
    "print(cnt_sharp)"
   ]
  },
  {
   "cell_type": "markdown",
   "metadata": {},
   "source": [
    "## 2. 样本子词测试"
   ]
  },
  {
   "cell_type": "code",
   "execution_count": 9,
   "metadata": {
    "ExecuteTime": {
     "end_time": "2022-07-09T02:49:13.009587Z",
     "start_time": "2022-07-09T02:49:13.005825Z"
    },
    "tags": []
   },
   "outputs": [
    {
     "name": "stdout",
     "output_type": "stream",
     "text": [
      "[101, 2004, 5092, 2546, 2860, 5369, 11631, 2860, 19205, 2546, 102]\n",
      "['[CLS]', 'as', '##bo', '##f', '##w', '##he', '##oh', '##w', '##bei', '##f', '[SEP]']\n"
     ]
    }
   ],
   "source": [
    "inputs = tokenizer(s6)\n",
    "print(inputs['input_ids'])\n",
    "print(tokenizer.convert_ids_to_tokens(inputs['input_ids']))"
   ]
  },
  {
   "cell_type": "markdown",
   "metadata": {},
   "source": [
    "## 3. 小结"
   ]
  },
  {
   "cell_type": "markdown",
   "metadata": {},
   "source": [
    "- tokenizer 轻易不会将一个词处理为 `[UNK] (100)`\n",
    "- 基于词汇表，tokenize, encode, decode 为三个重要方法\n",
    "    - tokenize: word => tokens（将 word 尽可能地映射为 vocab 中的 keys）\n",
    "    - encode: token => id\n",
    "    - decode: id => token => word（decode 要能很好地将 id 还原，尽可能与输入的 word 对齐）"
   ]
  }
 ],
 "metadata": {
  "kernelspec": {
   "display_name": "Python 3 (ipykernel)",
   "language": "python",
   "name": "python3"
  },
  "language_info": {
   "codemirror_mode": {
    "name": "ipython",
    "version": 3
   },
   "file_extension": ".py",
   "mimetype": "text/x-python",
   "name": "python",
   "nbconvert_exporter": "python",
   "pygments_lexer": "ipython3",
   "version": "3.8.10"
  }
 },
 "nbformat": 4,
 "nbformat_minor": 4
}
