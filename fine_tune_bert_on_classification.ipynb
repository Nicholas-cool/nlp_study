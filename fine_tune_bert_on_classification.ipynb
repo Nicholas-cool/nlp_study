{
 "cells": [
  {
   "cell_type": "markdown",
   "id": "0175bd5a-bf0c-41c0-ba91-e57c32e26dbc",
   "metadata": {
    "pycharm": {
     "name": "#%% md\n"
    }
   },
   "source": [
    "# BERT fine-tuning 文本分类"
   ]
  },
  {
   "cell_type": "code",
   "execution_count": 2,
   "id": "c7662b72",
   "metadata": {
    "ExecuteTime": {
     "end_time": "2023-04-16T03:10:42.569793Z",
     "start_time": "2023-04-16T03:10:41.060396Z"
    },
    "tags": [],
    "pycharm": {
     "name": "#%%\n"
    }
   },
   "outputs": [],
   "source": [
    "import torch\n",
    "from torch import nn\n",
    "import transformers\n",
    "import numpy as np\n",
    "import pandas as pd\n",
    "import matplotlib.pyplot as plt"
   ]
  },
  {
   "cell_type": "code",
   "execution_count": 3,
   "id": "1c3b6da3",
   "metadata": {
    "ExecuteTime": {
     "end_time": "2023-04-16T03:10:44.059990Z",
     "start_time": "2023-04-16T03:10:44.054939Z"
    },
    "tags": [],
    "pycharm": {
     "name": "#%%\n"
    }
   },
   "outputs": [
    {
     "name": "stdout",
     "output_type": "stream",
     "text": [
      "2.0.0+cu118\n",
      "4.40.2\n"
     ]
    }
   ],
   "source": [
    "print(torch.__version__)\n",
    "print(transformers.__version__)"
   ]
  },
  {
   "cell_type": "code",
   "execution_count": 4,
   "id": "b8c744d9",
   "metadata": {
    "ExecuteTime": {
     "end_time": "2023-04-16T03:11:02.200638Z",
     "start_time": "2023-04-16T03:11:02.193759Z"
    },
    "tags": [],
    "pycharm": {
     "name": "#%%\n"
    }
   },
   "outputs": [],
   "source": [
    "import matplotlib as mpl\n",
    "# default: 100\n",
    "mpl.rcParams['figure.dpi'] = 200   # 分辨率调整"
   ]
  },
  {
   "cell_type": "markdown",
   "id": "45c148ff",
   "metadata": {
    "pycharm": {
     "name": "#%% md\n"
    }
   },
   "source": [
    "# text classification"
   ]
  },
  {
   "cell_type": "markdown",
   "id": "ceade67b",
   "metadata": {
    "pycharm": {
     "name": "#%% md\n"
    }
   },
   "source": [
    "- 也叫 sequence classification\n",
    "- sentiment analysis\n",
    "    - 情感分析，就是一种文本/序列分类\n",
    "        - 电商评论\n",
    "        - social web：weibo/tweet"
   ]
  },
  {
   "cell_type": "markdown",
   "id": "66fc6459",
   "metadata": {
    "pycharm": {
     "name": "#%% md\n"
    }
   },
   "source": [
    "## emotions 数据集"
   ]
  },
  {
   "cell_type": "code",
   "execution_count": 5,
   "id": "3abd91ab",
   "metadata": {
    "ExecuteTime": {
     "end_time": "2023-04-16T03:11:57.058240Z",
     "start_time": "2023-04-16T03:11:56.718499Z"
    },
    "tags": [],
    "pycharm": {
     "name": "#%%\n"
    }
   },
   "outputs": [],
   "source": [
    "from datasets import load_dataset"
   ]
  },
  {
   "cell_type": "code",
   "execution_count": 6,
   "id": "5fef5dac",
   "metadata": {
    "ExecuteTime": {
     "end_time": "2023-04-16T03:12:03.105243Z",
     "start_time": "2023-04-16T03:11:59.563901Z"
    },
    "tags": [],
    "pycharm": {
     "name": "#%%\n"
    }
   },
   "outputs": [
    {
     "name": "stderr",
     "output_type": "stream",
     "text": [
      "/root/miniconda3/lib/python3.8/site-packages/datasets/load.py:1486: FutureWarning: The repository for emotion contains custom code which must be executed to correctly load the dataset. You can inspect the repository content at https://hf.co/datasets/emotion\n",
      "You can avoid this message in future by passing the argument `trust_remote_code=True`.\n",
      "Passing `trust_remote_code=True` will be mandatory to load this dataset from the next major release of `datasets`.\n",
      "  warnings.warn(\n"
     ]
    }
   ],
   "source": [
    "emotions = load_dataset('emotion')"
   ]
  },
  {
   "cell_type": "code",
   "execution_count": 7,
   "id": "1c02d4aa",
   "metadata": {
    "ExecuteTime": {
     "end_time": "2023-04-16T03:12:07.424555Z",
     "start_time": "2023-04-16T03:12:07.413456Z"
    },
    "tags": [],
    "pycharm": {
     "name": "#%%\n"
    }
   },
   "outputs": [
    {
     "data": {
      "text/plain": [
       "DatasetDict({\n",
       "    train: Dataset({\n",
       "        features: ['text', 'label'],\n",
       "        num_rows: 16000\n",
       "    })\n",
       "    validation: Dataset({\n",
       "        features: ['text', 'label'],\n",
       "        num_rows: 2000\n",
       "    })\n",
       "    test: Dataset({\n",
       "        features: ['text', 'label'],\n",
       "        num_rows: 2000\n",
       "    })\n",
       "})"
      ]
     },
     "execution_count": 7,
     "metadata": {},
     "output_type": "execute_result"
    }
   ],
   "source": [
    "# DatasetDict\n",
    "# 8:1:1\n",
    "emotions"
   ]
  },
  {
   "cell_type": "code",
   "execution_count": 8,
   "id": "45bbd973",
   "metadata": {
    "ExecuteTime": {
     "end_time": "2023-04-16T03:12:39.288495Z",
     "start_time": "2023-04-16T03:12:39.278279Z"
    },
    "tags": [],
    "pycharm": {
     "name": "#%%\n"
    }
   },
   "outputs": [
    {
     "data": {
      "text/plain": [
       "dict_keys(['train', 'validation', 'test'])"
      ]
     },
     "execution_count": 8,
     "metadata": {},
     "output_type": "execute_result"
    }
   ],
   "source": [
    "emotions.keys()"
   ]
  },
  {
   "cell_type": "code",
   "execution_count": 9,
   "id": "cbedfd63",
   "metadata": {
    "ExecuteTime": {
     "end_time": "2023-04-16T03:12:49.433763Z",
     "start_time": "2023-04-16T03:12:49.362208Z"
    },
    "tags": [],
    "pycharm": {
     "name": "#%%\n"
    }
   },
   "outputs": [
    {
     "name": "stdout",
     "output_type": "stream",
     "text": [
      "Dataset({\n",
      "    features: ['text', 'label'],\n",
      "    num_rows: 16000\n",
      "}) <class 'datasets.arrow_dataset.Dataset'>\n",
      "=================================\n",
      "['i didnt feel humiliated', 'i can go from feeling so hopeless to so damned hopeful just from being around someone who cares and is awake', 'im grabbing a minute to post i feel greedy wrong', 'i am ever feeling nostalgic about the fireplace i will know that it is still on the property', 'i am feeling grouchy']\n",
      "[0, 0, 3, 2, 3]\n",
      "=================================\n",
      "{'text': ['i didnt feel humiliated', 'i can go from feeling so hopeless to so damned hopeful just from being around someone who cares and is awake', 'im grabbing a minute to post i feel greedy wrong', 'i am ever feeling nostalgic about the fireplace i will know that it is still on the property', 'i am feeling grouchy'], 'label': [0, 0, 3, 2, 3]}\n"
     ]
    }
   ],
   "source": [
    "print(emotions['train'], type(emotions['train']))\n",
    "print('=================================')\n",
    "# 继续支持 key\n",
    "print(emotions['train']['text'][:5])\n",
    "print(emotions['train']['label'][:5])\n",
    "print('=================================')\n",
    "# 支持 index\n",
    "print(emotions['train'][:5])"
   ]
  },
  {
   "cell_type": "code",
   "execution_count": 10,
   "id": "a0874919",
   "metadata": {
    "ExecuteTime": {
     "end_time": "2023-04-16T03:15:03.962063Z",
     "start_time": "2023-04-16T03:15:03.953895Z"
    },
    "tags": [],
    "pycharm": {
     "name": "#%%\n"
    }
   },
   "outputs": [
    {
     "name": "stdout",
     "output_type": "stream",
     "text": [
      "{'text': Value(dtype='string', id=None), 'label': ClassLabel(names=['sadness', 'joy', 'love', 'anger', 'fear', 'surprise'], id=None)}\n",
      "ClassLabel(names=['sadness', 'joy', 'love', 'anger', 'fear', 'surprise'], id=None)\n",
      "anger\n"
     ]
    }
   ],
   "source": [
    "print(emotions['train'].features)\n",
    "print(emotions['train'].features['label'])\n",
    "print(emotions['train'].features['label'].int2str(3))"
   ]
  },
  {
   "cell_type": "code",
   "execution_count": 11,
   "id": "e700ba91",
   "metadata": {
    "ExecuteTime": {
     "end_time": "2023-04-16T03:15:51.479891Z",
     "start_time": "2023-04-16T03:15:51.468396Z"
    },
    "tags": [],
    "pycharm": {
     "name": "#%%\n"
    }
   },
   "outputs": [
    {
     "name": "stdout",
     "output_type": "stream",
     "text": [
      "['sadness', 'joy', 'love', 'anger', 'fear', 'surprise']\n"
     ]
    },
    {
     "data": {
      "text/plain": [
       "6"
      ]
     },
     "execution_count": 11,
     "metadata": {},
     "output_type": "execute_result"
    }
   ],
   "source": [
    "labels = emotions['train'].features['label'].names\n",
    "print(labels)\n",
    "\n",
    "# 下游任务（downstream task）\n",
    "num_classes = len(labels)\n",
    "num_classes"
   ]
  },
  {
   "cell_type": "markdown",
   "id": "3faf41e8",
   "metadata": {
    "pycharm": {
     "name": "#%% md\n"
    }
   },
   "source": [
    "## data visualization analysis"
   ]
  },
  {
   "cell_type": "markdown",
   "id": "f7b75071",
   "metadata": {
    "pycharm": {
     "name": "#%% md\n"
    }
   },
   "source": [
    "- dataset => dataframe\n",
    "- text length \n",
    "- label freq"
   ]
  },
  {
   "cell_type": "markdown",
   "id": "00b51930",
   "metadata": {
    "pycharm": {
     "name": "#%% md\n"
    }
   },
   "source": [
    "### dataset to dataframe"
   ]
  },
  {
   "cell_type": "code",
   "execution_count": 12,
   "id": "a40d028e",
   "metadata": {
    "ExecuteTime": {
     "end_time": "2023-04-16T03:16:44.573084Z",
     "start_time": "2023-04-16T03:16:44.128889Z"
    },
    "tags": [],
    "pycharm": {
     "name": "#%%\n"
    }
   },
   "outputs": [],
   "source": [
    "emotions_df = pd.DataFrame.from_dict(emotions['train'])"
   ]
  },
  {
   "cell_type": "code",
   "execution_count": 13,
   "id": "48417009",
   "metadata": {
    "ExecuteTime": {
     "end_time": "2023-04-16T03:16:53.933414Z",
     "start_time": "2023-04-16T03:16:53.922881Z"
    },
    "tags": [],
    "pycharm": {
     "name": "#%%\n"
    }
   },
   "outputs": [
    {
     "name": "stdout",
     "output_type": "stream",
     "text": [
      "(16000, 2) Index(['text', 'label'], dtype='object')\n"
     ]
    },
    {
     "data": {
      "text/html": [
       "<div>\n",
       "<style scoped>\n",
       "    .dataframe tbody tr th:only-of-type {\n",
       "        vertical-align: middle;\n",
       "    }\n",
       "\n",
       "    .dataframe tbody tr th {\n",
       "        vertical-align: top;\n",
       "    }\n",
       "\n",
       "    .dataframe thead th {\n",
       "        text-align: right;\n",
       "    }\n",
       "</style>\n",
       "<table border=\"1\" class=\"dataframe\">\n",
       "  <thead>\n",
       "    <tr style=\"text-align: right;\">\n",
       "      <th></th>\n",
       "      <th>text</th>\n",
       "      <th>label</th>\n",
       "    </tr>\n",
       "  </thead>\n",
       "  <tbody>\n",
       "    <tr>\n",
       "      <th>0</th>\n",
       "      <td>i didnt feel humiliated</td>\n",
       "      <td>0</td>\n",
       "    </tr>\n",
       "    <tr>\n",
       "      <th>1</th>\n",
       "      <td>i can go from feeling so hopeless to so damned...</td>\n",
       "      <td>0</td>\n",
       "    </tr>\n",
       "    <tr>\n",
       "      <th>2</th>\n",
       "      <td>im grabbing a minute to post i feel greedy wrong</td>\n",
       "      <td>3</td>\n",
       "    </tr>\n",
       "    <tr>\n",
       "      <th>3</th>\n",
       "      <td>i am ever feeling nostalgic about the fireplac...</td>\n",
       "      <td>2</td>\n",
       "    </tr>\n",
       "    <tr>\n",
       "      <th>4</th>\n",
       "      <td>i am feeling grouchy</td>\n",
       "      <td>3</td>\n",
       "    </tr>\n",
       "  </tbody>\n",
       "</table>\n",
       "</div>"
      ],
      "text/plain": [
       "                                                text  label\n",
       "0                            i didnt feel humiliated      0\n",
       "1  i can go from feeling so hopeless to so damned...      0\n",
       "2   im grabbing a minute to post i feel greedy wrong      3\n",
       "3  i am ever feeling nostalgic about the fireplac...      2\n",
       "4                               i am feeling grouchy      3"
      ]
     },
     "execution_count": 13,
     "metadata": {},
     "output_type": "execute_result"
    }
   ],
   "source": [
    "print(emotions_df.shape, emotions_df.columns)\n",
    "emotions_df[:5]"
   ]
  },
  {
   "cell_type": "code",
   "execution_count": 14,
   "id": "298c1fbf",
   "metadata": {
    "ExecuteTime": {
     "end_time": "2023-04-16T03:17:31.036831Z",
     "start_time": "2023-04-16T03:17:31.021420Z"
    },
    "tags": [],
    "pycharm": {
     "name": "#%%\n"
    }
   },
   "outputs": [
    {
     "data": {
      "text/html": [
       "<div>\n",
       "<style scoped>\n",
       "    .dataframe tbody tr th:only-of-type {\n",
       "        vertical-align: middle;\n",
       "    }\n",
       "\n",
       "    .dataframe tbody tr th {\n",
       "        vertical-align: top;\n",
       "    }\n",
       "\n",
       "    .dataframe thead th {\n",
       "        text-align: right;\n",
       "    }\n",
       "</style>\n",
       "<table border=\"1\" class=\"dataframe\">\n",
       "  <thead>\n",
       "    <tr style=\"text-align: right;\">\n",
       "      <th></th>\n",
       "      <th>text</th>\n",
       "      <th>label</th>\n",
       "      <th>label_name</th>\n",
       "    </tr>\n",
       "  </thead>\n",
       "  <tbody>\n",
       "    <tr>\n",
       "      <th>0</th>\n",
       "      <td>i didnt feel humiliated</td>\n",
       "      <td>0</td>\n",
       "      <td>sadness</td>\n",
       "    </tr>\n",
       "    <tr>\n",
       "      <th>1</th>\n",
       "      <td>i can go from feeling so hopeless to so damned...</td>\n",
       "      <td>0</td>\n",
       "      <td>sadness</td>\n",
       "    </tr>\n",
       "    <tr>\n",
       "      <th>2</th>\n",
       "      <td>im grabbing a minute to post i feel greedy wrong</td>\n",
       "      <td>3</td>\n",
       "      <td>anger</td>\n",
       "    </tr>\n",
       "    <tr>\n",
       "      <th>3</th>\n",
       "      <td>i am ever feeling nostalgic about the fireplac...</td>\n",
       "      <td>2</td>\n",
       "      <td>love</td>\n",
       "    </tr>\n",
       "    <tr>\n",
       "      <th>4</th>\n",
       "      <td>i am feeling grouchy</td>\n",
       "      <td>3</td>\n",
       "      <td>anger</td>\n",
       "    </tr>\n",
       "  </tbody>\n",
       "</table>\n",
       "</div>"
      ],
      "text/plain": [
       "                                                text  label label_name\n",
       "0                            i didnt feel humiliated      0    sadness\n",
       "1  i can go from feeling so hopeless to so damned...      0    sadness\n",
       "2   im grabbing a minute to post i feel greedy wrong      3      anger\n",
       "3  i am ever feeling nostalgic about the fireplac...      2       love\n",
       "4                               i am feeling grouchy      3      anger"
      ]
     },
     "execution_count": 14,
     "metadata": {},
     "output_type": "execute_result"
    }
   ],
   "source": [
    "# emotions_df['label_name'] = emotions_df['label'].apply(lambda x: emotions['train'].features['label'].int2str(x))\n",
    "emotions_df['label_name'] = emotions_df['label'].apply(lambda x: labels[x])\n",
    "emotions_df[:5]"
   ]
  },
  {
   "cell_type": "markdown",
   "id": "17047c0f",
   "metadata": {
    "pycharm": {
     "name": "#%% md\n"
    }
   },
   "source": [
    "### label analysis"
   ]
  },
  {
   "cell_type": "code",
   "execution_count": 15,
   "id": "331aa7d9",
   "metadata": {
    "ExecuteTime": {
     "end_time": "2023-04-16T03:17:57.314838Z",
     "start_time": "2023-04-16T03:17:57.301124Z"
    },
    "tags": [],
    "pycharm": {
     "name": "#%%\n"
    }
   },
   "outputs": [
    {
     "data": {
      "text/plain": [
       "label\n",
       "1    5362\n",
       "0    4666\n",
       "3    2159\n",
       "4    1937\n",
       "2    1304\n",
       "5     572\n",
       "Name: count, dtype: int64"
      ]
     },
     "execution_count": 15,
     "metadata": {},
     "output_type": "execute_result"
    }
   ],
   "source": [
    "emotions_df.label.value_counts()"
   ]
  },
  {
   "cell_type": "code",
   "execution_count": 16,
   "id": "8680e152",
   "metadata": {
    "ExecuteTime": {
     "end_time": "2023-04-16T03:18:24.250409Z",
     "start_time": "2023-04-16T03:18:24.235434Z"
    },
    "tags": [],
    "pycharm": {
     "name": "#%%\n"
    }
   },
   "outputs": [
    {
     "data": {
      "text/plain": [
       "label_name\n",
       "joy         5362\n",
       "sadness     4666\n",
       "anger       2159\n",
       "fear        1937\n",
       "love        1304\n",
       "surprise     572\n",
       "Name: count, dtype: int64"
      ]
     },
     "execution_count": 16,
     "metadata": {},
     "output_type": "execute_result"
    }
   ],
   "source": [
    "emotions_df.label_name.value_counts()"
   ]
  },
  {
   "cell_type": "code",
   "execution_count": 17,
   "id": "d3270335",
   "metadata": {
    "ExecuteTime": {
     "end_time": "2023-04-16T03:18:39.893017Z",
     "start_time": "2023-04-16T03:18:39.634638Z"
    },
    "tags": [],
    "pycharm": {
     "name": "#%%\n"
    }
   },
   "outputs": [
    {
     "data": {
      "text/plain": [
       "Text(0.5, 1.0, 'freq of labels')"
      ]
     },
     "execution_count": 17,
     "metadata": {},
     "output_type": "execute_result"
    },
    {
     "data": {
      "image/png": "[encoded data removed]",
      "text/plain": [
       "<Figure size 800x600 with 1 Axes>"
      ]
     },
     "metadata": {},
     "output_type": "display_data"
    }
   ],
   "source": [
    "plt.figure(figsize=(4, 3))\n",
    "emotions_df['label_name'].value_counts(ascending=True).plot.barh()\n",
    "plt.title('freq of labels')"
   ]
  },
  {
   "cell_type": "markdown",
   "id": "c123332a",
   "metadata": {
    "pycharm": {
     "name": "#%% md\n"
    }
   },
   "source": [
    "### text length analysis"
   ]
  },
  {
   "cell_type": "code",
   "execution_count": 18,
   "id": "f4334532",
   "metadata": {
    "ExecuteTime": {
     "end_time": "2023-04-16T03:19:29.180285Z",
     "start_time": "2023-04-16T03:19:28.839967Z"
    },
    "tags": [],
    "pycharm": {
     "name": "#%%\n"
    }
   },
   "outputs": [
    {
     "data": {
      "text/plain": [
       "Text(0.5, 0, '')"
      ]
     },
     "execution_count": 18,
     "metadata": {},
     "output_type": "execute_result"
    },
    {
     "data": {
      "text/plain": [
       "<Figure size 800x600 with 0 Axes>"
      ]
     },
     "metadata": {},
     "output_type": "display_data"
    },
    {
     "data": {
      "image/png": "[encoded data removed]",
      "text/plain": [
       "<Figure size 1280x960 with 1 Axes>"
      ]
     },
     "metadata": {},
     "output_type": "display_data"
    }
   ],
   "source": [
    "plt.figure(figsize=(4, 3))\n",
    "emotions_df['words per tweet'] = emotions_df['text'].str.split().apply(len)\n",
    "emotions_df.boxplot('words per tweet', by='label_name', \n",
    "#                     showfliers=False, \n",
    "                    grid=False, \n",
    "                    color='black')\n",
    "plt.suptitle('')\n",
    "plt.xlabel('')"
   ]
  },
  {
   "cell_type": "code",
   "execution_count": 19,
   "id": "e9ad1097",
   "metadata": {
    "ExecuteTime": {
     "end_time": "2023-04-16T03:19:41.946028Z",
     "start_time": "2023-04-16T03:19:41.937780Z"
    },
    "tags": [],
    "pycharm": {
     "name": "#%%\n"
    }
   },
   "outputs": [
    {
     "name": "stdout",
     "output_type": "stream",
     "text": [
      "66\n",
      "6322\n"
     ]
    }
   ],
   "source": [
    "print(emotions_df['words per tweet'].max())\n",
    "print(emotions_df['words per tweet'].idxmax())"
   ]
  },
  {
   "cell_type": "code",
   "execution_count": 20,
   "id": "1a61caba",
   "metadata": {
    "ExecuteTime": {
     "end_time": "2023-04-16T03:19:50.013668Z",
     "start_time": "2023-04-16T03:19:50.000778Z"
    },
    "tags": [],
    "pycharm": {
     "name": "#%%\n"
    }
   },
   "outputs": [
    {
     "name": "stdout",
     "output_type": "stream",
     "text": [
      "text               i guess which meant or so i assume no photos n...\n",
      "label                                                              0\n",
      "label_name                                                   sadness\n",
      "words per tweet                                                   66\n",
      "Name: 6322, dtype: object\n"
     ]
    },
    {
     "data": {
      "text/plain": [
       "'i guess which meant or so i assume no photos no words or no other way to convey what it really feels unless you feels it yourself or khi bi t au th m i bi t th ng ng i b au i rephrase it to a bit more gloomy context unless you are hurt yourself you will never have sympathy for the hurt ones'"
      ]
     },
     "execution_count": 20,
     "metadata": {},
     "output_type": "execute_result"
    }
   ],
   "source": [
    "print(emotions_df.iloc[6322])\n",
    "emotions_df.iloc[6322]['text']"
   ]
  },
  {
   "cell_type": "code",
   "execution_count": 21,
   "id": "bd0a6880",
   "metadata": {
    "ExecuteTime": {
     "end_time": "2023-04-16T03:20:19.372025Z",
     "start_time": "2023-04-16T03:20:19.363824Z"
    },
    "tags": [],
    "pycharm": {
     "name": "#%%\n"
    }
   },
   "outputs": [
    {
     "name": "stdout",
     "output_type": "stream",
     "text": [
      "2\n",
      "4150\n"
     ]
    }
   ],
   "source": [
    "print(emotions_df['words per tweet'].min())\n",
    "print(emotions_df['words per tweet'].idxmin())"
   ]
  },
  {
   "cell_type": "code",
   "execution_count": 22,
   "id": "85843cc5",
   "metadata": {
    "ExecuteTime": {
     "end_time": "2023-04-16T03:20:25.313810Z",
     "start_time": "2023-04-16T03:20:25.300632Z"
    },
    "tags": [],
    "pycharm": {
     "name": "#%%\n"
    }
   },
   "outputs": [
    {
     "data": {
      "text/plain": [
       "text               earth crake\n",
       "label                        4\n",
       "label_name                fear\n",
       "words per tweet              2\n",
       "Name: 4150, dtype: object"
      ]
     },
     "execution_count": 22,
     "metadata": {},
     "output_type": "execute_result"
    }
   ],
   "source": [
    "emotions_df.iloc[4150]"
   ]
  },
  {
   "cell_type": "markdown",
   "id": "7922006e",
   "metadata": {
    "pycharm": {
     "name": "#%% md\n"
    }
   },
   "source": [
    "## text => tokens"
   ]
  },
  {
   "cell_type": "markdown",
   "id": "2050b9ab",
   "metadata": {
    "pycharm": {
     "name": "#%% md\n"
    }
   },
   "source": [
    "数据集转换为模型接受的输入类型\n",
    "- Subword Tokenization\n",
    "    - WordPiece\n",
    "        - BERT and DistilBERT\n",
    "- hugging face:\n",
    "    - `~/.cache/huggingface/`\n",
    "- tokenizer\n",
    "    - `tokenizer.vocab_size`\n",
    "    - model config\n",
    "        - `tokenizer.model_max_length`\n",
    "        - `tokenizer.model_input_names`"
   ]
  },
  {
   "cell_type": "markdown",
   "id": "fc384efb",
   "metadata": {
    "pycharm": {
     "name": "#%% md\n"
    }
   },
   "source": [
    "### tokenizer"
   ]
  },
  {
   "cell_type": "code",
   "execution_count": 23,
   "id": "fefa9f6e",
   "metadata": {
    "ExecuteTime": {
     "end_time": "2023-04-16T03:21:31.998581Z",
     "start_time": "2023-04-16T03:21:31.894927Z"
    },
    "tags": [],
    "pycharm": {
     "name": "#%%\n"
    }
   },
   "outputs": [],
   "source": [
    "from transformers import AutoTokenizer"
   ]
  },
  {
   "cell_type": "code",
   "execution_count": 24,
   "id": "a9fa8c2b",
   "metadata": {
    "ExecuteTime": {
     "end_time": "2023-04-16T03:21:37.331219Z",
     "start_time": "2023-04-16T03:21:36.885441Z"
    },
    "tags": [],
    "pycharm": {
     "name": "#%%\n"
    }
   },
   "outputs": [
    {
     "name": "stderr",
     "output_type": "stream",
     "text": [
      "/root/miniconda3/lib/python3.8/site-packages/huggingface_hub/file_download.py:1132: FutureWarning: `resume_download` is deprecated and will be removed in version 1.0.0. Downloads always resume when possible. If you want to force a new download, use `force_download=True`.\n",
      "  warnings.warn(\n"
     ]
    }
   ],
   "source": [
    "model_ckpt = 'distilbert-base-uncased'\n",
    "tokenizer = AutoTokenizer.from_pretrained(model_ckpt)"
   ]
  },
  {
   "cell_type": "code",
   "execution_count": 25,
   "id": "eff26029",
   "metadata": {
    "ExecuteTime": {
     "end_time": "2023-04-16T03:22:02.988257Z",
     "start_time": "2023-04-16T03:22:02.968686Z"
    },
    "tags": [],
    "pycharm": {
     "name": "#%%\n"
    }
   },
   "outputs": [
    {
     "name": "stdout",
     "output_type": "stream",
     "text": [
      "[101, 7592, 2088, 102]\n",
      "[101, 7592, 2088, 102]\n",
      "[101, 7592, 2088, 102]\n"
     ]
    }
   ],
   "source": [
    "# uncased\n",
    "print(tokenizer.encode('hello world'))\n",
    "print(tokenizer.encode('HELLO WORLD'))\n",
    "print(tokenizer.encode('Hello World'))"
   ]
  },
  {
   "cell_type": "code",
   "execution_count": 26,
   "id": "e2ff594e",
   "metadata": {
    "ExecuteTime": {
     "end_time": "2023-04-16T03:22:27.555382Z",
     "start_time": "2023-04-16T03:22:27.542159Z"
    },
    "scrolled": true,
    "tags": [],
    "pycharm": {
     "name": "#%%\n"
    }
   },
   "outputs": [
    {
     "data": {
      "text/plain": [
       "[101,\n",
       " 1045,\n",
       " 3984,\n",
       " 2029,\n",
       " 3214,\n",
       " 2030,\n",
       " 2061,\n",
       " 1045,\n",
       " 7868,\n",
       " 2053,\n",
       " 7760,\n",
       " 2053,\n",
       " 2616,\n",
       " 2030,\n",
       " 2053,\n",
       " 2060,\n",
       " 2126,\n",
       " 2000,\n",
       " 16636,\n",
       " 2054,\n",
       " 2009,\n",
       " 2428,\n",
       " 5683,\n",
       " 4983,\n",
       " 2017,\n",
       " 5683,\n",
       " 2009,\n",
       " 4426,\n",
       " 2030,\n",
       " 1047,\n",
       " 4048,\n",
       " 12170,\n",
       " 1056,\n",
       " 8740,\n",
       " 16215,\n",
       " 1049,\n",
       " 1045,\n",
       " 12170,\n",
       " 1056,\n",
       " 16215,\n",
       " 12835,\n",
       " 12835,\n",
       " 1045,\n",
       " 1038,\n",
       " 8740,\n",
       " 1045,\n",
       " 16360,\n",
       " 13492,\n",
       " 3366,\n",
       " 2009,\n",
       " 2000,\n",
       " 1037,\n",
       " 2978,\n",
       " 2062,\n",
       " 24067,\n",
       " 2100,\n",
       " 6123,\n",
       " 4983,\n",
       " 2017,\n",
       " 2024,\n",
       " 3480,\n",
       " 4426,\n",
       " 2017,\n",
       " 2097,\n",
       " 2196,\n",
       " 2031,\n",
       " 11883,\n",
       " 2005,\n",
       " 1996,\n",
       " 3480,\n",
       " 3924,\n",
       " 102]"
      ]
     },
     "execution_count": 26,
     "metadata": {},
     "output_type": "execute_result"
    }
   ],
   "source": [
    "# 101([CLS]) 开始，以 102 ([SEP]) 结束\n",
    "tokenizer.encode(emotions_df.iloc[6322]['text'])"
   ]
  },
  {
   "cell_type": "code",
   "execution_count": 27,
   "id": "d9e5e3e9",
   "metadata": {
    "ExecuteTime": {
     "end_time": "2023-04-16T03:22:48.912662Z",
     "start_time": "2023-04-16T03:22:48.905432Z"
    },
    "tags": [],
    "pycharm": {
     "name": "#%%\n"
    }
   },
   "outputs": [
    {
     "name": "stdout",
     "output_type": "stream",
     "text": [
      "30522\n",
      "512\n",
      "['input_ids', 'attention_mask']\n"
     ]
    }
   ],
   "source": [
    "print(tokenizer.vocab_size)\n",
    "print(tokenizer.model_max_length)\n",
    "print(tokenizer.model_input_names)"
   ]
  },
  {
   "cell_type": "code",
   "execution_count": 28,
   "id": "4167e955",
   "metadata": {
    "ExecuteTime": {
     "end_time": "2023-04-16T03:23:23.631699Z",
     "start_time": "2023-04-16T03:23:23.625571Z"
    },
    "tags": [],
    "pycharm": {
     "name": "#%%\n"
    }
   },
   "outputs": [
    {
     "name": "stdout",
     "output_type": "stream",
     "text": [
      "100 [UNK]\n",
      "102 [SEP]\n",
      "0 [PAD]\n",
      "101 [CLS]\n",
      "103 [MASK]\n"
     ]
    }
   ],
   "source": [
    "for special_id in tokenizer.all_special_ids:\n",
    "    print(special_id, tokenizer.decode(special_id))"
   ]
  },
  {
   "cell_type": "markdown",
   "id": "421f0df4",
   "metadata": {
    "pycharm": {
     "name": "#%% md\n"
    }
   },
   "source": [
    "### tokenize the whole dataset"
   ]
  },
  {
   "cell_type": "code",
   "execution_count": 29,
   "id": "4eb3661f",
   "metadata": {
    "ExecuteTime": {
     "end_time": "2023-04-16T03:23:52.516614Z",
     "start_time": "2023-04-16T03:23:52.510127Z"
    },
    "tags": [],
    "pycharm": {
     "name": "#%%\n"
    }
   },
   "outputs": [],
   "source": [
    "def batch_tokenize(batch):\n",
    "    return tokenizer(batch['text'], padding=True, truncation=True)"
   ]
  },
  {
   "cell_type": "code",
   "execution_count": 30,
   "id": "935d79d6",
   "metadata": {
    "ExecuteTime": {
     "end_time": "2023-04-16T03:24:06.845931Z",
     "start_time": "2023-04-16T03:24:06.601720Z"
    },
    "tags": [],
    "pycharm": {
     "name": "#%%\n"
    }
   },
   "outputs": [
    {
     "data": {
      "application/vnd.jupyter.widget-view+json": {
       "model_id": "200bdaeb640546ea867abdac7336b9ab",
       "version_major": 2,
       "version_minor": 0
      },
      "text/plain": [
       "Map:   0%|          | 0/2000 [00:00<?, ? examples/s]"
      ]
     },
     "metadata": {},
     "output_type": "display_data"
    }
   ],
   "source": [
    "# batch_tokenize(emotions['train'])\n",
    "emotions_encoded = emotions.map(batch_tokenize, batched=True, batch_size=None)"
   ]
  },
  {
   "cell_type": "code",
   "execution_count": 31,
   "id": "c94751fd",
   "metadata": {
    "ExecuteTime": {
     "end_time": "2023-04-16T03:24:22.415245Z",
     "start_time": "2023-04-16T03:24:22.407207Z"
    },
    "tags": [],
    "pycharm": {
     "name": "#%%\n"
    }
   },
   "outputs": [
    {
     "data": {
      "text/plain": [
       "DatasetDict({\n",
       "    train: Dataset({\n",
       "        features: ['text', 'label', 'input_ids', 'attention_mask'],\n",
       "        num_rows: 16000\n",
       "    })\n",
       "    validation: Dataset({\n",
       "        features: ['text', 'label', 'input_ids', 'attention_mask'],\n",
       "        num_rows: 2000\n",
       "    })\n",
       "    test: Dataset({\n",
       "        features: ['text', 'label', 'input_ids', 'attention_mask'],\n",
       "        num_rows: 2000\n",
       "    })\n",
       "})"
      ]
     },
     "execution_count": 31,
     "metadata": {},
     "output_type": "execute_result"
    }
   ],
   "source": [
    "emotions_encoded   # 此时得到了 input_ids 和 attention_mask"
   ]
  },
  {
   "cell_type": "code",
   "execution_count": 32,
   "id": "4824d445",
   "metadata": {
    "ExecuteTime": {
     "end_time": "2023-04-16T03:26:12.147121Z",
     "start_time": "2023-04-16T03:26:11.743699Z"
    },
    "tags": [],
    "pycharm": {
     "name": "#%%\n"
    }
   },
   "outputs": [
    {
     "name": "stdout",
     "output_type": "stream",
     "text": [
      "<class 'list'>\n"
     ]
    }
   ],
   "source": [
    "print(type(emotions_encoded['train']['input_ids']))   # list of list\n",
    "# emotions_encoded['train']['input_ids'][:3]"
   ]
  },
  {
   "cell_type": "code",
   "execution_count": 33,
   "id": "28355b03",
   "metadata": {
    "ExecuteTime": {
     "end_time": "2023-04-16T03:26:39.252975Z",
     "start_time": "2023-04-16T03:26:39.248290Z"
    },
    "tags": [],
    "pycharm": {
     "name": "#%%\n"
    }
   },
   "outputs": [],
   "source": [
    "# list to tensor\n",
    "emotions_encoded.set_format('torch', columns=['label', 'input_ids', 'attention_mask'])"
   ]
  },
  {
   "cell_type": "code",
   "execution_count": 34,
   "id": "eaf7b8fc",
   "metadata": {
    "ExecuteTime": {
     "end_time": "2023-04-16T03:26:51.213741Z",
     "start_time": "2023-04-16T03:26:51.158188Z"
    },
    "tags": [],
    "pycharm": {
     "name": "#%%\n"
    }
   },
   "outputs": [
    {
     "data": {
      "text/plain": [
       "torch.Tensor"
      ]
     },
     "execution_count": 34,
     "metadata": {},
     "output_type": "execute_result"
    }
   ],
   "source": [
    "type(emotions_encoded['train']['input_ids'])\n",
    "# emotions_encoded['train']['input_ids'][:3]"
   ]
  },
  {
   "cell_type": "markdown",
   "id": "732c0ab8",
   "metadata": {
    "pycharm": {
     "name": "#%% md\n"
    }
   },
   "source": [
    "# fine-tune transformers"
   ]
  },
  {
   "cell_type": "markdown",
   "id": "e9a5aade",
   "metadata": {
    "pycharm": {
     "name": "#%% md\n"
    }
   },
   "source": [
    "## distilbert-base-uncased"
   ]
  },
  {
   "cell_type": "markdown",
   "id": "49aea3b3",
   "metadata": {
    "pycharm": {
     "name": "#%% md\n"
    }
   },
   "source": [
    "- distilbert 是对 bert 的 distill 而来\n",
    "    - 模型结构更为简单，\n",
    "    - bert-base-uncased 参数量：109482240\n",
    "    - distilbert-base-uncased 参数量：66362880"
   ]
  },
  {
   "cell_type": "code",
   "execution_count": 35,
   "id": "39c36c93",
   "metadata": {
    "ExecuteTime": {
     "end_time": "2023-04-16T03:27:29.425400Z",
     "start_time": "2023-04-16T03:27:28.193454Z"
    },
    "tags": [],
    "pycharm": {
     "name": "#%%\n"
    }
   },
   "outputs": [
    {
     "data": {
      "text/plain": [
       "DistilBertModel(\n",
       "  (embeddings): Embeddings(\n",
       "    (word_embeddings): Embedding(30522, 768, padding_idx=0)\n",
       "    (position_embeddings): Embedding(512, 768)\n",
       "    (LayerNorm): LayerNorm((768,), eps=1e-12, elementwise_affine=True)\n",
       "    (dropout): Dropout(p=0.1, inplace=False)\n",
       "  )\n",
       "  (transformer): Transformer(\n",
       "    (layer): ModuleList(\n",
       "      (0-5): 6 x TransformerBlock(\n",
       "        (attention): MultiHeadSelfAttention(\n",
       "          (dropout): Dropout(p=0.1, inplace=False)\n",
       "          (q_lin): Linear(in_features=768, out_features=768, bias=True)\n",
       "          (k_lin): Linear(in_features=768, out_features=768, bias=True)\n",
       "          (v_lin): Linear(in_features=768, out_features=768, bias=True)\n",
       "          (out_lin): Linear(in_features=768, out_features=768, bias=True)\n",
       "        )\n",
       "        (sa_layer_norm): LayerNorm((768,), eps=1e-12, elementwise_affine=True)\n",
       "        (ffn): FFN(\n",
       "          (dropout): Dropout(p=0.1, inplace=False)\n",
       "          (lin1): Linear(in_features=768, out_features=3072, bias=True)\n",
       "          (lin2): Linear(in_features=3072, out_features=768, bias=True)\n",
       "          (activation): GELUActivation()\n",
       "        )\n",
       "        (output_layer_norm): LayerNorm((768,), eps=1e-12, elementwise_affine=True)\n",
       "      )\n",
       "    )\n",
       "  )\n",
       ")"
      ]
     },
     "execution_count": 35,
     "metadata": {},
     "output_type": "execute_result"
    }
   ],
   "source": [
    "from transformers import AutoModel\n",
    "model_ckpt = 'distilbert-base-uncased'\n",
    "model = AutoModel.from_pretrained(model_ckpt)\n",
    "model"
   ]
  },
  {
   "cell_type": "code",
   "execution_count": 36,
   "id": "d8072945",
   "metadata": {
    "ExecuteTime": {
     "end_time": "2023-04-16T03:28:06.827640Z",
     "start_time": "2023-04-16T03:28:06.478840Z"
    },
    "tags": [],
    "pycharm": {
     "name": "#%%\n"
    }
   },
   "outputs": [],
   "source": [
    "from transformers_utils import get_params"
   ]
  },
  {
   "cell_type": "code",
   "execution_count": 37,
   "id": "596b7c7f",
   "metadata": {
    "ExecuteTime": {
     "end_time": "2023-04-16T03:28:20.889251Z",
     "start_time": "2023-04-16T03:28:20.878145Z"
    },
    "tags": [],
    "pycharm": {
     "name": "#%%\n"
    }
   },
   "outputs": [
    {
     "data": {
      "text/plain": [
       "66362880"
      ]
     },
     "execution_count": 37,
     "metadata": {},
     "output_type": "execute_result"
    }
   ],
   "source": [
    "get_params(model)"
   ]
  },
  {
   "cell_type": "code",
   "execution_count": 38,
   "id": "65438d54",
   "metadata": {
    "ExecuteTime": {
     "end_time": "2023-04-16T03:28:36.824993Z",
     "start_time": "2023-04-16T03:28:35.024464Z"
    },
    "tags": [],
    "pycharm": {
     "name": "#%%\n"
    }
   },
   "outputs": [
    {
     "name": "stderr",
     "output_type": "stream",
     "text": [
      "/root/miniconda3/lib/python3.8/site-packages/huggingface_hub/file_download.py:1132: FutureWarning: `resume_download` is deprecated and will be removed in version 1.0.0. Downloads always resume when possible. If you want to force a new download, use `force_download=True`.\n",
      "  warnings.warn(\n"
     ]
    },
    {
     "data": {
      "text/plain": [
       "109482240"
      ]
     },
     "execution_count": 38,
     "metadata": {},
     "output_type": "execute_result"
    }
   ],
   "source": [
    "from transformers import AutoModel\n",
    "model_ckpt = 'bert-base-uncased'\n",
    "model = AutoModel.from_pretrained(model_ckpt)\n",
    "get_params(model)"
   ]
  },
  {
   "cell_type": "code",
   "execution_count": 39,
   "id": "e88c3348",
   "metadata": {
    "ExecuteTime": {
     "end_time": "2023-04-16T03:28:52.500866Z",
     "start_time": "2023-04-16T03:28:52.493212Z"
    },
    "tags": [],
    "pycharm": {
     "name": "#%%\n"
    }
   },
   "outputs": [
    {
     "data": {
      "text/plain": [
       "1.6497511862053003"
      ]
     },
     "execution_count": 39,
     "metadata": {},
     "output_type": "execute_result"
    }
   ],
   "source": [
    "109482240 / 66362880"
   ]
  },
  {
   "cell_type": "code",
   "execution_count": 40,
   "id": "52d9374a",
   "metadata": {
    "ExecuteTime": {
     "end_time": "2023-04-16T03:28:59.292347Z",
     "start_time": "2023-04-16T03:28:59.279728Z"
    },
    "tags": [],
    "pycharm": {
     "name": "#%%\n"
    }
   },
   "outputs": [
    {
     "data": {
      "text/plain": [
       "BertModel(\n",
       "  (embeddings): BertEmbeddings(\n",
       "    (word_embeddings): Embedding(30522, 768, padding_idx=0)\n",
       "    (position_embeddings): Embedding(512, 768)\n",
       "    (token_type_embeddings): Embedding(2, 768)\n",
       "    (LayerNorm): LayerNorm((768,), eps=1e-12, elementwise_affine=True)\n",
       "    (dropout): Dropout(p=0.1, inplace=False)\n",
       "  )\n",
       "  (encoder): BertEncoder(\n",
       "    (layer): ModuleList(\n",
       "      (0-11): 12 x BertLayer(\n",
       "        (attention): BertAttention(\n",
       "          (self): BertSelfAttention(\n",
       "            (query): Linear(in_features=768, out_features=768, bias=True)\n",
       "            (key): Linear(in_features=768, out_features=768, bias=True)\n",
       "            (value): Linear(in_features=768, out_features=768, bias=True)\n",
       "            (dropout): Dropout(p=0.1, inplace=False)\n",
       "          )\n",
       "          (output): BertSelfOutput(\n",
       "            (dense): Linear(in_features=768, out_features=768, bias=True)\n",
       "            (LayerNorm): LayerNorm((768,), eps=1e-12, elementwise_affine=True)\n",
       "            (dropout): Dropout(p=0.1, inplace=False)\n",
       "          )\n",
       "        )\n",
       "        (intermediate): BertIntermediate(\n",
       "          (dense): Linear(in_features=768, out_features=3072, bias=True)\n",
       "          (intermediate_act_fn): GELUActivation()\n",
       "        )\n",
       "        (output): BertOutput(\n",
       "          (dense): Linear(in_features=3072, out_features=768, bias=True)\n",
       "          (LayerNorm): LayerNorm((768,), eps=1e-12, elementwise_affine=True)\n",
       "          (dropout): Dropout(p=0.1, inplace=False)\n",
       "        )\n",
       "      )\n",
       "    )\n",
       "  )\n",
       "  (pooler): BertPooler(\n",
       "    (dense): Linear(in_features=768, out_features=768, bias=True)\n",
       "    (activation): Tanh()\n",
       "  )\n",
       ")"
      ]
     },
     "execution_count": 40,
     "metadata": {},
     "output_type": "execute_result"
    }
   ],
   "source": [
    "model"
   ]
  },
  {
   "cell_type": "code",
   "execution_count": 41,
   "id": "13903119",
   "metadata": {
    "ExecuteTime": {
     "end_time": "2023-04-16T03:31:05.095455Z",
     "start_time": "2023-04-16T03:31:01.744227Z"
    },
    "tags": [],
    "pycharm": {
     "name": "#%%\n"
    }
   },
   "outputs": [
    {
     "name": "stderr",
     "output_type": "stream",
     "text": [
      "Some weights of DistilBertForSequenceClassification were not initialized from the model checkpoint at distilbert-base-uncased and are newly initialized: ['classifier.bias', 'classifier.weight', 'pre_classifier.bias', 'pre_classifier.weight']\n",
      "You should probably TRAIN this model on a down-stream task to be able to use it for predictions and inference.\n"
     ]
    },
    {
     "data": {
      "text/plain": [
       "DistilBertForSequenceClassification(\n",
       "  (distilbert): DistilBertModel(\n",
       "    (embeddings): Embeddings(\n",
       "      (word_embeddings): Embedding(30522, 768, padding_idx=0)\n",
       "      (position_embeddings): Embedding(512, 768)\n",
       "      (LayerNorm): LayerNorm((768,), eps=1e-12, elementwise_affine=True)\n",
       "      (dropout): Dropout(p=0.1, inplace=False)\n",
       "    )\n",
       "    (transformer): Transformer(\n",
       "      (layer): ModuleList(\n",
       "        (0-5): 6 x TransformerBlock(\n",
       "          (attention): MultiHeadSelfAttention(\n",
       "            (dropout): Dropout(p=0.1, inplace=False)\n",
       "            (q_lin): Linear(in_features=768, out_features=768, bias=True)\n",
       "            (k_lin): Linear(in_features=768, out_features=768, bias=True)\n",
       "            (v_lin): Linear(in_features=768, out_features=768, bias=True)\n",
       "            (out_lin): Linear(in_features=768, out_features=768, bias=True)\n",
       "          )\n",
       "          (sa_layer_norm): LayerNorm((768,), eps=1e-12, elementwise_affine=True)\n",
       "          (ffn): FFN(\n",
       "            (dropout): Dropout(p=0.1, inplace=False)\n",
       "            (lin1): Linear(in_features=768, out_features=3072, bias=True)\n",
       "            (lin2): Linear(in_features=3072, out_features=768, bias=True)\n",
       "            (activation): GELUActivation()\n",
       "          )\n",
       "          (output_layer_norm): LayerNorm((768,), eps=1e-12, elementwise_affine=True)\n",
       "        )\n",
       "      )\n",
       "    )\n",
       "  )\n",
       "  (pre_classifier): Linear(in_features=768, out_features=768, bias=True)\n",
       "  (classifier): Linear(in_features=768, out_features=6, bias=True)\n",
       "  (dropout): Dropout(p=0.2, inplace=False)\n",
       ")"
      ]
     },
     "execution_count": 41,
     "metadata": {},
     "output_type": "execute_result"
    }
   ],
   "source": [
    "from transformers import AutoModelForSequenceClassification\n",
    "model_ckpt = 'distilbert-base-uncased'\n",
    "device = torch.device('cuda' if torch.cuda.is_available() else 'cpu')\n",
    "\n",
    "# 可以通过 watch -n 1 nvidia-smi 命令查看前后的显存占用 （约需要 1G 的显存）\n",
    "# model = AutoModelForSequenceClassification.from_pretrained(model_ckpt)\n",
    "model = AutoModelForSequenceClassification.from_pretrained(model_ckpt, num_labels=num_classes).to(device)\n",
    "model"
   ]
  },
  {
   "cell_type": "markdown",
   "id": "ab86173b",
   "metadata": {
    "pycharm": {
     "name": "#%% md\n"
    }
   },
   "source": [
    "## trainer"
   ]
  },
  {
   "cell_type": "code",
   "execution_count": 42,
   "id": "8e16cf42",
   "metadata": {
    "ExecuteTime": {
     "end_time": "2023-04-16T03:32:24.593980Z",
     "start_time": "2023-04-16T03:32:24.571630Z"
    },
    "tags": [],
    "pycharm": {
     "name": "#%%\n"
    }
   },
   "outputs": [
    {
     "data": {
      "application/vnd.jupyter.widget-view+json": {
       "model_id": "4905ffc5f4084e528bac19aa06ccd2cb",
       "version_major": 2,
       "version_minor": 0
      },
      "text/plain": [
       "VBox(children=(HTML(value='<center> <img\\nsrc=https://huggingface.co/front/assets/huggingface_logo-noborder.sv…"
      ]
     },
     "metadata": {},
     "output_type": "display_data"
    }
   ],
   "source": [
    "# https://huggingface.co/settings/tokens\n",
    "# (write)\n",
    "from huggingface_hub import notebook_login\n",
    "notebook_login()"
   ]
  },
  {
   "cell_type": "code",
   "execution_count": 43,
   "id": "e516cccd",
   "metadata": {
    "ExecuteTime": {
     "end_time": "2023-04-16T03:33:00.044487Z",
     "start_time": "2023-04-16T03:32:59.966149Z"
    },
    "tags": [],
    "pycharm": {
     "name": "#%%\n"
    }
   },
   "outputs": [],
   "source": [
    "# https://huggingface.co/docs/transformers/main_classes/trainer\n",
    "# https://huggingface.co/docs/transformers/v4.28.1/en/main_classes/trainer#transformers.TrainingArguments\n",
    "from transformers import TrainingArguments, Trainer"
   ]
  },
  {
   "cell_type": "code",
   "execution_count": 44,
   "id": "28da7574",
   "metadata": {
    "ExecuteTime": {
     "end_time": "2023-04-16T03:36:01.498100Z",
     "start_time": "2023-04-16T03:36:01.482836Z"
    },
    "tags": [],
    "pycharm": {
     "name": "#%%\n"
    }
   },
   "outputs": [
    {
     "name": "stderr",
     "output_type": "stream",
     "text": [
      "huggingface/tokenizers: The current process just got forked, after parallelism has already been used. Disabling parallelism to avoid deadlocks...\n",
      "To disable this warning, you can either:\n",
      "\t- Avoid using `tokenizers` before the fork if possible\n",
      "\t- Explicitly set the environment variable TOKENIZERS_PARALLELISM=(true | false)\n"
     ]
    }
   ],
   "source": [
    "batch_size = 64\n",
    "logging_steps = len(emotions_encoded['train']) // batch_size\n",
    "model_name = f'{model_ckpt}_emotion_ft_0416'\n",
    "training_args = TrainingArguments(output_dir=model_name, \n",
    "                                  num_train_epochs=4, \n",
    "                                  learning_rate=2e-5,\n",
    "                                  weight_decay=0.01,\n",
    "                                  per_device_train_batch_size=batch_size,\n",
    "                                  per_device_eval_batch_size=batch_size,\n",
    "                                  evaluation_strategy=\"epoch\",\n",
    "                                  disable_tqdm=False,\n",
    "                                  logging_steps=logging_steps,\n",
    "                                  # write\n",
    "                                  push_to_hub=True, \n",
    "                                  log_level=\"error\")"
   ]
  },
  {
   "cell_type": "markdown",
   "id": "d58c7ff8",
   "metadata": {
    "pycharm": {
     "name": "#%% md\n"
    }
   },
   "source": [
    "- trainer默认自动开启 torch 的多gpu模式，\n",
    "    - `per_device_train_batch_size`: 这里是设置每个gpu上的样本数量，\n",
    "    - 一般来说，多gpu模式希望多个gpu的性能尽量接近，否则最终多gpu的速度由最慢的gpu决定，\n",
    "        - 比如快gpu 跑一个batch需要5秒，跑10个batch 50秒，慢的gpu跑一个batch 500秒，则快gpu还要等慢gpu跑完一个batch然后一起更新weights，速度反而更慢了。\n",
    "    - 同理 `per_device_eval_batch_size` 类似\n",
    "- `learning_rate`/`weight_decay`\n",
    "    - 默认使用AdamW的优化算法"
   ]
  },
  {
   "cell_type": "code",
   "execution_count": 45,
   "id": "e8f5c638",
   "metadata": {
    "ExecuteTime": {
     "end_time": "2023-04-16T03:36:42.908764Z",
     "start_time": "2023-04-16T03:36:37.358010Z"
    },
    "tags": [],
    "pycharm": {
     "name": "#%%\n"
    }
   },
   "outputs": [
    {
     "name": "stderr",
     "output_type": "stream",
     "text": [
      "Detected kernel version 5.4.0, which is below the recommended minimum of 5.5.0; this can cause the process to hang. It is recommended to upgrade the kernel to the minimum version or higher.\n"
     ]
    }
   ],
   "source": [
    "from transformers_utils import compute_classification_metrics\n",
    "trainer = Trainer(model=model, \n",
    "                  tokenizer=tokenizer,\n",
    "                  train_dataset=emotions_encoded['train'],\n",
    "                  eval_dataset=emotions_encoded['validation'],\n",
    "                  args=training_args, \n",
    "                  compute_metrics=compute_classification_metrics)"
   ]
  },
  {
   "cell_type": "code",
   "execution_count": 46,
   "id": "35d1eb9f",
   "metadata": {
    "ExecuteTime": {
     "end_time": "2023-04-16T03:38:54.930134Z",
     "start_time": "2023-04-16T03:37:44.376206Z"
    },
    "tags": [],
    "pycharm": {
     "name": "#%%\n"
    }
   },
   "outputs": [
    {
     "data": {
      "text/html": [
       "\n",
       "    <div>\n",
       "      \n",
       "      <progress value='1000' max='1000' style='width:300px; height:20px; vertical-align: middle;'></progress>\n",
       "      [1000/1000 02:57, Epoch 4/4]\n",
       "    </div>\n",
       "    <table border=\"1\" class=\"dataframe\">\n",
       "  <thead>\n",
       " <tr style=\"text-align: left;\">\n",
       "      <th>Epoch</th>\n",
       "      <th>Training Loss</th>\n",
       "      <th>Validation Loss</th>\n",
       "      <th>Accuracy</th>\n",
       "      <th>F1</th>\n",
       "      <th>Precision</th>\n",
       "    </tr>\n",
       "  </thead>\n",
       "  <tbody>\n",
       "    <tr>\n",
       "      <td>1</td>\n",
       "      <td>0.789200</td>\n",
       "      <td>0.265811</td>\n",
       "      <td>0.914000</td>\n",
       "      <td>0.914295</td>\n",
       "      <td>0.881622</td>\n",
       "    </tr>\n",
       "    <tr>\n",
       "      <td>2</td>\n",
       "      <td>0.207900</td>\n",
       "      <td>0.169176</td>\n",
       "      <td>0.935000</td>\n",
       "      <td>0.935137</td>\n",
       "      <td>0.907387</td>\n",
       "    </tr>\n",
       "    <tr>\n",
       "      <td>3</td>\n",
       "      <td>0.140000</td>\n",
       "      <td>0.153715</td>\n",
       "      <td>0.938000</td>\n",
       "      <td>0.938587</td>\n",
       "      <td>0.902507</td>\n",
       "    </tr>\n",
       "    <tr>\n",
       "      <td>4</td>\n",
       "      <td>0.113000</td>\n",
       "      <td>0.147266</td>\n",
       "      <td>0.935000</td>\n",
       "      <td>0.934862</td>\n",
       "      <td>0.912192</td>\n",
       "    </tr>\n",
       "  </tbody>\n",
       "</table><p>"
      ],
      "text/plain": [
       "<IPython.core.display.HTML object>"
      ]
     },
     "metadata": {},
     "output_type": "display_data"
    },
    {
     "data": {
      "text/plain": [
       "TrainOutput(global_step=1000, training_loss=0.31251622581481936, metrics={'train_runtime': 178.055, 'train_samples_per_second': 359.439, 'train_steps_per_second': 5.616, 'total_flos': 1440685723392000.0, 'train_loss': 0.31251622581481936, 'epoch': 4.0})"
      ]
     },
     "execution_count": 46,
     "metadata": {},
     "output_type": "execute_result"
    }
   ],
   "source": [
    "trainer.train()"
   ]
  },
  {
   "cell_type": "code",
   "execution_count": 47,
   "id": "e2ec0dce",
   "metadata": {
    "ExecuteTime": {
     "end_time": "2023-04-16T03:39:40.738636Z",
     "start_time": "2023-04-16T03:39:40.071296Z"
    },
    "tags": [],
    "pycharm": {
     "name": "#%%\n"
    }
   },
   "outputs": [
    {
     "data": {
      "text/html": [],
      "text/plain": [
       "<IPython.core.display.HTML object>"
      ]
     },
     "metadata": {},
     "output_type": "display_data"
    },
    {
     "data": {
      "text/plain": [
       "PredictionOutput(predictions=array([[ 5.5545692 , -0.8816876 , -1.1866075 , -1.2507623 , -1.4744883 ,\n",
       "        -1.6881181 ],\n",
       "       [ 5.5698895 , -0.8911641 , -1.7212515 , -1.0745    , -1.0046251 ,\n",
       "        -1.722541  ],\n",
       "       [-1.9029949 ,  2.4128237 ,  3.4573731 , -1.5554088 , -2.1262763 ,\n",
       "        -1.9510471 ],\n",
       "       ...,\n",
       "       [-1.6577936 ,  5.7174    , -0.18278821, -1.5974994 , -2.1695194 ,\n",
       "        -1.6114564 ],\n",
       "       [-2.329563  ,  3.7387428 ,  2.7502978 , -1.7612374 , -2.2760775 ,\n",
       "        -1.8738166 ],\n",
       "       [-1.762956  ,  5.698456  , -0.7973222 , -1.8237401 , -1.9656497 ,\n",
       "        -0.7869622 ]], dtype=float32), label_ids=array([0, 0, 2, ..., 1, 1, 1]), metrics={'test_loss': 0.14726589620113373, 'test_accuracy': 0.935, 'test_f1': 0.9348624946265062, 'test_precision': 0.9121920305146612, 'test_runtime': 1.0313, 'test_samples_per_second': 1939.349, 'test_steps_per_second': 31.03})"
      ]
     },
     "execution_count": 47,
     "metadata": {},
     "output_type": "execute_result"
    }
   ],
   "source": [
    "preds_output = trainer.predict(emotions_encoded[\"validation\"])\n",
    "preds_output"
   ]
  },
  {
   "cell_type": "code",
   "execution_count": 48,
   "id": "85a613f5",
   "metadata": {
    "ExecuteTime": {
     "end_time": "2023-04-16T03:40:17.390079Z",
     "start_time": "2023-04-16T03:40:16.717583Z"
    },
    "tags": [],
    "pycharm": {
     "name": "#%%\n"
    }
   },
   "outputs": [
    {
     "data": {
      "text/plain": [
       "array([0, 0, 2, ..., 1, 1, 1])"
      ]
     },
     "execution_count": 48,
     "metadata": {},
     "output_type": "execute_result"
    }
   ],
   "source": [
    "y_preds = np.argmax(preds_output.predictions, axis=-1)\n",
    "y_preds"
   ]
  },
  {
   "cell_type": "code",
   "execution_count": 49,
   "id": "eea593f9",
   "metadata": {
    "ExecuteTime": {
     "end_time": "2023-04-16T03:40:30.101646Z",
     "start_time": "2023-04-16T03:40:30.092064Z"
    },
    "tags": [],
    "pycharm": {
     "name": "#%%\n"
    }
   },
   "outputs": [
    {
     "data": {
      "text/plain": [
       "tensor([0, 0, 2,  ..., 1, 1, 1])"
      ]
     },
     "execution_count": 49,
     "metadata": {},
     "output_type": "execute_result"
    }
   ],
   "source": [
    "y_true = emotions_encoded['validation']['label']\n",
    "y_true"
   ]
  },
  {
   "cell_type": "code",
   "execution_count": 50,
   "id": "daaaeb93",
   "metadata": {
    "ExecuteTime": {
     "end_time": "2023-04-16T03:40:47.575199Z",
     "start_time": "2023-04-16T03:40:47.565387Z"
    },
    "tags": [],
    "pycharm": {
     "name": "#%%\n"
    }
   },
   "outputs": [
    {
     "data": {
      "text/plain": [
       "['sadness', 'joy', 'love', 'anger', 'fear', 'surprise']"
      ]
     },
     "execution_count": 50,
     "metadata": {},
     "output_type": "execute_result"
    }
   ],
   "source": [
    "labels"
   ]
  },
  {
   "cell_type": "code",
   "execution_count": 51,
   "id": "f78efee6",
   "metadata": {
    "ExecuteTime": {
     "end_time": "2023-04-16T03:40:50.101711Z",
     "start_time": "2023-04-16T03:40:49.779543Z"
    },
    "tags": [],
    "pycharm": {
     "name": "#%%\n"
    }
   },
   "outputs": [
    {
     "data": {
      "image/png": "[encoded data removed]",
      "text/plain": [
       "<Figure size 800x800 with 1 Axes>"
      ]
     },
     "metadata": {},
     "output_type": "display_data"
    }
   ],
   "source": [
    "from transformers_utils import plot_confusion_matrix\n",
    "plot_confusion_matrix(y_preds, y_true, labels)"
   ]
  },
  {
   "cell_type": "code",
   "execution_count": 52,
   "id": "1f2ba808",
   "metadata": {
    "ExecuteTime": {
     "end_time": "2023-04-16T03:41:59.283243Z",
     "start_time": "2023-04-16T03:41:58.345220Z"
    },
    "tags": [],
    "pycharm": {
     "name": "#%%\n"
    }
   },
   "outputs": [
    {
     "data": {
      "text/html": [],
      "text/plain": [
       "<IPython.core.display.HTML object>"
      ]
     },
     "metadata": {},
     "output_type": "display_data"
    },
    {
     "data": {
      "image/png": "[encoded data removed]",
      "text/plain": [
       "<Figure size 800x800 with 1 Axes>"
      ]
     },
     "metadata": {},
     "output_type": "display_data"
    }
   ],
   "source": [
    "preds_output = trainer.predict(emotions_encoded[\"test\"])\n",
    "y_preds = np.argmax(preds_output.predictions, axis=-1)\n",
    "y_true = emotions_encoded[\"test\"]['label']\n",
    "plot_confusion_matrix(y_preds, y_true, labels)"
   ]
  },
  {
   "cell_type": "markdown",
   "id": "d074921b",
   "metadata": {
    "pycharm": {
     "name": "#%% md\n"
    }
   },
   "source": [
    "# result analysis"
   ]
  },
  {
   "cell_type": "code",
   "execution_count": 53,
   "id": "f6ae35ee",
   "metadata": {
    "ExecuteTime": {
     "end_time": "2023-04-16T03:43:03.531596Z",
     "start_time": "2023-04-16T03:43:03.526416Z"
    },
    "tags": [],
    "pycharm": {
     "name": "#%%\n"
    }
   },
   "outputs": [],
   "source": [
    "from torch.nn.functional import cross_entropy"
   ]
  },
  {
   "cell_type": "code",
   "execution_count": 54,
   "id": "a3a4f845",
   "metadata": {
    "ExecuteTime": {
     "end_time": "2023-04-16T03:43:04.266106Z",
     "start_time": "2023-04-16T03:43:04.255609Z"
    },
    "tags": [],
    "pycharm": {
     "name": "#%%\n"
    }
   },
   "outputs": [],
   "source": [
    "def forward_pass_with_label(batch):\n",
    "    # Place all input tensors on the same device as the model\n",
    "    inputs = {k:v.to(device) for k,v in batch.items() if k in tokenizer.model_input_names}\n",
    "\n",
    "    with torch.no_grad():\n",
    "        output = model(**inputs)\n",
    "        pred_label = torch.argmax(output.logits, axis=-1)\n",
    "        loss = cross_entropy(output.logits, batch[\"label\"].to(device), reduction=\"none\")\n",
    "\n",
    "    # Place outputs on CPU for compatibility with other dataset columns   \n",
    "    return {\"loss\": loss.cpu().numpy(), \"predicted_label\": pred_label.cpu().numpy()}"
   ]
  },
  {
   "cell_type": "code",
   "execution_count": 55,
   "id": "9896aa50",
   "metadata": {
    "ExecuteTime": {
     "end_time": "2023-04-16T03:43:08.397980Z",
     "start_time": "2023-04-16T03:43:05.707592Z"
    },
    "tags": [],
    "pycharm": {
     "name": "#%%\n"
    }
   },
   "outputs": [
    {
     "data": {
      "application/vnd.jupyter.widget-view+json": {
       "model_id": "3ec1581440684ea598c24bea3706dffa",
       "version_major": 2,
       "version_minor": 0
      },
      "text/plain": [
       "Map:   0%|          | 0/2000 [00:00<?, ? examples/s]"
      ]
     },
     "metadata": {},
     "output_type": "display_data"
    }
   ],
   "source": [
    "emotions_encoded[\"validation\"] = emotions_encoded[\"validation\"].map(\n",
    "    forward_pass_with_label, batched=True, batch_size=16)"
   ]
  },
  {
   "cell_type": "code",
   "execution_count": 56,
   "id": "1fcb1382",
   "metadata": {
    "ExecuteTime": {
     "end_time": "2023-04-16T03:43:45.676388Z",
     "start_time": "2023-04-16T03:43:45.669034Z"
    },
    "tags": [],
    "pycharm": {
     "name": "#%%\n"
    }
   },
   "outputs": [
    {
     "data": {
      "text/plain": [
       "Dataset({\n",
       "    features: ['text', 'label', 'input_ids', 'attention_mask', 'loss', 'predicted_label'],\n",
       "    num_rows: 2000\n",
       "})"
      ]
     },
     "execution_count": 56,
     "metadata": {},
     "output_type": "execute_result"
    }
   ],
   "source": [
    "emotions_encoded['validation']"
   ]
  },
  {
   "cell_type": "code",
   "execution_count": 57,
   "id": "bc26444f",
   "metadata": {
    "ExecuteTime": {
     "end_time": "2023-04-16T03:43:46.906361Z",
     "start_time": "2023-04-16T03:43:46.900193Z"
    },
    "tags": [],
    "pycharm": {
     "name": "#%%\n"
    }
   },
   "outputs": [],
   "source": [
    "selected_cols = ['text', 'label', 'predicted_label', 'loss']"
   ]
  },
  {
   "cell_type": "code",
   "execution_count": 58,
   "id": "7a29b09d",
   "metadata": {
    "ExecuteTime": {
     "end_time": "2023-04-16T03:44:26.613594Z",
     "start_time": "2023-04-16T03:44:26.580216Z"
    },
    "tags": [],
    "pycharm": {
     "name": "#%%\n"
    }
   },
   "outputs": [],
   "source": [
    "valid_df = pd.DataFrame.from_dict({'text': emotions_encoded[\"validation\"]['text'], \n",
    "                                   'label': emotions_encoded['validation']['label'].numpy(), \n",
    "                                   'pred_label': emotions_encoded['validation']['predicted_label'].numpy(), \n",
    "                                   'loss': emotions_encoded[\"validation\"]['loss'].numpy()})\n",
    "valid_df['label'] = valid_df['label'].apply(lambda x: labels[x])\n",
    "valid_df['pred_label'] = valid_df['pred_label'].apply(lambda x: labels[x])"
   ]
  },
  {
   "cell_type": "code",
   "execution_count": 59,
   "id": "e92353db",
   "metadata": {
    "ExecuteTime": {
     "end_time": "2023-04-16T03:44:29.373252Z",
     "start_time": "2023-04-16T03:44:29.346816Z"
    },
    "tags": [],
    "pycharm": {
     "name": "#%%\n"
    }
   },
   "outputs": [
    {
     "data": {
      "text/html": [
       "<div>\n",
       "<style scoped>\n",
       "    .dataframe tbody tr th:only-of-type {\n",
       "        vertical-align: middle;\n",
       "    }\n",
       "\n",
       "    .dataframe tbody tr th {\n",
       "        vertical-align: top;\n",
       "    }\n",
       "\n",
       "    .dataframe thead th {\n",
       "        text-align: right;\n",
       "    }\n",
       "</style>\n",
       "<table border=\"1\" class=\"dataframe\">\n",
       "  <thead>\n",
       "    <tr style=\"text-align: right;\">\n",
       "      <th></th>\n",
       "      <th>text</th>\n",
       "      <th>label</th>\n",
       "      <th>pred_label</th>\n",
       "      <th>loss</th>\n",
       "    </tr>\n",
       "  </thead>\n",
       "  <tbody>\n",
       "    <tr>\n",
       "      <th>0</th>\n",
       "      <td>im feeling quite sad and sorry for myself but ...</td>\n",
       "      <td>sadness</td>\n",
       "      <td>sadness</td>\n",
       "      <td>0.005478</td>\n",
       "    </tr>\n",
       "    <tr>\n",
       "      <th>1</th>\n",
       "      <td>i feel like i am still looking at a blank canv...</td>\n",
       "      <td>sadness</td>\n",
       "      <td>sadness</td>\n",
       "      <td>0.005606</td>\n",
       "    </tr>\n",
       "    <tr>\n",
       "      <th>2</th>\n",
       "      <td>i feel like a faithful servant</td>\n",
       "      <td>love</td>\n",
       "      <td>love</td>\n",
       "      <td>0.315861</td>\n",
       "    </tr>\n",
       "    <tr>\n",
       "      <th>3</th>\n",
       "      <td>i am just feeling cranky and blue</td>\n",
       "      <td>anger</td>\n",
       "      <td>anger</td>\n",
       "      <td>0.007504</td>\n",
       "    </tr>\n",
       "    <tr>\n",
       "      <th>4</th>\n",
       "      <td>i can have for a treat or if i am feeling festive</td>\n",
       "      <td>joy</td>\n",
       "      <td>joy</td>\n",
       "      <td>0.003621</td>\n",
       "    </tr>\n",
       "    <tr>\n",
       "      <th>...</th>\n",
       "      <td>...</td>\n",
       "      <td>...</td>\n",
       "      <td>...</td>\n",
       "      <td>...</td>\n",
       "    </tr>\n",
       "    <tr>\n",
       "      <th>1995</th>\n",
       "      <td>im having ssa examination tomorrow in the morn...</td>\n",
       "      <td>sadness</td>\n",
       "      <td>sadness</td>\n",
       "      <td>0.006305</td>\n",
       "    </tr>\n",
       "    <tr>\n",
       "      <th>1996</th>\n",
       "      <td>i constantly worry about their fight against n...</td>\n",
       "      <td>joy</td>\n",
       "      <td>joy</td>\n",
       "      <td>0.004753</td>\n",
       "    </tr>\n",
       "    <tr>\n",
       "      <th>1997</th>\n",
       "      <td>i feel its important to share this info for th...</td>\n",
       "      <td>joy</td>\n",
       "      <td>joy</td>\n",
       "      <td>0.005050</td>\n",
       "    </tr>\n",
       "    <tr>\n",
       "      <th>1998</th>\n",
       "      <td>i truly feel that if you are passionate enough...</td>\n",
       "      <td>joy</td>\n",
       "      <td>joy</td>\n",
       "      <td>0.325448</td>\n",
       "    </tr>\n",
       "    <tr>\n",
       "      <th>1999</th>\n",
       "      <td>i feel like i just wanna buy any cute make up ...</td>\n",
       "      <td>joy</td>\n",
       "      <td>joy</td>\n",
       "      <td>0.004610</td>\n",
       "    </tr>\n",
       "  </tbody>\n",
       "</table>\n",
       "<p>2000 rows × 4 columns</p>\n",
       "</div>"
      ],
      "text/plain": [
       "                                                   text    label pred_label  \\\n",
       "0     im feeling quite sad and sorry for myself but ...  sadness    sadness   \n",
       "1     i feel like i am still looking at a blank canv...  sadness    sadness   \n",
       "2                        i feel like a faithful servant     love       love   \n",
       "3                     i am just feeling cranky and blue    anger      anger   \n",
       "4     i can have for a treat or if i am feeling festive      joy        joy   \n",
       "...                                                 ...      ...        ...   \n",
       "1995  im having ssa examination tomorrow in the morn...  sadness    sadness   \n",
       "1996  i constantly worry about their fight against n...      joy        joy   \n",
       "1997  i feel its important to share this info for th...      joy        joy   \n",
       "1998  i truly feel that if you are passionate enough...      joy        joy   \n",
       "1999  i feel like i just wanna buy any cute make up ...      joy        joy   \n",
       "\n",
       "          loss  \n",
       "0     0.005478  \n",
       "1     0.005606  \n",
       "2     0.315861  \n",
       "3     0.007504  \n",
       "4     0.003621  \n",
       "...        ...  \n",
       "1995  0.006305  \n",
       "1996  0.004753  \n",
       "1997  0.005050  \n",
       "1998  0.325448  \n",
       "1999  0.004610  \n",
       "\n",
       "[2000 rows x 4 columns]"
      ]
     },
     "execution_count": 59,
     "metadata": {},
     "output_type": "execute_result"
    }
   ],
   "source": [
    "valid_df"
   ]
  },
  {
   "cell_type": "code",
   "execution_count": 60,
   "id": "2ecdbdc5",
   "metadata": {
    "ExecuteTime": {
     "end_time": "2023-04-16T03:44:50.159137Z",
     "start_time": "2023-04-16T03:44:50.128737Z"
    },
    "tags": [],
    "pycharm": {
     "name": "#%%\n"
    }
   },
   "outputs": [
    {
     "data": {
      "text/html": [
       "<div>\n",
       "<style scoped>\n",
       "    .dataframe tbody tr th:only-of-type {\n",
       "        vertical-align: middle;\n",
       "    }\n",
       "\n",
       "    .dataframe tbody tr th {\n",
       "        vertical-align: top;\n",
       "    }\n",
       "\n",
       "    .dataframe thead th {\n",
       "        text-align: right;\n",
       "    }\n",
       "</style>\n",
       "<table border=\"1\" class=\"dataframe\">\n",
       "  <thead>\n",
       "    <tr style=\"text-align: right;\">\n",
       "      <th></th>\n",
       "      <th>text</th>\n",
       "      <th>label</th>\n",
       "      <th>pred_label</th>\n",
       "      <th>loss</th>\n",
       "    </tr>\n",
       "  </thead>\n",
       "  <tbody>\n",
       "    <tr>\n",
       "      <th>17</th>\n",
       "      <td>i know what it feels like he stressed glaring ...</td>\n",
       "      <td>anger</td>\n",
       "      <td>sadness</td>\n",
       "      <td>2.606535</td>\n",
       "    </tr>\n",
       "    <tr>\n",
       "      <th>27</th>\n",
       "      <td>i feel as if i am the beloved preparing hersel...</td>\n",
       "      <td>joy</td>\n",
       "      <td>love</td>\n",
       "      <td>1.204820</td>\n",
       "    </tr>\n",
       "    <tr>\n",
       "      <th>35</th>\n",
       "      <td>i am feeling very blessed today that they shar...</td>\n",
       "      <td>joy</td>\n",
       "      <td>love</td>\n",
       "      <td>0.725992</td>\n",
       "    </tr>\n",
       "    <tr>\n",
       "      <th>55</th>\n",
       "      <td>i didn t feel accepted</td>\n",
       "      <td>joy</td>\n",
       "      <td>love</td>\n",
       "      <td>0.752656</td>\n",
       "    </tr>\n",
       "    <tr>\n",
       "      <th>60</th>\n",
       "      <td>i miss our talks our cuddling our kissing and ...</td>\n",
       "      <td>love</td>\n",
       "      <td>joy</td>\n",
       "      <td>0.845419</td>\n",
       "    </tr>\n",
       "    <tr>\n",
       "      <th>...</th>\n",
       "      <td>...</td>\n",
       "      <td>...</td>\n",
       "      <td>...</td>\n",
       "      <td>...</td>\n",
       "    </tr>\n",
       "    <tr>\n",
       "      <th>1958</th>\n",
       "      <td>i so desperately want to be able to help but i...</td>\n",
       "      <td>fear</td>\n",
       "      <td>sadness</td>\n",
       "      <td>1.223704</td>\n",
       "    </tr>\n",
       "    <tr>\n",
       "      <th>1963</th>\n",
       "      <td>i called myself pro life and voted for perry w...</td>\n",
       "      <td>joy</td>\n",
       "      <td>sadness</td>\n",
       "      <td>6.198002</td>\n",
       "    </tr>\n",
       "    <tr>\n",
       "      <th>1964</th>\n",
       "      <td>i feel vaguely cheated and a little amused</td>\n",
       "      <td>joy</td>\n",
       "      <td>anger</td>\n",
       "      <td>2.358922</td>\n",
       "    </tr>\n",
       "    <tr>\n",
       "      <th>1981</th>\n",
       "      <td>i spent a lot of time feeling overwhelmed with...</td>\n",
       "      <td>fear</td>\n",
       "      <td>surprise</td>\n",
       "      <td>0.807642</td>\n",
       "    </tr>\n",
       "    <tr>\n",
       "      <th>1990</th>\n",
       "      <td>i just feel too overwhelmed i can t see the fo...</td>\n",
       "      <td>fear</td>\n",
       "      <td>surprise</td>\n",
       "      <td>0.752793</td>\n",
       "    </tr>\n",
       "  </tbody>\n",
       "</table>\n",
       "<p>130 rows × 4 columns</p>\n",
       "</div>"
      ],
      "text/plain": [
       "                                                   text  label pred_label  \\\n",
       "17    i know what it feels like he stressed glaring ...  anger    sadness   \n",
       "27    i feel as if i am the beloved preparing hersel...    joy       love   \n",
       "35    i am feeling very blessed today that they shar...    joy       love   \n",
       "55                               i didn t feel accepted    joy       love   \n",
       "60    i miss our talks our cuddling our kissing and ...   love        joy   \n",
       "...                                                 ...    ...        ...   \n",
       "1958  i so desperately want to be able to help but i...   fear    sadness   \n",
       "1963  i called myself pro life and voted for perry w...    joy    sadness   \n",
       "1964         i feel vaguely cheated and a little amused    joy      anger   \n",
       "1981  i spent a lot of time feeling overwhelmed with...   fear   surprise   \n",
       "1990  i just feel too overwhelmed i can t see the fo...   fear   surprise   \n",
       "\n",
       "          loss  \n",
       "17    2.606535  \n",
       "27    1.204820  \n",
       "35    0.725992  \n",
       "55    0.752656  \n",
       "60    0.845419  \n",
       "...        ...  \n",
       "1958  1.223704  \n",
       "1963  6.198002  \n",
       "1964  2.358922  \n",
       "1981  0.807642  \n",
       "1990  0.752793  \n",
       "\n",
       "[130 rows x 4 columns]"
      ]
     },
     "execution_count": 60,
     "metadata": {},
     "output_type": "execute_result"
    }
   ],
   "source": [
    "valid_df[valid_df['label'] != valid_df['pred_label']]"
   ]
  },
  {
   "cell_type": "code",
   "execution_count": 61,
   "id": "cf829951",
   "metadata": {
    "ExecuteTime": {
     "end_time": "2023-04-16T03:45:01.576594Z",
     "start_time": "2023-04-16T03:45:01.566322Z"
    },
    "tags": [],
    "pycharm": {
     "name": "#%%\n"
    }
   },
   "outputs": [
    {
     "data": {
      "text/plain": [
       "0.9355"
      ]
     },
     "execution_count": 61,
     "metadata": {},
     "output_type": "execute_result"
    }
   ],
   "source": [
    "1 - 129 / 2000"
   ]
  },
  {
   "cell_type": "code",
   "execution_count": 62,
   "id": "be8a8577",
   "metadata": {
    "ExecuteTime": {
     "end_time": "2023-04-16T03:45:12.589320Z",
     "start_time": "2023-04-16T03:45:12.573883Z"
    },
    "tags": [],
    "pycharm": {
     "name": "#%%\n"
    }
   },
   "outputs": [
    {
     "data": {
      "text/plain": [
       "label\n",
       "joy         36\n",
       "fear        26\n",
       "love        21\n",
       "anger       19\n",
       "surprise    15\n",
       "sadness     13\n",
       "Name: count, dtype: int64"
      ]
     },
     "execution_count": 62,
     "metadata": {},
     "output_type": "execute_result"
    }
   ],
   "source": [
    "# most labels incorrectly\n",
    "valid_df[valid_df['label'] != valid_df['pred_label']].label.value_counts()"
   ]
  },
  {
   "cell_type": "code",
   "execution_count": 63,
   "id": "3b2e8310",
   "metadata": {
    "ExecuteTime": {
     "end_time": "2023-04-16T03:45:58.466573Z",
     "start_time": "2023-04-16T03:45:58.444953Z"
    },
    "tags": [],
    "pycharm": {
     "name": "#%%\n"
    }
   },
   "outputs": [
    {
     "data": {
      "text/html": [
       "<div>\n",
       "<style scoped>\n",
       "    .dataframe tbody tr th:only-of-type {\n",
       "        vertical-align: middle;\n",
       "    }\n",
       "\n",
       "    .dataframe tbody tr th {\n",
       "        vertical-align: top;\n",
       "    }\n",
       "\n",
       "    .dataframe thead th {\n",
       "        text-align: right;\n",
       "    }\n",
       "</style>\n",
       "<table border=\"1\" class=\"dataframe\">\n",
       "  <thead>\n",
       "    <tr style=\"text-align: right;\">\n",
       "      <th></th>\n",
       "      <th>text</th>\n",
       "      <th>label</th>\n",
       "      <th>pred_label</th>\n",
       "      <th>loss</th>\n",
       "    </tr>\n",
       "  </thead>\n",
       "  <tbody>\n",
       "    <tr>\n",
       "      <th>1111</th>\n",
       "      <td>im lazy my characters fall into categories of ...</td>\n",
       "      <td>joy</td>\n",
       "      <td>fear</td>\n",
       "      <td>6.511402</td>\n",
       "    </tr>\n",
       "    <tr>\n",
       "      <th>1500</th>\n",
       "      <td>i guess we would naturally feel a sense of lon...</td>\n",
       "      <td>anger</td>\n",
       "      <td>sadness</td>\n",
       "      <td>6.327398</td>\n",
       "    </tr>\n",
       "    <tr>\n",
       "      <th>882</th>\n",
       "      <td>i feel badly about reneging on my commitment t...</td>\n",
       "      <td>love</td>\n",
       "      <td>sadness</td>\n",
       "      <td>6.244055</td>\n",
       "    </tr>\n",
       "    <tr>\n",
       "      <th>1963</th>\n",
       "      <td>i called myself pro life and voted for perry w...</td>\n",
       "      <td>joy</td>\n",
       "      <td>sadness</td>\n",
       "      <td>6.198002</td>\n",
       "    </tr>\n",
       "    <tr>\n",
       "      <th>318</th>\n",
       "      <td>i felt ashamed of these feelings and was scare...</td>\n",
       "      <td>fear</td>\n",
       "      <td>sadness</td>\n",
       "      <td>6.193089</td>\n",
       "    </tr>\n",
       "    <tr>\n",
       "      <th>1950</th>\n",
       "      <td>i as representative of everything thats wrong ...</td>\n",
       "      <td>surprise</td>\n",
       "      <td>sadness</td>\n",
       "      <td>5.813737</td>\n",
       "    </tr>\n",
       "    <tr>\n",
       "      <th>405</th>\n",
       "      <td>i have been feeling extraordinarily indecisive...</td>\n",
       "      <td>fear</td>\n",
       "      <td>joy</td>\n",
       "      <td>5.684981</td>\n",
       "    </tr>\n",
       "    <tr>\n",
       "      <th>1870</th>\n",
       "      <td>i guess i feel betrayed because i admired him ...</td>\n",
       "      <td>joy</td>\n",
       "      <td>sadness</td>\n",
       "      <td>5.473402</td>\n",
       "    </tr>\n",
       "    <tr>\n",
       "      <th>415</th>\n",
       "      <td>im kind of embarrassed about feeling that way ...</td>\n",
       "      <td>love</td>\n",
       "      <td>joy</td>\n",
       "      <td>4.174177</td>\n",
       "    </tr>\n",
       "    <tr>\n",
       "      <th>1662</th>\n",
       "      <td>i did not directly react to the spot fixing co...</td>\n",
       "      <td>joy</td>\n",
       "      <td>anger</td>\n",
       "      <td>4.162587</td>\n",
       "    </tr>\n",
       "  </tbody>\n",
       "</table>\n",
       "</div>"
      ],
      "text/plain": [
       "                                                   text     label pred_label  \\\n",
       "1111  im lazy my characters fall into categories of ...       joy       fear   \n",
       "1500  i guess we would naturally feel a sense of lon...     anger    sadness   \n",
       "882   i feel badly about reneging on my commitment t...      love    sadness   \n",
       "1963  i called myself pro life and voted for perry w...       joy    sadness   \n",
       "318   i felt ashamed of these feelings and was scare...      fear    sadness   \n",
       "1950  i as representative of everything thats wrong ...  surprise    sadness   \n",
       "405   i have been feeling extraordinarily indecisive...      fear        joy   \n",
       "1870  i guess i feel betrayed because i admired him ...       joy    sadness   \n",
       "415   im kind of embarrassed about feeling that way ...      love        joy   \n",
       "1662  i did not directly react to the spot fixing co...       joy      anger   \n",
       "\n",
       "          loss  \n",
       "1111  6.511402  \n",
       "1500  6.327398  \n",
       "882   6.244055  \n",
       "1963  6.198002  \n",
       "318   6.193089  \n",
       "1950  5.813737  \n",
       "405   5.684981  \n",
       "1870  5.473402  \n",
       "415   4.174177  \n",
       "1662  4.162587  "
      ]
     },
     "execution_count": 63,
     "metadata": {},
     "output_type": "execute_result"
    }
   ],
   "source": [
    "# 分类错误的 loss 均较大\n",
    "valid_df.sort_values('loss', ascending=False).head(10)"
   ]
  },
  {
   "cell_type": "code",
   "execution_count": 64,
   "id": "9488b2c4",
   "metadata": {
    "ExecuteTime": {
     "end_time": "2023-04-16T03:46:22.464663Z",
     "start_time": "2023-04-16T03:46:22.453864Z"
    },
    "tags": [],
    "pycharm": {
     "name": "#%%\n"
    }
   },
   "outputs": [
    {
     "data": {
      "text/plain": [
       "'i feel badly about reneging on my commitment to bring donuts to the faithful at holy family catholic church in columbus ohio'"
      ]
     },
     "execution_count": 64,
     "metadata": {},
     "output_type": "execute_result"
    }
   ],
   "source": [
    "# mislabeld\n",
    "valid_df.iloc[882].text"
   ]
  },
  {
   "cell_type": "code",
   "execution_count": 65,
   "id": "32187878",
   "metadata": {
    "ExecuteTime": {
     "end_time": "2023-04-16T03:47:14.991125Z",
     "start_time": "2023-04-16T03:47:14.967649Z"
    },
    "tags": [],
    "pycharm": {
     "name": "#%%\n"
    }
   },
   "outputs": [
    {
     "data": {
      "text/html": [
       "<div>\n",
       "<style scoped>\n",
       "    .dataframe tbody tr th:only-of-type {\n",
       "        vertical-align: middle;\n",
       "    }\n",
       "\n",
       "    .dataframe tbody tr th {\n",
       "        vertical-align: top;\n",
       "    }\n",
       "\n",
       "    .dataframe thead th {\n",
       "        text-align: right;\n",
       "    }\n",
       "</style>\n",
       "<table border=\"1\" class=\"dataframe\">\n",
       "  <thead>\n",
       "    <tr style=\"text-align: right;\">\n",
       "      <th></th>\n",
       "      <th>text</th>\n",
       "      <th>label</th>\n",
       "      <th>pred_label</th>\n",
       "      <th>loss</th>\n",
       "    </tr>\n",
       "  </thead>\n",
       "  <tbody>\n",
       "    <tr>\n",
       "      <th>1873</th>\n",
       "      <td>i feel practically virtuous this month i have ...</td>\n",
       "      <td>joy</td>\n",
       "      <td>joy</td>\n",
       "      <td>0.003338</td>\n",
       "    </tr>\n",
       "    <tr>\n",
       "      <th>1050</th>\n",
       "      <td>i feel like our society has programmed little ...</td>\n",
       "      <td>joy</td>\n",
       "      <td>joy</td>\n",
       "      <td>0.003377</td>\n",
       "    </tr>\n",
       "    <tr>\n",
       "      <th>669</th>\n",
       "      <td>i am not feeling very joyful today its been a ...</td>\n",
       "      <td>joy</td>\n",
       "      <td>joy</td>\n",
       "      <td>0.003464</td>\n",
       "    </tr>\n",
       "    <tr>\n",
       "      <th>1607</th>\n",
       "      <td>i feel incredibly mellow and spacey</td>\n",
       "      <td>joy</td>\n",
       "      <td>joy</td>\n",
       "      <td>0.003475</td>\n",
       "    </tr>\n",
       "    <tr>\n",
       "      <th>400</th>\n",
       "      <td>i are just relaxing together and i feel ecstat...</td>\n",
       "      <td>joy</td>\n",
       "      <td>joy</td>\n",
       "      <td>0.003526</td>\n",
       "    </tr>\n",
       "    <tr>\n",
       "      <th>620</th>\n",
       "      <td>i shall move right along to the post interview...</td>\n",
       "      <td>joy</td>\n",
       "      <td>joy</td>\n",
       "      <td>0.003535</td>\n",
       "    </tr>\n",
       "    <tr>\n",
       "      <th>260</th>\n",
       "      <td>i am feeling so invigorated and so ready to ke...</td>\n",
       "      <td>joy</td>\n",
       "      <td>joy</td>\n",
       "      <td>0.003544</td>\n",
       "    </tr>\n",
       "    <tr>\n",
       "      <th>1199</th>\n",
       "      <td>i didn t feel ecstatic after each workout or a...</td>\n",
       "      <td>joy</td>\n",
       "      <td>joy</td>\n",
       "      <td>0.003547</td>\n",
       "    </tr>\n",
       "    <tr>\n",
       "      <th>632</th>\n",
       "      <td>i feel he is an terrific really worth bet</td>\n",
       "      <td>joy</td>\n",
       "      <td>joy</td>\n",
       "      <td>0.003604</td>\n",
       "    </tr>\n",
       "    <tr>\n",
       "      <th>199</th>\n",
       "      <td>i feel invigorated full of energy ready for th...</td>\n",
       "      <td>joy</td>\n",
       "      <td>joy</td>\n",
       "      <td>0.003606</td>\n",
       "    </tr>\n",
       "  </tbody>\n",
       "</table>\n",
       "</div>"
      ],
      "text/plain": [
       "                                                   text label pred_label  \\\n",
       "1873  i feel practically virtuous this month i have ...   joy        joy   \n",
       "1050  i feel like our society has programmed little ...   joy        joy   \n",
       "669   i am not feeling very joyful today its been a ...   joy        joy   \n",
       "1607                i feel incredibly mellow and spacey   joy        joy   \n",
       "400   i are just relaxing together and i feel ecstat...   joy        joy   \n",
       "620   i shall move right along to the post interview...   joy        joy   \n",
       "260   i am feeling so invigorated and so ready to ke...   joy        joy   \n",
       "1199  i didn t feel ecstatic after each workout or a...   joy        joy   \n",
       "632           i feel he is an terrific really worth bet   joy        joy   \n",
       "199   i feel invigorated full of energy ready for th...   joy        joy   \n",
       "\n",
       "          loss  \n",
       "1873  0.003338  \n",
       "1050  0.003377  \n",
       "669   0.003464  \n",
       "1607  0.003475  \n",
       "400   0.003526  \n",
       "620   0.003535  \n",
       "260   0.003544  \n",
       "1199  0.003547  \n",
       "632   0.003604  \n",
       "199   0.003606  "
      ]
     },
     "execution_count": 65,
     "metadata": {},
     "output_type": "execute_result"
    }
   ],
   "source": [
    "# less loss means more confident\n",
    "valid_df.sort_values('loss', ascending=True).head(10)"
   ]
  },
  {
   "cell_type": "markdown",
   "id": "1bcb6c01",
   "metadata": {
    "pycharm": {
     "name": "#%% md\n"
    }
   },
   "source": [
    "# to huggingface hub"
   ]
  },
  {
   "cell_type": "code",
   "execution_count": 66,
   "id": "d59b2217",
   "metadata": {
    "ExecuteTime": {
     "end_time": "2023-04-16T03:47:54.011233Z",
     "start_time": "2023-04-16T03:47:42.398640Z"
    },
    "tags": [],
    "pycharm": {
     "name": "#%%\n"
    }
   },
   "outputs": [
    {
     "data": {
      "text/plain": [
       "CommitInfo(commit_url='https://huggingface.co/Nicho-k/distilbert-base-uncased_emotion_ft_0416/commit/7372e5c6d6379b657ef13f56bd6566fca98834e6', commit_message='Training completed!', commit_description='', oid='7372e5c6d6379b657ef13f56bd6566fca98834e6', pr_url=None, pr_revision=None, pr_num=None)"
      ]
     },
     "execution_count": 66,
     "metadata": {},
     "output_type": "execute_result"
    }
   ],
   "source": [
    "trainer.push_to_hub(commit_message=\"Training completed!\")"
   ]
  },
  {
   "cell_type": "code",
   "execution_count": 67,
   "id": "816ef003",
   "metadata": {
    "ExecuteTime": {
     "end_time": "2023-04-16T03:48:55.344671Z",
     "start_time": "2023-04-16T03:48:36.803535Z"
    },
    "tags": [],
    "pycharm": {
     "name": "#%%\n"
    }
   },
   "outputs": [
    {
     "name": "stderr",
     "output_type": "stream",
     "text": [
      "/root/miniconda3/lib/python3.8/site-packages/huggingface_hub/file_download.py:1132: FutureWarning: `resume_download` is deprecated and will be removed in version 1.0.0. Downloads always resume when possible. If you want to force a new download, use `force_download=True`.\n",
      "  warnings.warn(\n"
     ]
    },
    {
     "data": {
      "application/vnd.jupyter.widget-view+json": {
       "model_id": "00f9311142c74510b14b9681c91947f6",
       "version_major": 2,
       "version_minor": 0
      },
      "text/plain": [
       "model.safetensors:   0%|          | 0.00/268M [00:00<?, ?B/s]"
      ]
     },
     "metadata": {},
     "output_type": "display_data"
    }
   ],
   "source": [
    "#hide_output\n",
    "from transformers import pipeline\n",
    "\n",
    "# Change `transformersbook` to your Hub username\n",
    "model_id = \"Nicho-k/distilbert-base-uncased_emotion_ft_0416\"\n",
    "classifier = pipeline(\"text-classification\", model=model_id)"
   ]
  },
  {
   "cell_type": "code",
   "execution_count": 68,
   "id": "52b03b94",
   "metadata": {
    "ExecuteTime": {
     "end_time": "2023-04-16T03:49:36.316642Z",
     "start_time": "2023-04-16T03:49:36.285723Z"
    },
    "tags": [],
    "pycharm": {
     "name": "#%%\n"
    }
   },
   "outputs": [
    {
     "name": "stderr",
     "output_type": "stream",
     "text": [
      "/root/miniconda3/lib/python3.8/site-packages/transformers/pipelines/text_classification.py:104: UserWarning: `return_all_scores` is now deprecated,  if want a similar functionality use `top_k=None` instead of `return_all_scores=True` or `top_k=1` instead of `return_all_scores=False`.\n",
      "  warnings.warn(\n"
     ]
    },
    {
     "data": {
      "text/plain": [
       "[[{'label': 'LABEL_0', 'score': 0.008543752133846283},\n",
       "  {'label': 'LABEL_1', 'score': 0.9793643355369568},\n",
       "  {'label': 'LABEL_2', 'score': 0.0020592177752405405},\n",
       "  {'label': 'LABEL_3', 'score': 0.0042535699903965},\n",
       "  {'label': 'LABEL_4', 'score': 0.0023213166277855635},\n",
       "  {'label': 'LABEL_5', 'score': 0.0034579052589833736}]]"
      ]
     },
     "execution_count": 68,
     "metadata": {},
     "output_type": "execute_result"
    }
   ],
   "source": [
    "custom_tweet = \"I saw a movie today and it was really good.\"\n",
    "# custom_tweet = \"I saw a movie today and it suck.\"\n",
    "preds = classifier(custom_tweet, return_all_scores=True)\n",
    "preds"
   ]
  },
  {
   "cell_type": "code",
   "execution_count": 69,
   "id": "ec3c77ca",
   "metadata": {
    "ExecuteTime": {
     "end_time": "2023-04-16T03:49:19.633553Z",
     "start_time": "2023-04-16T03:49:19.623397Z"
    },
    "tags": [],
    "pycharm": {
     "name": "#%%\n"
    }
   },
   "outputs": [
    {
     "data": {
      "text/plain": [
       "['sadness', 'joy', 'love', 'anger', 'fear', 'surprise']"
      ]
     },
     "execution_count": 69,
     "metadata": {},
     "output_type": "execute_result"
    }
   ],
   "source": [
    "labels"
   ]
  },
  {
   "cell_type": "code",
   "execution_count": 70,
   "id": "4b21aaec",
   "metadata": {
    "ExecuteTime": {
     "end_time": "2023-04-16T03:49:38.751526Z",
     "start_time": "2023-04-16T03:49:38.482225Z"
    },
    "tags": [],
    "pycharm": {
     "name": "#%%\n"
    }
   },
   "outputs": [
    {
     "data": {
      "image/png": "[encoded data removed]",
      "text/plain": [
       "<Figure size 1280x960 with 1 Axes>"
      ]
     },
     "metadata": {},
     "output_type": "display_data"
    }
   ],
   "source": [
    "preds_df = pd.DataFrame(preds[0])\n",
    "plt.bar(labels, 100 * preds_df[\"score\"], color='C0')\n",
    "plt.title(f'\"{custom_tweet}\"')\n",
    "plt.ylabel(\"Class probability (%)\")\n",
    "plt.show()"
   ]
  }
 ],
 "metadata": {
  "kernelspec": {
   "display_name": "Python 3 (ipykernel)",
   "language": "python",
   "name": "python3"
  },
  "language_info": {
   "codemirror_mode": {
    "name": "ipython",
    "version": 3
   },
   "file_extension": ".py",
   "mimetype": "text/x-python",
   "name": "python",
   "nbconvert_exporter": "python",
   "pygments_lexer": "ipython3",
   "version": "3.8.10"
  },
  "toc": {
   "base_numbering": 1,
   "nav_menu": {},
   "number_sections": true,
   "sideBar": true,
   "skip_h1_title": false,
   "title_cell": "Table of Contents",
   "title_sidebar": "Contents",
   "toc_cell": false,
   "toc_position": {
    "height": "calc(100% - 180px)",
    "left": "10px",
    "top": "150px",
    "width": "336px"
   },
   "toc_section_display": true,
   "toc_window_display": true
  }
 },
 "nbformat": 4,
 "nbformat_minor": 5
}