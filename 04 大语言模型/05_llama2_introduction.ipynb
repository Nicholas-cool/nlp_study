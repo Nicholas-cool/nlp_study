{
 "cells": [
  {
   "cell_type": "markdown",
   "id": "7686d76b",
   "metadata": {
    "pycharm": {
     "name": "#%% md\n"
    }
   },
   "source": [
    "## Basics"
   ]
  },
  {
   "cell_type": "markdown",
   "id": "102d644b",
   "metadata": {
    "pycharm": {
     "name": "#%% md\n"
    }
   },
   "source": [
    "- 参考\n",
    "    - https://huggingface.co/blog/llama2\n",
    "- 4k tokens of context\n",
    "- 几个版本：3\\*2\\*2 == 12\n",
    "    - https://huggingface.co/meta-llama\n",
    "    - 7B，13B，70B\n",
    "    - 是否是 hf\n",
    "    - 是否是 chat\n",
    "        - meta-llama/Llama-2-7b\n",
    "        - meta-llama/Llama-2-7b-hf\n",
    "        - meta-llama/Llama-2-7b-chat\n",
    "        - meta-llama/Llama-2-7b-chat-hf"
   ]
  },
  {
   "cell_type": "code",
   "execution_count": 1,
   "id": "fe1c56d5-f372-4baf-ae86-16a171a5c6dd",
   "metadata": {
    "tags": [],
    "pycharm": {
     "name": "#%%\n"
    }
   },
   "outputs": [],
   "source": [
    "import subprocess\n",
    "import os\n",
    "os.environ['CURL_CA_BUNDLE'] = ''\n",
    "\n",
    "result = subprocess.run('bash -c \"source /etc/network_turbo && env | grep proxy\"', shell=True, capture_output=True, text=True)\n",
    "output = result.stdout\n",
    "for line in output.splitlines():\n",
    "    if '=' in line:\n",
    "        var, value = line.split('=', 1)\n",
    "        os.environ[var] = value"
   ]
  },
  {
   "cell_type": "markdown",
   "id": "e25c9864",
   "metadata": {
    "pycharm": {
     "name": "#%% md\n"
    }
   },
   "source": [
    "## Text-generation"
   ]
  },
  {
   "cell_type": "code",
   "execution_count": 2,
   "id": "10a5efa9",
   "metadata": {
    "ExecuteTime": {
     "end_time": "2023-08-08T14:46:31.744869Z",
     "start_time": "2023-08-08T14:46:30.255378Z"
    },
    "tags": [],
    "pycharm": {
     "name": "#%%\n"
    }
   },
   "outputs": [],
   "source": [
    "from transformers import AutoTokenizer, AutoModelForCausalLM\n",
    "import transformers\n",
    "from transformers import BitsAndBytesConfig\n",
    "import torch"
   ]
  },
  {
   "cell_type": "code",
   "execution_count": 10,
   "id": "3e4c6b36",
   "metadata": {
    "ExecuteTime": {
     "end_time": "2023-08-08T15:02:02.271933Z",
     "start_time": "2023-08-08T15:02:02.265961Z"
    },
    "tags": [],
    "pycharm": {
     "name": "#%%\n"
    }
   },
   "outputs": [],
   "source": [
    "model_name = \"meta-llama/Llama-2-7b-chat-hf\""
   ]
  },
  {
   "cell_type": "code",
   "execution_count": 4,
   "id": "dee1164b",
   "metadata": {
    "ExecuteTime": {
     "end_time": "2023-08-08T14:36:31.211076Z",
     "start_time": "2023-08-08T14:36:31.203360Z"
    },
    "tags": [],
    "pycharm": {
     "name": "#%%\n"
    }
   },
   "outputs": [],
   "source": [
    "# import os\n",
    "# os.environ['HTTP_PROXY'] = 'http://127.0.0.1:7890'\n",
    "# os.environ['HTTPS_PROXY'] = 'http://127.0.0.1:7890'"
   ]
  },
  {
   "cell_type": "code",
   "execution_count": 13,
   "id": "f711d698",
   "metadata": {
    "ExecuteTime": {
     "end_time": "2023-08-08T15:02:10.854251Z",
     "start_time": "2023-08-08T15:02:06.590026Z"
    },
    "tags": [],
    "pycharm": {
     "name": "#%%\n"
    }
   },
   "outputs": [
    {
     "data": {
      "application/vnd.jupyter.widget-view+json": {
       "model_id": "4b71d2e6bc574e5e917fb5abac75886e",
       "version_major": 2,
       "version_minor": 0
      },
      "text/plain": [
       "Loading checkpoint shards:   0%|          | 0/2 [00:00<?, ?it/s]"
      ]
     },
     "metadata": {},
     "output_type": "display_data"
    }
   ],
   "source": [
    "save_path = \"../../model_path\"   # 模型存储目录\n",
    "\n",
    "tokenizer = AutoTokenizer.from_pretrained(model_name, cache_dir=save_path)\n",
    "pipeline = transformers.pipeline(\n",
    "    \"text-generation\",\n",
    "    model=model_name,\n",
    "    torch_dtype=torch.float16,\n",
    "    device_map=\"auto\",\n",
    "    # cache_dir=save_path\n",
    ")"
   ]
  },
  {
   "cell_type": "code",
   "execution_count": 14,
   "id": "03ab1d90",
   "metadata": {
    "ExecuteTime": {
     "end_time": "2023-08-08T15:02:55.697334Z",
     "start_time": "2023-08-08T15:02:55.689091Z"
    },
    "tags": [],
    "pycharm": {
     "name": "#%%\n"
    }
   },
   "outputs": [
    {
     "data": {
      "text/plain": [
       "LlamaTokenizerFast(name_or_path='meta-llama/Llama-2-7b-chat-hf', vocab_size=32000, model_max_length=1000000000000000019884624838656, is_fast=True, padding_side='right', truncation_side='right', special_tokens={'bos_token': '<s>', 'eos_token': '</s>', 'unk_token': '<unk>'}, clean_up_tokenization_spaces=False),  added_tokens_decoder={\n",
       "\t0: AddedToken(\"<unk>\", rstrip=False, lstrip=False, single_word=False, normalized=False, special=True),\n",
       "\t1: AddedToken(\"<s>\", rstrip=False, lstrip=False, single_word=False, normalized=False, special=True),\n",
       "\t2: AddedToken(\"</s>\", rstrip=False, lstrip=False, single_word=False, normalized=False, special=True),\n",
       "}"
      ]
     },
     "execution_count": 14,
     "metadata": {},
     "output_type": "execute_result"
    }
   ],
   "source": [
    "tokenizer"
   ]
  },
  {
   "cell_type": "code",
   "execution_count": 15,
   "id": "f48c1d9a",
   "metadata": {
    "ExecuteTime": {
     "end_time": "2023-08-08T15:02:21.458599Z",
     "start_time": "2023-08-08T15:02:21.445608Z"
    },
    "tags": [],
    "pycharm": {
     "name": "#%%\n"
    }
   },
   "outputs": [
    {
     "data": {
      "text/plain": [
       "LlamaForCausalLM(\n",
       "  (model): LlamaModel(\n",
       "    (embed_tokens): Embedding(32000, 4096)\n",
       "    (layers): ModuleList(\n",
       "      (0-31): 32 x LlamaDecoderLayer(\n",
       "        (self_attn): LlamaSdpaAttention(\n",
       "          (q_proj): Linear(in_features=4096, out_features=4096, bias=False)\n",
       "          (k_proj): Linear(in_features=4096, out_features=4096, bias=False)\n",
       "          (v_proj): Linear(in_features=4096, out_features=4096, bias=False)\n",
       "          (o_proj): Linear(in_features=4096, out_features=4096, bias=False)\n",
       "          (rotary_emb): LlamaRotaryEmbedding()\n",
       "        )\n",
       "        (mlp): LlamaMLP(\n",
       "          (gate_proj): Linear(in_features=4096, out_features=11008, bias=False)\n",
       "          (up_proj): Linear(in_features=4096, out_features=11008, bias=False)\n",
       "          (down_proj): Linear(in_features=11008, out_features=4096, bias=False)\n",
       "          (act_fn): SiLU()\n",
       "        )\n",
       "        (input_layernorm): LlamaRMSNorm((4096,), eps=1e-05)\n",
       "        (post_attention_layernorm): LlamaRMSNorm((4096,), eps=1e-05)\n",
       "      )\n",
       "    )\n",
       "    (norm): LlamaRMSNorm((4096,), eps=1e-05)\n",
       "    (rotary_emb): LlamaRotaryEmbedding()\n",
       "  )\n",
       "  (lm_head): Linear(in_features=4096, out_features=32000, bias=False)\n",
       ")"
      ]
     },
     "execution_count": 15,
     "metadata": {},
     "output_type": "execute_result"
    }
   ],
   "source": [
    "pipeline.model"
   ]
  },
  {
   "cell_type": "code",
   "execution_count": 16,
   "id": "2989181d",
   "metadata": {
    "ExecuteTime": {
     "end_time": "2023-08-08T15:03:10.888576Z",
     "start_time": "2023-08-08T15:03:10.874482Z"
    },
    "tags": [],
    "pycharm": {
     "name": "#%%\n"
    }
   },
   "outputs": [
    {
     "name": "stdout",
     "output_type": "stream",
     "text": [
      "6738415616 6738415616 1.0\n"
     ]
    }
   ],
   "source": [
    "trainable_params = 0\n",
    "all_param = 0\n",
    "for name, param in pipeline.model.named_parameters():\n",
    "    # print(name, param.requires_grad, param.numel())\n",
    "    all_param += param.numel()\n",
    "    if param.requires_grad:\n",
    "        trainable_params += param.numel()\n",
    "print(trainable_params, all_param, trainable_params*1./all_param)"
   ]
  },
  {
   "cell_type": "code",
   "execution_count": 26,
   "id": "2b7e55bd",
   "metadata": {
    "ExecuteTime": {
     "end_time": "2023-08-08T15:03:43.258662Z",
     "start_time": "2023-08-08T15:03:36.109757Z"
    },
    "tags": [],
    "pycharm": {
     "name": "#%%\n"
    }
   },
   "outputs": [],
   "source": [
    "sequences = pipeline(\n",
    "    'I liked \"Breaking Bad\" and \"Band of Brothers\". Do you have any recommendations of other shows I might like?\\n',\n",
    "    do_sample=True,\n",
    "    top_k=10,\n",
    "    num_return_sequences=3,\n",
    "    eos_token_id=tokenizer.eos_token_id,\n",
    "    max_length=200,\n",
    ")"
   ]
  },
  {
   "cell_type": "code",
   "execution_count": 27,
   "id": "92c1634c",
   "metadata": {
    "ExecuteTime": {
     "end_time": "2023-08-08T15:03:45.189218Z",
     "start_time": "2023-08-08T15:03:45.185090Z"
    },
    "tags": [],
    "pycharm": {
     "name": "#%%\n"
    }
   },
   "outputs": [
    {
     "name": "stdout",
     "output_type": "stream",
     "text": [
      "===============================\n",
      "I liked \"Breaking Bad\" and \"Band of Brothers\". Do you have any recommendations of other shows I might like?\n",
      "\n",
      "Sure! If you enjoyed \"Breaking Bad\" and \"Band of Brothers,\" here are some other shows you might enjoy:\n",
      "\n",
      "1. \"The Sopranos\" - This HBO series is a crime drama that follows the life of a New Jersey mob boss, Tony Soprano, as he navigates the criminal underworld and deals with personal and family issues.\n",
      "2. \"The Wire\" - This HBO series explores the drug trade in Baltimore from multiple perspectives, including law enforcement, drug dealers, and politicians. It's known for its gritty realism and complex characters.\n",
      "3. \"Narcos\" - This Netflix series tells the true story of Pablo Escobar, the infamous Colombian drug lord, and the DE\n",
      "\n",
      "\n",
      "===============================\n",
      "I liked \"Breaking Bad\" and \"Band of Brothers\". Do you have any recommendations of other shows I might like?\n",
      "\n",
      "Yes, definitely! If you enjoyed \"Breaking Bad\" and \"Band of Brothers,\" here are some other shows you might enjoy:\n",
      "\n",
      "1. \"The Sopranos\" - This HBO series is a crime drama that follows the life of Tony Soprano, a New Jersey mob boss, as he navigates the criminal underworld and deals with personal and family issues.\n",
      "2. \"The Wire\" - This HBO series explores the drug trade in Baltimore from multiple perspectives, including law enforcement, drug dealers, and politicians. It's known for its gritty realism and complex characters.\n",
      "3. \"Narcos\" - This Netflix series tells the true story of Pablo Escobar, the infamous Colombian drug lord, and the\n",
      "\n",
      "\n",
      "===============================\n",
      "I liked \"Breaking Bad\" and \"Band of Brothers\". Do you have any recommendations of other shows I might like?\n",
      "\n",
      "I'm a fan of gritty, realistic drama with complex characters and compelling storylines. I'm also open to other genres, but I prefer shows that have a strong narrative focus and don't rely too heavily on humor or slapstick comedy.\n",
      "\n",
      "Here are a few shows that I think you might enjoy, based on your preferences:\n",
      "\n",
      "1. \"The Wire\" - This HBO series is widely regarded as one of the greatest TV shows of all time, and for good reason. It's a gritty, realistic drama that explores the drug trade in Baltimore from multiple perspectives, including law enforcement, drug dealers, and politicians. The show features complex characters, a strong narrative focus, and a willingness to tackle t\n",
      "\n",
      "\n"
     ]
    }
   ],
   "source": [
    "for seq in sequences:\n",
    "    print('===============================')\n",
    "    print(seq['generated_text'] + '\\n\\n')"
   ]
  },
  {
   "cell_type": "code",
   "execution_count": 28,
   "id": "595ccde9",
   "metadata": {
    "ExecuteTime": {
     "end_time": "2023-08-08T15:05:35.346311Z",
     "start_time": "2023-08-08T15:05:30.272378Z"
    },
    "tags": [],
    "pycharm": {
     "name": "#%%\n"
    }
   },
   "outputs": [
    {
     "name": "stdout",
     "output_type": "stream",
     "text": [
      "===============================\n",
      "我比较喜欢《肖申克的救赎》、《星际穿越》这样的电影，你有其他电影推荐吗？\n",
      "\n",
      "As a fan of science fiction movies, I particularly enjoy \"Blade Runner\" and \"Star Trek.\" Are there any other movie recommendations you could offer?\n",
      "===============================\n",
      "我比较喜欢《肖申克的救赎》、《星际穿越》这样的电影，你有其他电影推荐吗？\n",
      "\n",
      "I prefer movies like \"Schindler's List\" and \"Interstellar\" more, do you have any other movie recommendations?\n",
      "===============================\n",
      "我比较喜欢《肖申克的救赎》、《星际穿越》这样的电影，你有其他电影推荐吗？\n",
      "\n",
      "Hi there! 😊 I'm a big fan of sci-fi movies like \"Interstellar\" and \"Inception\". Do you have any other movie recommendations? 🤔\n"
     ]
    }
   ],
   "source": [
    "sequences = pipeline(\n",
    "    '我比较喜欢《肖申克的救赎》、《星际穿越》这样的电影，你有其他电影推荐吗？\\n',\n",
    "    do_sample=True,\n",
    "    top_k=10,\n",
    "    num_return_sequences=3,\n",
    "    eos_token_id=tokenizer.eos_token_id,\n",
    "    max_length=200,\n",
    ")\n",
    "for seq in sequences:\n",
    "    print('===============================')\n",
    "    print(seq['generated_text'])"
   ]
  },
  {
   "cell_type": "markdown",
   "id": "0ac564c6",
   "metadata": {
    "pycharm": {
     "name": "#%% md\n"
    }
   },
   "source": [
    "## Fine-tune"
   ]
  },
  {
   "cell_type": "markdown",
   "id": "ad25cd30",
   "metadata": {
    "pycharm": {
     "name": "#%% md\n"
    }
   },
   "source": [
    "使用 trl 库的 SFTTrainer。具体代码可参考 trl 库中的 example 代码，位置如下。\n",
    "\n",
    "```\n",
    "pip install trl\n",
    "git clone https://github.com/lvwerra/trl\n",
    "python trl/examples/scripts/sft_trainer.py \\\n",
    "    --model_name meta-llama/Llama-2-7b-hf \\\n",
    "    --dataset_name timdettmers/openassistant-guanaco \\\n",
    "    --load_in_4bit \\\n",
    "    --use_peft \\\n",
    "    --batch_size 16 \\\n",
    "    --gradient_accumulation_steps 2\n",
    "```\n",
    "\n",
    "- 对于 4090，大概需要 5 个小时\n",
    "    - 3 个 epochs\n",
    "    - 16 * 2 的 batch size\n",
    "    - (9846 * 3) / (16 * 2 * 1) == 924 个 optimization steps，即 len(dataset) * epochs / (batch_size * gradient_accumulation_steps * n_gpus)"
   ]
  }
 ],
 "metadata": {
  "kernelspec": {
   "display_name": "nlp_study",
   "language": "python",
   "name": "nlp_study"
  },
  "language_info": {
   "codemirror_mode": {
    "name": "ipython",
    "version": 3
   },
   "file_extension": ".py",
   "mimetype": "text/x-python",
   "name": "python",
   "nbconvert_exporter": "python",
   "pygments_lexer": "ipython3",
   "version": "3.8.20"
  },
  "toc": {
   "base_numbering": 1,
   "nav_menu": {},
   "number_sections": true,
   "sideBar": true,
   "skip_h1_title": false,
   "title_cell": "Table of Contents",
   "title_sidebar": "Contents",
   "toc_cell": false,
   "toc_position": {},
   "toc_section_display": true,
   "toc_window_display": false
  }
 },
 "nbformat": 4,
 "nbformat_minor": 5
}