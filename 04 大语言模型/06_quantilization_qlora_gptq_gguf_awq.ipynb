{
 "cells": [
  {
   "cell_type": "code",
   "execution_count": 1,
   "id": "75524107-ecf6-49de-b06f-1834c9de85ad",
   "metadata": {
    "tags": []
   },
   "outputs": [],
   "source": [
    "# import os\n",
    "# os.environ['http_proxy'] = 'http://127.0.0.1:7890'\n",
    "# os.environ['https_proxy'] = 'http://127.0.0.1:7890'"
   ]
  },
  {
   "cell_type": "code",
   "execution_count": 2,
   "id": "8c76f9d6-477b-43a4-aef7-7ebb6f3d1ae3",
   "metadata": {
    "tags": []
   },
   "outputs": [],
   "source": [
    "import subprocess\n",
    "import os\n",
    "os.environ['CURL_CA_BUNDLE'] = ''\n",
    "\n",
    "result = subprocess.run('bash -c \"source /etc/network_turbo && env | grep proxy\"', shell=True, capture_output=True, text=True)\n",
    "output = result.stdout\n",
    "for line in output.splitlines():\n",
    "    if '=' in line:\n",
    "        var, value = line.split('=', 1)\n",
    "        os.environ[var] = value"
   ]
  },
  {
   "cell_type": "code",
   "execution_count": 4,
   "id": "c7c612f4-e6f2-4c45-8232-3bc12cd8e271",
   "metadata": {
    "tags": []
   },
   "outputs": [],
   "source": [
    "from torch import bfloat16\n",
    "import torch\n",
    "from transformers import pipeline, AutoTokenizer, AutoModelForCausalLM\n",
    "import numpy as np\n",
    "import seaborn as sns\n",
    "import matplotlib.pyplot as plt\n",
    "from IPython.display import Image"
   ]
  },
  {
   "cell_type": "markdown",
   "id": "d8ac21d5-ca7f-43e7-956d-83d8685049fe",
   "metadata": {},
   "source": [
    "## Overall"
   ]
  },
  {
   "cell_type": "markdown",
   "id": "3da66ebe-60e0-44d9-9a06-852be1eb315f",
   "metadata": {},
   "source": [
    "- HuggingFace bitsandbytes\n",
    "- GPTQ: data **compression**, GPU，https://arxiv.org/pdf/2210.17323\n",
    "    - GPTQ is a **post-training quantization (PTQ)** method for 4-bit quantization that focuses primarily on **GPU** inference and performance.\n",
    "    - to quantizing the weights of transformer-based models\n",
    "    - first applies scalar quant to the weights, followed by vector quant to the residuals\n",
    "    - The idea behind the method is that it will try to **compress all weights to a 4-bit quantization** by minimizing the **mean squared error** to that weight.\n",
    "        - During inference, it will dynamically dequantize its weights to float16 for improved performance whilst keeping memory low.\n",
    "- GGUF: ggml, CPU\n",
    "    - c++, \n",
    "    - llama.cpp, https://github.com/ggerganov/llama.cpp\n",
    "- AWQ：activation aware quantization，https://arxiv.org/abs/2306.00978"
   ]
  },
  {
   "cell_type": "markdown",
   "id": "eccef1ea-ef4e-4393-9a96-3d164d763867",
   "metadata": {},
   "source": [
    "## Examples"
   ]
  },
  {
   "cell_type": "code",
   "execution_count": 4,
   "id": "9f98b2f3-72aa-44b7-a4e1-56e719a1a292",
   "metadata": {
    "tags": []
   },
   "outputs": [
    {
     "data": {
      "application/vnd.jupyter.widget-view+json": {
       "model_id": "084289a2a83d419d8fb0b5687522ede0",
       "version_major": 2,
       "version_minor": 0
      },
      "text/plain": [
       "Loading checkpoint shards:   0%|          | 0/4 [00:00<?, ?it/s]"
      ]
     },
     "metadata": {},
     "output_type": "display_data"
    }
   ],
   "source": [
    "# Load in your LLM without any compression tricks\n",
    "model_id = \"meta-llama/Meta-Llama-3-8B-Instruct\" \n",
    "pipe = pipeline(\n",
    "    \"text-generation\",\n",
    "    model=model_id,\n",
    "    torch_dtype=bfloat16,\n",
    "    device_map=\"auto\"\n",
    ")"
   ]
  },
  {
   "cell_type": "code",
   "execution_count": 5,
   "id": "84d0f04e-910d-4268-b347-a8d89dd732db",
   "metadata": {
    "tags": []
   },
   "outputs": [
    {
     "data": {
      "text/plain": [
       "LlamaForCausalLM(\n",
       "  (model): LlamaModel(\n",
       "    (embed_tokens): Embedding(128256, 4096)\n",
       "    (layers): ModuleList(\n",
       "      (0-31): 32 x LlamaDecoderLayer(\n",
       "        (self_attn): LlamaSdpaAttention(\n",
       "          (q_proj): Linear(in_features=4096, out_features=4096, bias=False)\n",
       "          (k_proj): Linear(in_features=4096, out_features=1024, bias=False)\n",
       "          (v_proj): Linear(in_features=4096, out_features=1024, bias=False)\n",
       "          (o_proj): Linear(in_features=4096, out_features=4096, bias=False)\n",
       "          (rotary_emb): LlamaRotaryEmbedding()\n",
       "        )\n",
       "        (mlp): LlamaMLP(\n",
       "          (gate_proj): Linear(in_features=4096, out_features=14336, bias=False)\n",
       "          (up_proj): Linear(in_features=4096, out_features=14336, bias=False)\n",
       "          (down_proj): Linear(in_features=14336, out_features=4096, bias=False)\n",
       "          (act_fn): SiLU()\n",
       "        )\n",
       "        (input_layernorm): LlamaRMSNorm((4096,), eps=1e-05)\n",
       "        (post_attention_layernorm): LlamaRMSNorm((4096,), eps=1e-05)\n",
       "      )\n",
       "    )\n",
       "    (norm): LlamaRMSNorm((4096,), eps=1e-05)\n",
       "    (rotary_emb): LlamaRotaryEmbedding()\n",
       "  )\n",
       "  (lm_head): Linear(in_features=4096, out_features=128256, bias=False)\n",
       ")"
      ]
     },
     "execution_count": 5,
     "metadata": {},
     "output_type": "execute_result"
    }
   ],
   "source": [
    "pipe.model"
   ]
  },
  {
   "cell_type": "code",
   "execution_count": 6,
   "id": "025925bc-df5e-4227-8fc5-43aa99c6dbde",
   "metadata": {
    "tags": []
   },
   "outputs": [],
   "source": [
    "q_proj = pipe.model.model.layers[0].self_attn.q_proj.weight.detach().to(torch.float16).cpu().numpy().flatten()"
   ]
  },
  {
   "cell_type": "code",
   "execution_count": 7,
   "id": "6cb2d327-d751-4ca2-90fe-a70c09bdef2b",
   "metadata": {
    "tags": []
   },
   "outputs": [
    {
     "data": {
      "text/plain": [
       "<Axes: ylabel='Count'>"
      ]
     },
     "execution_count": 7,
     "metadata": {},
     "output_type": "execute_result"
    },
    {
     "data": {
      "image/png": "[encoded data removed]",
      "text/plain": [
       "<Figure size 1000x600 with 1 Axes>"
      ]
     },
     "metadata": {},
     "output_type": "display_data"
    }
   ],
   "source": [
    "plt.figure(figsize=(10, 6))\n",
    "# 可以发现基本是集中在均值 0 附近\n",
    "sns.histplot(q_proj[:10000], bins=50, kde=True)"
   ]
  },
  {
   "cell_type": "markdown",
   "id": "e01c197f-0de6-4c0f-bc3d-9113fcc08936",
   "metadata": {},
   "source": [
    "## Chat template"
   ]
  },
  {
   "cell_type": "markdown",
   "id": "a730297c-d16f-4503-9dd8-88b8622e3870",
   "metadata": {},
   "source": [
    "- llama3\n",
    "    - `<|begin_of_text|>`\n",
    "    - `<|start_header_id|>system<|end_header_id|>....<|eot_id|>`\n",
    "    - `<|start_header_id|>user<|end_header_id|>...<|eot_id|>`\n",
    "    - `<|start_header_id|>assistant<|end_header_id|>...`\n",
    "- zephyr（部分其他模型）\n",
    "    - `<|system|> ... </s>`\n",
    "    - `<|user|> ... </s>`\n",
    "    - `<|assistant|> ... </s>`"
   ]
  },
  {
   "cell_type": "code",
   "execution_count": 8,
   "id": "42e1f09d-eb7b-400f-85b3-c31ac0ebad48",
   "metadata": {
    "tags": []
   },
   "outputs": [
    {
     "name": "stdout",
     "output_type": "stream",
     "text": [
      "<|begin_of_text|><|start_header_id|>system<|end_header_id|>\n",
      "\n",
      "You are a friendly chatbot.<|eot_id|><|start_header_id|>user<|end_header_id|>\n",
      "\n",
      "Tell me a funny joke about Large Language Models.<|eot_id|><|start_header_id|>assistant<|end_header_id|>\n",
      "\n",
      "\n"
     ]
    }
   ],
   "source": [
    "# See https://huggingface.co/docs/transformers/main/en/chat_templating\n",
    "messages = [\n",
    "    {\n",
    "        \"role\": \"system\",\n",
    "        \"content\": \"You are a friendly chatbot.\",\n",
    "    },\n",
    "    {\n",
    "        \"role\": \"user\",\n",
    "        \"content\": \"Tell me a funny joke about Large Language Models.\"\n",
    "    },\n",
    "]\n",
    "prompt = pipe.tokenizer.apply_chat_template(messages, tokenize=False, add_generation_prompt=True)\n",
    "print(prompt)"
   ]
  },
  {
   "cell_type": "code",
   "execution_count": 9,
   "id": "b6ee927c-6231-48c8-b264-88951ae53590",
   "metadata": {
    "scrolled": true,
    "tags": []
   },
   "outputs": [
    {
     "data": {
      "text/plain": [
       "PreTrainedTokenizerFast(name_or_path='meta-llama/Meta-Llama-3-8B-Instruct', vocab_size=128000, model_max_length=1000000000000000019884624838656, is_fast=True, padding_side='right', truncation_side='right', special_tokens={'bos_token': '<|begin_of_text|>', 'eos_token': '<|eot_id|>'}, clean_up_tokenization_spaces=True),  added_tokens_decoder={\n",
       "\t128000: AddedToken(\"<|begin_of_text|>\", rstrip=False, lstrip=False, single_word=False, normalized=False, special=True),\n",
       "\t128001: AddedToken(\"<|end_of_text|>\", rstrip=False, lstrip=False, single_word=False, normalized=False, special=True),\n",
       "\t128002: AddedToken(\"<|reserved_special_token_0|>\", rstrip=False, lstrip=False, single_word=False, normalized=False, special=True),\n",
       "\t128003: AddedToken(\"<|reserved_special_token_1|>\", rstrip=False, lstrip=False, single_word=False, normalized=False, special=True),\n",
       "\t128004: AddedToken(\"<|reserved_special_token_2|>\", rstrip=False, lstrip=False, single_word=False, normalized=False, special=True),\n",
       "\t128005: AddedToken(\"<|reserved_special_token_3|>\", rstrip=False, lstrip=False, single_word=False, normalized=False, special=True),\n",
       "\t128006: AddedToken(\"<|start_header_id|>\", rstrip=False, lstrip=False, single_word=False, normalized=False, special=True),\n",
       "\t128007: AddedToken(\"<|end_header_id|>\", rstrip=False, lstrip=False, single_word=False, normalized=False, special=True),\n",
       "\t128008: AddedToken(\"<|reserved_special_token_4|>\", rstrip=False, lstrip=False, single_word=False, normalized=False, special=True),\n",
       "\t128009: AddedToken(\"<|eot_id|>\", rstrip=False, lstrip=False, single_word=False, normalized=False, special=True),\n",
       "\t128010: AddedToken(\"<|reserved_special_token_5|>\", rstrip=False, lstrip=False, single_word=False, normalized=False, special=True),\n",
       "\t128011: AddedToken(\"<|reserved_special_token_6|>\", rstrip=False, lstrip=False, single_word=False, normalized=False, special=True),\n",
       "\t128012: AddedToken(\"<|reserved_special_token_7|>\", rstrip=False, lstrip=False, single_word=False, normalized=False, special=True),\n",
       "\t128013: AddedToken(\"<|reserved_special_token_8|>\", rstrip=False, lstrip=False, single_word=False, normalized=False, special=True),\n",
       "\t128014: AddedToken(\"<|reserved_special_token_9|>\", rstrip=False, lstrip=False, single_word=False, normalized=False, special=True),\n",
       "\t128015: AddedToken(\"<|reserved_special_token_10|>\", rstrip=False, lstrip=False, single_word=False, normalized=False, special=True),\n",
       "\t128016: AddedToken(\"<|reserved_special_token_11|>\", rstrip=False, lstrip=False, single_word=False, normalized=False, special=True),\n",
       "\t128017: AddedToken(\"<|reserved_special_token_12|>\", rstrip=False, lstrip=False, single_word=False, normalized=False, special=True),\n",
       "\t128018: AddedToken(\"<|reserved_special_token_13|>\", rstrip=False, lstrip=False, single_word=False, normalized=False, special=True),\n",
       "\t128019: AddedToken(\"<|reserved_special_token_14|>\", rstrip=False, lstrip=False, single_word=False, normalized=False, special=True),\n",
       "\t128020: AddedToken(\"<|reserved_special_token_15|>\", rstrip=False, lstrip=False, single_word=False, normalized=False, special=True),\n",
       "\t128021: AddedToken(\"<|reserved_special_token_16|>\", rstrip=False, lstrip=False, single_word=False, normalized=False, special=True),\n",
       "\t128022: AddedToken(\"<|reserved_special_token_17|>\", rstrip=False, lstrip=False, single_word=False, normalized=False, special=True),\n",
       "\t128023: AddedToken(\"<|reserved_special_token_18|>\", rstrip=False, lstrip=False, single_word=False, normalized=False, special=True),\n",
       "\t128024: AddedToken(\"<|reserved_special_token_19|>\", rstrip=False, lstrip=False, single_word=False, normalized=False, special=True),\n",
       "\t128025: AddedToken(\"<|reserved_special_token_20|>\", rstrip=False, lstrip=False, single_word=False, normalized=False, special=True),\n",
       "\t128026: AddedToken(\"<|reserved_special_token_21|>\", rstrip=False, lstrip=False, single_word=False, normalized=False, special=True),\n",
       "\t128027: AddedToken(\"<|reserved_special_token_22|>\", rstrip=False, lstrip=False, single_word=False, normalized=False, special=True),\n",
       "\t128028: AddedToken(\"<|reserved_special_token_23|>\", rstrip=False, lstrip=False, single_word=False, normalized=False, special=True),\n",
       "\t128029: AddedToken(\"<|reserved_special_token_24|>\", rstrip=False, lstrip=False, single_word=False, normalized=False, special=True),\n",
       "\t128030: AddedToken(\"<|reserved_special_token_25|>\", rstrip=False, lstrip=False, single_word=False, normalized=False, special=True),\n",
       "\t128031: AddedToken(\"<|reserved_special_token_26|>\", rstrip=False, lstrip=False, single_word=False, normalized=False, special=True),\n",
       "\t128032: AddedToken(\"<|reserved_special_token_27|>\", rstrip=False, lstrip=False, single_word=False, normalized=False, special=True),\n",
       "\t128033: AddedToken(\"<|reserved_special_token_28|>\", rstrip=False, lstrip=False, single_word=False, normalized=False, special=True),\n",
       "\t128034: AddedToken(\"<|reserved_special_token_29|>\", rstrip=False, lstrip=False, single_word=False, normalized=False, special=True),\n",
       "\t128035: AddedToken(\"<|reserved_special_token_30|>\", rstrip=False, lstrip=False, single_word=False, normalized=False, special=True),\n",
       "\t128036: AddedToken(\"<|reserved_special_token_31|>\", rstrip=False, lstrip=False, single_word=False, normalized=False, special=True),\n",
       "\t128037: AddedToken(\"<|reserved_special_token_32|>\", rstrip=False, lstrip=False, single_word=False, normalized=False, special=True),\n",
       "\t128038: AddedToken(\"<|reserved_special_token_33|>\", rstrip=False, lstrip=False, single_word=False, normalized=False, special=True),\n",
       "\t128039: AddedToken(\"<|reserved_special_token_34|>\", rstrip=False, lstrip=False, single_word=False, normalized=False, special=True),\n",
       "\t128040: AddedToken(\"<|reserved_special_token_35|>\", rstrip=False, lstrip=False, single_word=False, normalized=False, special=True),\n",
       "\t128041: AddedToken(\"<|reserved_special_token_36|>\", rstrip=False, lstrip=False, single_word=False, normalized=False, special=True),\n",
       "\t128042: AddedToken(\"<|reserved_special_token_37|>\", rstrip=False, lstrip=False, single_word=False, normalized=False, special=True),\n",
       "\t128043: AddedToken(\"<|reserved_special_token_38|>\", rstrip=False, lstrip=False, single_word=False, normalized=False, special=True),\n",
       "\t128044: AddedToken(\"<|reserved_special_token_39|>\", rstrip=False, lstrip=False, single_word=False, normalized=False, special=True),\n",
       "\t128045: AddedToken(\"<|reserved_special_token_40|>\", rstrip=False, lstrip=False, single_word=False, normalized=False, special=True),\n",
       "\t128046: AddedToken(\"<|reserved_special_token_41|>\", rstrip=False, lstrip=False, single_word=False, normalized=False, special=True),\n",
       "\t128047: AddedToken(\"<|reserved_special_token_42|>\", rstrip=False, lstrip=False, single_word=False, normalized=False, special=True),\n",
       "\t128048: AddedToken(\"<|reserved_special_token_43|>\", rstrip=False, lstrip=False, single_word=False, normalized=False, special=True),\n",
       "\t128049: AddedToken(\"<|reserved_special_token_44|>\", rstrip=False, lstrip=False, single_word=False, normalized=False, special=True),\n",
       "\t128050: AddedToken(\"<|reserved_special_token_45|>\", rstrip=False, lstrip=False, single_word=False, normalized=False, special=True),\n",
       "\t128051: AddedToken(\"<|reserved_special_token_46|>\", rstrip=False, lstrip=False, single_word=False, normalized=False, special=True),\n",
       "\t128052: AddedToken(\"<|reserved_special_token_47|>\", rstrip=False, lstrip=False, single_word=False, normalized=False, special=True),\n",
       "\t128053: AddedToken(\"<|reserved_special_token_48|>\", rstrip=False, lstrip=False, single_word=False, normalized=False, special=True),\n",
       "\t128054: AddedToken(\"<|reserved_special_token_49|>\", rstrip=False, lstrip=False, single_word=False, normalized=False, special=True),\n",
       "\t128055: AddedToken(\"<|reserved_special_token_50|>\", rstrip=False, lstrip=False, single_word=False, normalized=False, special=True),\n",
       "\t128056: AddedToken(\"<|reserved_special_token_51|>\", rstrip=False, lstrip=False, single_word=False, normalized=False, special=True),\n",
       "\t128057: AddedToken(\"<|reserved_special_token_52|>\", rstrip=False, lstrip=False, single_word=False, normalized=False, special=True),\n",
       "\t128058: AddedToken(\"<|reserved_special_token_53|>\", rstrip=False, lstrip=False, single_word=False, normalized=False, special=True),\n",
       "\t128059: AddedToken(\"<|reserved_special_token_54|>\", rstrip=False, lstrip=False, single_word=False, normalized=False, special=True),\n",
       "\t128060: AddedToken(\"<|reserved_special_token_55|>\", rstrip=False, lstrip=False, single_word=False, normalized=False, special=True),\n",
       "\t128061: AddedToken(\"<|reserved_special_token_56|>\", rstrip=False, lstrip=False, single_word=False, normalized=False, special=True),\n",
       "\t128062: AddedToken(\"<|reserved_special_token_57|>\", rstrip=False, lstrip=False, single_word=False, normalized=False, special=True),\n",
       "\t128063: AddedToken(\"<|reserved_special_token_58|>\", rstrip=False, lstrip=False, single_word=False, normalized=False, special=True),\n",
       "\t128064: AddedToken(\"<|reserved_special_token_59|>\", rstrip=False, lstrip=False, single_word=False, normalized=False, special=True),\n",
       "\t128065: AddedToken(\"<|reserved_special_token_60|>\", rstrip=False, lstrip=False, single_word=False, normalized=False, special=True),\n",
       "\t128066: AddedToken(\"<|reserved_special_token_61|>\", rstrip=False, lstrip=False, single_word=False, normalized=False, special=True),\n",
       "\t128067: AddedToken(\"<|reserved_special_token_62|>\", rstrip=False, lstrip=False, single_word=False, normalized=False, special=True),\n",
       "\t128068: AddedToken(\"<|reserved_special_token_63|>\", rstrip=False, lstrip=False, single_word=False, normalized=False, special=True),\n",
       "\t128069: AddedToken(\"<|reserved_special_token_64|>\", rstrip=False, lstrip=False, single_word=False, normalized=False, special=True),\n",
       "\t128070: AddedToken(\"<|reserved_special_token_65|>\", rstrip=False, lstrip=False, single_word=False, normalized=False, special=True),\n",
       "\t128071: AddedToken(\"<|reserved_special_token_66|>\", rstrip=False, lstrip=False, single_word=False, normalized=False, special=True),\n",
       "\t128072: AddedToken(\"<|reserved_special_token_67|>\", rstrip=False, lstrip=False, single_word=False, normalized=False, special=True),\n",
       "\t128073: AddedToken(\"<|reserved_special_token_68|>\", rstrip=False, lstrip=False, single_word=False, normalized=False, special=True),\n",
       "\t128074: AddedToken(\"<|reserved_special_token_69|>\", rstrip=False, lstrip=False, single_word=False, normalized=False, special=True),\n",
       "\t128075: AddedToken(\"<|reserved_special_token_70|>\", rstrip=False, lstrip=False, single_word=False, normalized=False, special=True),\n",
       "\t128076: AddedToken(\"<|reserved_special_token_71|>\", rstrip=False, lstrip=False, single_word=False, normalized=False, special=True),\n",
       "\t128077: AddedToken(\"<|reserved_special_token_72|>\", rstrip=False, lstrip=False, single_word=False, normalized=False, special=True),\n",
       "\t128078: AddedToken(\"<|reserved_special_token_73|>\", rstrip=False, lstrip=False, single_word=False, normalized=False, special=True),\n",
       "\t128079: AddedToken(\"<|reserved_special_token_74|>\", rstrip=False, lstrip=False, single_word=False, normalized=False, special=True),\n",
       "\t128080: AddedToken(\"<|reserved_special_token_75|>\", rstrip=False, lstrip=False, single_word=False, normalized=False, special=True),\n",
       "\t128081: AddedToken(\"<|reserved_special_token_76|>\", rstrip=False, lstrip=False, single_word=False, normalized=False, special=True),\n",
       "\t128082: AddedToken(\"<|reserved_special_token_77|>\", rstrip=False, lstrip=False, single_word=False, normalized=False, special=True),\n",
       "\t128083: AddedToken(\"<|reserved_special_token_78|>\", rstrip=False, lstrip=False, single_word=False, normalized=False, special=True),\n",
       "\t128084: AddedToken(\"<|reserved_special_token_79|>\", rstrip=False, lstrip=False, single_word=False, normalized=False, special=True),\n",
       "\t128085: AddedToken(\"<|reserved_special_token_80|>\", rstrip=False, lstrip=False, single_word=False, normalized=False, special=True),\n",
       "\t128086: AddedToken(\"<|reserved_special_token_81|>\", rstrip=False, lstrip=False, single_word=False, normalized=False, special=True),\n",
       "\t128087: AddedToken(\"<|reserved_special_token_82|>\", rstrip=False, lstrip=False, single_word=False, normalized=False, special=True),\n",
       "\t128088: AddedToken(\"<|reserved_special_token_83|>\", rstrip=False, lstrip=False, single_word=False, normalized=False, special=True),\n",
       "\t128089: AddedToken(\"<|reserved_special_token_84|>\", rstrip=False, lstrip=False, single_word=False, normalized=False, special=True),\n",
       "\t128090: AddedToken(\"<|reserved_special_token_85|>\", rstrip=False, lstrip=False, single_word=False, normalized=False, special=True),\n",
       "\t128091: AddedToken(\"<|reserved_special_token_86|>\", rstrip=False, lstrip=False, single_word=False, normalized=False, special=True),\n",
       "\t128092: AddedToken(\"<|reserved_special_token_87|>\", rstrip=False, lstrip=False, single_word=False, normalized=False, special=True),\n",
       "\t128093: AddedToken(\"<|reserved_special_token_88|>\", rstrip=False, lstrip=False, single_word=False, normalized=False, special=True),\n",
       "\t128094: AddedToken(\"<|reserved_special_token_89|>\", rstrip=False, lstrip=False, single_word=False, normalized=False, special=True),\n",
       "\t128095: AddedToken(\"<|reserved_special_token_90|>\", rstrip=False, lstrip=False, single_word=False, normalized=False, special=True),\n",
       "\t128096: AddedToken(\"<|reserved_special_token_91|>\", rstrip=False, lstrip=False, single_word=False, normalized=False, special=True),\n",
       "\t128097: AddedToken(\"<|reserved_special_token_92|>\", rstrip=False, lstrip=False, single_word=False, normalized=False, special=True),\n",
       "\t128098: AddedToken(\"<|reserved_special_token_93|>\", rstrip=False, lstrip=False, single_word=False, normalized=False, special=True),\n",
       "\t128099: AddedToken(\"<|reserved_special_token_94|>\", rstrip=False, lstrip=False, single_word=False, normalized=False, special=True),\n",
       "\t128100: AddedToken(\"<|reserved_special_token_95|>\", rstrip=False, lstrip=False, single_word=False, normalized=False, special=True),\n",
       "\t128101: AddedToken(\"<|reserved_special_token_96|>\", rstrip=False, lstrip=False, single_word=False, normalized=False, special=True),\n",
       "\t128102: AddedToken(\"<|reserved_special_token_97|>\", rstrip=False, lstrip=False, single_word=False, normalized=False, special=True),\n",
       "\t128103: AddedToken(\"<|reserved_special_token_98|>\", rstrip=False, lstrip=False, single_word=False, normalized=False, special=True),\n",
       "\t128104: AddedToken(\"<|reserved_special_token_99|>\", rstrip=False, lstrip=False, single_word=False, normalized=False, special=True),\n",
       "\t128105: AddedToken(\"<|reserved_special_token_100|>\", rstrip=False, lstrip=False, single_word=False, normalized=False, special=True),\n",
       "\t128106: AddedToken(\"<|reserved_special_token_101|>\", rstrip=False, lstrip=False, single_word=False, normalized=False, special=True),\n",
       "\t128107: AddedToken(\"<|reserved_special_token_102|>\", rstrip=False, lstrip=False, single_word=False, normalized=False, special=True),\n",
       "\t128108: AddedToken(\"<|reserved_special_token_103|>\", rstrip=False, lstrip=False, single_word=False, normalized=False, special=True),\n",
       "\t128109: AddedToken(\"<|reserved_special_token_104|>\", rstrip=False, lstrip=False, single_word=False, normalized=False, special=True),\n",
       "\t128110: AddedToken(\"<|reserved_special_token_105|>\", rstrip=False, lstrip=False, single_word=False, normalized=False, special=True),\n",
       "\t128111: AddedToken(\"<|reserved_special_token_106|>\", rstrip=False, lstrip=False, single_word=False, normalized=False, special=True),\n",
       "\t128112: AddedToken(\"<|reserved_special_token_107|>\", rstrip=False, lstrip=False, single_word=False, normalized=False, special=True),\n",
       "\t128113: AddedToken(\"<|reserved_special_token_108|>\", rstrip=False, lstrip=False, single_word=False, normalized=False, special=True),\n",
       "\t128114: AddedToken(\"<|reserved_special_token_109|>\", rstrip=False, lstrip=False, single_word=False, normalized=False, special=True),\n",
       "\t128115: AddedToken(\"<|reserved_special_token_110|>\", rstrip=False, lstrip=False, single_word=False, normalized=False, special=True),\n",
       "\t128116: AddedToken(\"<|reserved_special_token_111|>\", rstrip=False, lstrip=False, single_word=False, normalized=False, special=True),\n",
       "\t128117: AddedToken(\"<|reserved_special_token_112|>\", rstrip=False, lstrip=False, single_word=False, normalized=False, special=True),\n",
       "\t128118: AddedToken(\"<|reserved_special_token_113|>\", rstrip=False, lstrip=False, single_word=False, normalized=False, special=True),\n",
       "\t128119: AddedToken(\"<|reserved_special_token_114|>\", rstrip=False, lstrip=False, single_word=False, normalized=False, special=True),\n",
       "\t128120: AddedToken(\"<|reserved_special_token_115|>\", rstrip=False, lstrip=False, single_word=False, normalized=False, special=True),\n",
       "\t128121: AddedToken(\"<|reserved_special_token_116|>\", rstrip=False, lstrip=False, single_word=False, normalized=False, special=True),\n",
       "\t128122: AddedToken(\"<|reserved_special_token_117|>\", rstrip=False, lstrip=False, single_word=False, normalized=False, special=True),\n",
       "\t128123: AddedToken(\"<|reserved_special_token_118|>\", rstrip=False, lstrip=False, single_word=False, normalized=False, special=True),\n",
       "\t128124: AddedToken(\"<|reserved_special_token_119|>\", rstrip=False, lstrip=False, single_word=False, normalized=False, special=True),\n",
       "\t128125: AddedToken(\"<|reserved_special_token_120|>\", rstrip=False, lstrip=False, single_word=False, normalized=False, special=True),\n",
       "\t128126: AddedToken(\"<|reserved_special_token_121|>\", rstrip=False, lstrip=False, single_word=False, normalized=False, special=True),\n",
       "\t128127: AddedToken(\"<|reserved_special_token_122|>\", rstrip=False, lstrip=False, single_word=False, normalized=False, special=True),\n",
       "\t128128: AddedToken(\"<|reserved_special_token_123|>\", rstrip=False, lstrip=False, single_word=False, normalized=False, special=True),\n",
       "\t128129: AddedToken(\"<|reserved_special_token_124|>\", rstrip=False, lstrip=False, single_word=False, normalized=False, special=True),\n",
       "\t128130: AddedToken(\"<|reserved_special_token_125|>\", rstrip=False, lstrip=False, single_word=False, normalized=False, special=True),\n",
       "\t128131: AddedToken(\"<|reserved_special_token_126|>\", rstrip=False, lstrip=False, single_word=False, normalized=False, special=True),\n",
       "\t128132: AddedToken(\"<|reserved_special_token_127|>\", rstrip=False, lstrip=False, single_word=False, normalized=False, special=True),\n",
       "\t128133: AddedToken(\"<|reserved_special_token_128|>\", rstrip=False, lstrip=False, single_word=False, normalized=False, special=True),\n",
       "\t128134: AddedToken(\"<|reserved_special_token_129|>\", rstrip=False, lstrip=False, single_word=False, normalized=False, special=True),\n",
       "\t128135: AddedToken(\"<|reserved_special_token_130|>\", rstrip=False, lstrip=False, single_word=False, normalized=False, special=True),\n",
       "\t128136: AddedToken(\"<|reserved_special_token_131|>\", rstrip=False, lstrip=False, single_word=False, normalized=False, special=True),\n",
       "\t128137: AddedToken(\"<|reserved_special_token_132|>\", rstrip=False, lstrip=False, single_word=False, normalized=False, special=True),\n",
       "\t128138: AddedToken(\"<|reserved_special_token_133|>\", rstrip=False, lstrip=False, single_word=False, normalized=False, special=True),\n",
       "\t128139: AddedToken(\"<|reserved_special_token_134|>\", rstrip=False, lstrip=False, single_word=False, normalized=False, special=True),\n",
       "\t128140: AddedToken(\"<|reserved_special_token_135|>\", rstrip=False, lstrip=False, single_word=False, normalized=False, special=True),\n",
       "\t128141: AddedToken(\"<|reserved_special_token_136|>\", rstrip=False, lstrip=False, single_word=False, normalized=False, special=True),\n",
       "\t128142: AddedToken(\"<|reserved_special_token_137|>\", rstrip=False, lstrip=False, single_word=False, normalized=False, special=True),\n",
       "\t128143: AddedToken(\"<|reserved_special_token_138|>\", rstrip=False, lstrip=False, single_word=False, normalized=False, special=True),\n",
       "\t128144: AddedToken(\"<|reserved_special_token_139|>\", rstrip=False, lstrip=False, single_word=False, normalized=False, special=True),\n",
       "\t128145: AddedToken(\"<|reserved_special_token_140|>\", rstrip=False, lstrip=False, single_word=False, normalized=False, special=True),\n",
       "\t128146: AddedToken(\"<|reserved_special_token_141|>\", rstrip=False, lstrip=False, single_word=False, normalized=False, special=True),\n",
       "\t128147: AddedToken(\"<|reserved_special_token_142|>\", rstrip=False, lstrip=False, single_word=False, normalized=False, special=True),\n",
       "\t128148: AddedToken(\"<|reserved_special_token_143|>\", rstrip=False, lstrip=False, single_word=False, normalized=False, special=True),\n",
       "\t128149: AddedToken(\"<|reserved_special_token_144|>\", rstrip=False, lstrip=False, single_word=False, normalized=False, special=True),\n",
       "\t128150: AddedToken(\"<|reserved_special_token_145|>\", rstrip=False, lstrip=False, single_word=False, normalized=False, special=True),\n",
       "\t128151: AddedToken(\"<|reserved_special_token_146|>\", rstrip=False, lstrip=False, single_word=False, normalized=False, special=True),\n",
       "\t128152: AddedToken(\"<|reserved_special_token_147|>\", rstrip=False, lstrip=False, single_word=False, normalized=False, special=True),\n",
       "\t128153: AddedToken(\"<|reserved_special_token_148|>\", rstrip=False, lstrip=False, single_word=False, normalized=False, special=True),\n",
       "\t128154: AddedToken(\"<|reserved_special_token_149|>\", rstrip=False, lstrip=False, single_word=False, normalized=False, special=True),\n",
       "\t128155: AddedToken(\"<|reserved_special_token_150|>\", rstrip=False, lstrip=False, single_word=False, normalized=False, special=True),\n",
       "\t128156: AddedToken(\"<|reserved_special_token_151|>\", rstrip=False, lstrip=False, single_word=False, normalized=False, special=True),\n",
       "\t128157: AddedToken(\"<|reserved_special_token_152|>\", rstrip=False, lstrip=False, single_word=False, normalized=False, special=True),\n",
       "\t128158: AddedToken(\"<|reserved_special_token_153|>\", rstrip=False, lstrip=False, single_word=False, normalized=False, special=True),\n",
       "\t128159: AddedToken(\"<|reserved_special_token_154|>\", rstrip=False, lstrip=False, single_word=False, normalized=False, special=True),\n",
       "\t128160: AddedToken(\"<|reserved_special_token_155|>\", rstrip=False, lstrip=False, single_word=False, normalized=False, special=True),\n",
       "\t128161: AddedToken(\"<|reserved_special_token_156|>\", rstrip=False, lstrip=False, single_word=False, normalized=False, special=True),\n",
       "\t128162: AddedToken(\"<|reserved_special_token_157|>\", rstrip=False, lstrip=False, single_word=False, normalized=False, special=True),\n",
       "\t128163: AddedToken(\"<|reserved_special_token_158|>\", rstrip=False, lstrip=False, single_word=False, normalized=False, special=True),\n",
       "\t128164: AddedToken(\"<|reserved_special_token_159|>\", rstrip=False, lstrip=False, single_word=False, normalized=False, special=True),\n",
       "\t128165: AddedToken(\"<|reserved_special_token_160|>\", rstrip=False, lstrip=False, single_word=False, normalized=False, special=True),\n",
       "\t128166: AddedToken(\"<|reserved_special_token_161|>\", rstrip=False, lstrip=False, single_word=False, normalized=False, special=True),\n",
       "\t128167: AddedToken(\"<|reserved_special_token_162|>\", rstrip=False, lstrip=False, single_word=False, normalized=False, special=True),\n",
       "\t128168: AddedToken(\"<|reserved_special_token_163|>\", rstrip=False, lstrip=False, single_word=False, normalized=False, special=True),\n",
       "\t128169: AddedToken(\"<|reserved_special_token_164|>\", rstrip=False, lstrip=False, single_word=False, normalized=False, special=True),\n",
       "\t128170: AddedToken(\"<|reserved_special_token_165|>\", rstrip=False, lstrip=False, single_word=False, normalized=False, special=True),\n",
       "\t128171: AddedToken(\"<|reserved_special_token_166|>\", rstrip=False, lstrip=False, single_word=False, normalized=False, special=True),\n",
       "\t128172: AddedToken(\"<|reserved_special_token_167|>\", rstrip=False, lstrip=False, single_word=False, normalized=False, special=True),\n",
       "\t128173: AddedToken(\"<|reserved_special_token_168|>\", rstrip=False, lstrip=False, single_word=False, normalized=False, special=True),\n",
       "\t128174: AddedToken(\"<|reserved_special_token_169|>\", rstrip=False, lstrip=False, single_word=False, normalized=False, special=True),\n",
       "\t128175: AddedToken(\"<|reserved_special_token_170|>\", rstrip=False, lstrip=False, single_word=False, normalized=False, special=True),\n",
       "\t128176: AddedToken(\"<|reserved_special_token_171|>\", rstrip=False, lstrip=False, single_word=False, normalized=False, special=True),\n",
       "\t128177: AddedToken(\"<|reserved_special_token_172|>\", rstrip=False, lstrip=False, single_word=False, normalized=False, special=True),\n",
       "\t128178: AddedToken(\"<|reserved_special_token_173|>\", rstrip=False, lstrip=False, single_word=False, normalized=False, special=True),\n",
       "\t128179: AddedToken(\"<|reserved_special_token_174|>\", rstrip=False, lstrip=False, single_word=False, normalized=False, special=True),\n",
       "\t128180: AddedToken(\"<|reserved_special_token_175|>\", rstrip=False, lstrip=False, single_word=False, normalized=False, special=True),\n",
       "\t128181: AddedToken(\"<|reserved_special_token_176|>\", rstrip=False, lstrip=False, single_word=False, normalized=False, special=True),\n",
       "\t128182: AddedToken(\"<|reserved_special_token_177|>\", rstrip=False, lstrip=False, single_word=False, normalized=False, special=True),\n",
       "\t128183: AddedToken(\"<|reserved_special_token_178|>\", rstrip=False, lstrip=False, single_word=False, normalized=False, special=True),\n",
       "\t128184: AddedToken(\"<|reserved_special_token_179|>\", rstrip=False, lstrip=False, single_word=False, normalized=False, special=True),\n",
       "\t128185: AddedToken(\"<|reserved_special_token_180|>\", rstrip=False, lstrip=False, single_word=False, normalized=False, special=True),\n",
       "\t128186: AddedToken(\"<|reserved_special_token_181|>\", rstrip=False, lstrip=False, single_word=False, normalized=False, special=True),\n",
       "\t128187: AddedToken(\"<|reserved_special_token_182|>\", rstrip=False, lstrip=False, single_word=False, normalized=False, special=True),\n",
       "\t128188: AddedToken(\"<|reserved_special_token_183|>\", rstrip=False, lstrip=False, single_word=False, normalized=False, special=True),\n",
       "\t128189: AddedToken(\"<|reserved_special_token_184|>\", rstrip=False, lstrip=False, single_word=False, normalized=False, special=True),\n",
       "\t128190: AddedToken(\"<|reserved_special_token_185|>\", rstrip=False, lstrip=False, single_word=False, normalized=False, special=True),\n",
       "\t128191: AddedToken(\"<|reserved_special_token_186|>\", rstrip=False, lstrip=False, single_word=False, normalized=False, special=True),\n",
       "\t128192: AddedToken(\"<|reserved_special_token_187|>\", rstrip=False, lstrip=False, single_word=False, normalized=False, special=True),\n",
       "\t128193: AddedToken(\"<|reserved_special_token_188|>\", rstrip=False, lstrip=False, single_word=False, normalized=False, special=True),\n",
       "\t128194: AddedToken(\"<|reserved_special_token_189|>\", rstrip=False, lstrip=False, single_word=False, normalized=False, special=True),\n",
       "\t128195: AddedToken(\"<|reserved_special_token_190|>\", rstrip=False, lstrip=False, single_word=False, normalized=False, special=True),\n",
       "\t128196: AddedToken(\"<|reserved_special_token_191|>\", rstrip=False, lstrip=False, single_word=False, normalized=False, special=True),\n",
       "\t128197: AddedToken(\"<|reserved_special_token_192|>\", rstrip=False, lstrip=False, single_word=False, normalized=False, special=True),\n",
       "\t128198: AddedToken(\"<|reserved_special_token_193|>\", rstrip=False, lstrip=False, single_word=False, normalized=False, special=True),\n",
       "\t128199: AddedToken(\"<|reserved_special_token_194|>\", rstrip=False, lstrip=False, single_word=False, normalized=False, special=True),\n",
       "\t128200: AddedToken(\"<|reserved_special_token_195|>\", rstrip=False, lstrip=False, single_word=False, normalized=False, special=True),\n",
       "\t128201: AddedToken(\"<|reserved_special_token_196|>\", rstrip=False, lstrip=False, single_word=False, normalized=False, special=True),\n",
       "\t128202: AddedToken(\"<|reserved_special_token_197|>\", rstrip=False, lstrip=False, single_word=False, normalized=False, special=True),\n",
       "\t128203: AddedToken(\"<|reserved_special_token_198|>\", rstrip=False, lstrip=False, single_word=False, normalized=False, special=True),\n",
       "\t128204: AddedToken(\"<|reserved_special_token_199|>\", rstrip=False, lstrip=False, single_word=False, normalized=False, special=True),\n",
       "\t128205: AddedToken(\"<|reserved_special_token_200|>\", rstrip=False, lstrip=False, single_word=False, normalized=False, special=True),\n",
       "\t128206: AddedToken(\"<|reserved_special_token_201|>\", rstrip=False, lstrip=False, single_word=False, normalized=False, special=True),\n",
       "\t128207: AddedToken(\"<|reserved_special_token_202|>\", rstrip=False, lstrip=False, single_word=False, normalized=False, special=True),\n",
       "\t128208: AddedToken(\"<|reserved_special_token_203|>\", rstrip=False, lstrip=False, single_word=False, normalized=False, special=True),\n",
       "\t128209: AddedToken(\"<|reserved_special_token_204|>\", rstrip=False, lstrip=False, single_word=False, normalized=False, special=True),\n",
       "\t128210: AddedToken(\"<|reserved_special_token_205|>\", rstrip=False, lstrip=False, single_word=False, normalized=False, special=True),\n",
       "\t128211: AddedToken(\"<|reserved_special_token_206|>\", rstrip=False, lstrip=False, single_word=False, normalized=False, special=True),\n",
       "\t128212: AddedToken(\"<|reserved_special_token_207|>\", rstrip=False, lstrip=False, single_word=False, normalized=False, special=True),\n",
       "\t128213: AddedToken(\"<|reserved_special_token_208|>\", rstrip=False, lstrip=False, single_word=False, normalized=False, special=True),\n",
       "\t128214: AddedToken(\"<|reserved_special_token_209|>\", rstrip=False, lstrip=False, single_word=False, normalized=False, special=True),\n",
       "\t128215: AddedToken(\"<|reserved_special_token_210|>\", rstrip=False, lstrip=False, single_word=False, normalized=False, special=True),\n",
       "\t128216: AddedToken(\"<|reserved_special_token_211|>\", rstrip=False, lstrip=False, single_word=False, normalized=False, special=True),\n",
       "\t128217: AddedToken(\"<|reserved_special_token_212|>\", rstrip=False, lstrip=False, single_word=False, normalized=False, special=True),\n",
       "\t128218: AddedToken(\"<|reserved_special_token_213|>\", rstrip=False, lstrip=False, single_word=False, normalized=False, special=True),\n",
       "\t128219: AddedToken(\"<|reserved_special_token_214|>\", rstrip=False, lstrip=False, single_word=False, normalized=False, special=True),\n",
       "\t128220: AddedToken(\"<|reserved_special_token_215|>\", rstrip=False, lstrip=False, single_word=False, normalized=False, special=True),\n",
       "\t128221: AddedToken(\"<|reserved_special_token_216|>\", rstrip=False, lstrip=False, single_word=False, normalized=False, special=True),\n",
       "\t128222: AddedToken(\"<|reserved_special_token_217|>\", rstrip=False, lstrip=False, single_word=False, normalized=False, special=True),\n",
       "\t128223: AddedToken(\"<|reserved_special_token_218|>\", rstrip=False, lstrip=False, single_word=False, normalized=False, special=True),\n",
       "\t128224: AddedToken(\"<|reserved_special_token_219|>\", rstrip=False, lstrip=False, single_word=False, normalized=False, special=True),\n",
       "\t128225: AddedToken(\"<|reserved_special_token_220|>\", rstrip=False, lstrip=False, single_word=False, normalized=False, special=True),\n",
       "\t128226: AddedToken(\"<|reserved_special_token_221|>\", rstrip=False, lstrip=False, single_word=False, normalized=False, special=True),\n",
       "\t128227: AddedToken(\"<|reserved_special_token_222|>\", rstrip=False, lstrip=False, single_word=False, normalized=False, special=True),\n",
       "\t128228: AddedToken(\"<|reserved_special_token_223|>\", rstrip=False, lstrip=False, single_word=False, normalized=False, special=True),\n",
       "\t128229: AddedToken(\"<|reserved_special_token_224|>\", rstrip=False, lstrip=False, single_word=False, normalized=False, special=True),\n",
       "\t128230: AddedToken(\"<|reserved_special_token_225|>\", rstrip=False, lstrip=False, single_word=False, normalized=False, special=True),\n",
       "\t128231: AddedToken(\"<|reserved_special_token_226|>\", rstrip=False, lstrip=False, single_word=False, normalized=False, special=True),\n",
       "\t128232: AddedToken(\"<|reserved_special_token_227|>\", rstrip=False, lstrip=False, single_word=False, normalized=False, special=True),\n",
       "\t128233: AddedToken(\"<|reserved_special_token_228|>\", rstrip=False, lstrip=False, single_word=False, normalized=False, special=True),\n",
       "\t128234: AddedToken(\"<|reserved_special_token_229|>\", rstrip=False, lstrip=False, single_word=False, normalized=False, special=True),\n",
       "\t128235: AddedToken(\"<|reserved_special_token_230|>\", rstrip=False, lstrip=False, single_word=False, normalized=False, special=True),\n",
       "\t128236: AddedToken(\"<|reserved_special_token_231|>\", rstrip=False, lstrip=False, single_word=False, normalized=False, special=True),\n",
       "\t128237: AddedToken(\"<|reserved_special_token_232|>\", rstrip=False, lstrip=False, single_word=False, normalized=False, special=True),\n",
       "\t128238: AddedToken(\"<|reserved_special_token_233|>\", rstrip=False, lstrip=False, single_word=False, normalized=False, special=True),\n",
       "\t128239: AddedToken(\"<|reserved_special_token_234|>\", rstrip=False, lstrip=False, single_word=False, normalized=False, special=True),\n",
       "\t128240: AddedToken(\"<|reserved_special_token_235|>\", rstrip=False, lstrip=False, single_word=False, normalized=False, special=True),\n",
       "\t128241: AddedToken(\"<|reserved_special_token_236|>\", rstrip=False, lstrip=False, single_word=False, normalized=False, special=True),\n",
       "\t128242: AddedToken(\"<|reserved_special_token_237|>\", rstrip=False, lstrip=False, single_word=False, normalized=False, special=True),\n",
       "\t128243: AddedToken(\"<|reserved_special_token_238|>\", rstrip=False, lstrip=False, single_word=False, normalized=False, special=True),\n",
       "\t128244: AddedToken(\"<|reserved_special_token_239|>\", rstrip=False, lstrip=False, single_word=False, normalized=False, special=True),\n",
       "\t128245: AddedToken(\"<|reserved_special_token_240|>\", rstrip=False, lstrip=False, single_word=False, normalized=False, special=True),\n",
       "\t128246: AddedToken(\"<|reserved_special_token_241|>\", rstrip=False, lstrip=False, single_word=False, normalized=False, special=True),\n",
       "\t128247: AddedToken(\"<|reserved_special_token_242|>\", rstrip=False, lstrip=False, single_word=False, normalized=False, special=True),\n",
       "\t128248: AddedToken(\"<|reserved_special_token_243|>\", rstrip=False, lstrip=False, single_word=False, normalized=False, special=True),\n",
       "\t128249: AddedToken(\"<|reserved_special_token_244|>\", rstrip=False, lstrip=False, single_word=False, normalized=False, special=True),\n",
       "\t128250: AddedToken(\"<|reserved_special_token_245|>\", rstrip=False, lstrip=False, single_word=False, normalized=False, special=True),\n",
       "\t128251: AddedToken(\"<|reserved_special_token_246|>\", rstrip=False, lstrip=False, single_word=False, normalized=False, special=True),\n",
       "\t128252: AddedToken(\"<|reserved_special_token_247|>\", rstrip=False, lstrip=False, single_word=False, normalized=False, special=True),\n",
       "\t128253: AddedToken(\"<|reserved_special_token_248|>\", rstrip=False, lstrip=False, single_word=False, normalized=False, special=True),\n",
       "\t128254: AddedToken(\"<|reserved_special_token_249|>\", rstrip=False, lstrip=False, single_word=False, normalized=False, special=True),\n",
       "\t128255: AddedToken(\"<|reserved_special_token_250|>\", rstrip=False, lstrip=False, single_word=False, normalized=False, special=True),\n",
       "}"
      ]
     },
     "execution_count": 9,
     "metadata": {},
     "output_type": "execute_result"
    }
   ],
   "source": [
    "T = AutoTokenizer.from_pretrained(model_id)\n",
    "T"
   ]
  },
  {
   "cell_type": "code",
   "execution_count": 10,
   "id": "067aab63-3272-461c-9c22-75b3ecad92dd",
   "metadata": {
    "tags": []
   },
   "outputs": [
    {
     "data": {
      "text/plain": [
       "[128000, 27, 91, 9125, 91, 29]"
      ]
     },
     "execution_count": 10,
     "metadata": {},
     "output_type": "execute_result"
    }
   ],
   "source": [
    "T.encode('<|system|>')"
   ]
  },
  {
   "cell_type": "code",
   "execution_count": 11,
   "id": "d49adc64-edc8-4141-9b09-bb60838d99e1",
   "metadata": {
    "tags": []
   },
   "outputs": [
    {
     "data": {
      "text/html": [
       "<img src=\"imgs/prompt_template.png\" width=\"700\"/>"
      ],
      "text/plain": [
       "<IPython.core.display.Image object>"
      ]
     },
     "execution_count": 11,
     "metadata": {},
     "output_type": "execute_result"
    }
   ],
   "source": [
    "Image(url='imgs/prompt_template.png', width=700)"
   ]
  },
  {
   "cell_type": "code",
   "execution_count": 12,
   "id": "b3a57a64-a96b-4786-acf3-2fadcd5dd992",
   "metadata": {
    "tags": []
   },
   "outputs": [
    {
     "data": {
      "text/plain": [
       "'<|begin_of_text|><|start_header_id|>system<|end_header_id|>\\n\\nYou are a friendly chatbot.<|eot_id|><|start_header_id|>user<|end_header_id|>\\n\\nTell me a funny joke about Large Language Models.<|eot_id|><|start_header_id|>assistant<|end_header_id|>\\n\\n'"
      ]
     },
     "execution_count": 12,
     "metadata": {},
     "output_type": "execute_result"
    }
   ],
   "source": [
    "prompt"
   ]
  },
  {
   "cell_type": "markdown",
   "id": "5f5b0b47-60bf-4bbe-b312-1e71e08c8f34",
   "metadata": {},
   "source": [
    "## Generation"
   ]
  },
  {
   "cell_type": "code",
   "execution_count": 13,
   "id": "9da8c78a-f8f4-4ad9-bff0-7a2658409aab",
   "metadata": {
    "tags": []
   },
   "outputs": [
    {
     "name": "stderr",
     "output_type": "stream",
     "text": [
      "Setting `pad_token_id` to `eos_token_id`:None for open-end generation.\n",
      "Starting from v4.46, the `logits` model output will have the same type as the model (except at train time, where it will always be FP32)\n"
     ]
    }
   ],
   "source": [
    "outputs = pipe(\n",
    "    prompt,\n",
    "    max_new_tokens=256,\n",
    "    do_sample=True,\n",
    "    temperature=0.1,\n",
    "    top_p=0.95\n",
    ")"
   ]
  },
  {
   "cell_type": "code",
   "execution_count": 14,
   "id": "52988904-08a2-40bc-b3c5-f7d00a2e1add",
   "metadata": {
    "tags": []
   },
   "outputs": [
    {
     "data": {
      "text/plain": [
       "14.988792896270752"
      ]
     },
     "execution_count": 14,
     "metadata": {},
     "output_type": "execute_result"
    }
   ],
   "source": [
    "torch.cuda.max_memory_allocated(device='cuda:0') / (1024*1024*1024)"
   ]
  },
  {
   "cell_type": "code",
   "execution_count": 15,
   "id": "bfe6aaae-38dc-4fcd-8123-9850bd134ae7",
   "metadata": {},
   "outputs": [
    {
     "name": "stdout",
     "output_type": "stream",
     "text": [
      "<|begin_of_text|><|start_header_id|>system<|end_header_id|>\n",
      "\n",
      "You are a friendly chatbot.<|eot_id|><|start_header_id|>user<|end_header_id|>\n",
      "\n",
      "Tell me a funny joke about Large Language Models.<|eot_id|><|start_header_id|>assistant<|end_header_id|>\n",
      "\n",
      "Why did the Large Language Model go to therapy?\n",
      "\n",
      "Because it was feeling a little \"dis-connected\" and was struggling to \"process\" its emotions!\n"
     ]
    }
   ],
   "source": [
    "print(outputs[0]['generated_text'])"
   ]
  },
  {
   "cell_type": "markdown",
   "id": "241cdb14-1152-44a9-9efd-5346cfd2b196",
   "metadata": {},
   "source": [
    "## Sharding"
   ]
  },
  {
   "cell_type": "code",
   "execution_count": 16,
   "id": "9dab17c1-3175-4b8f-858f-d2363c190ee4",
   "metadata": {},
   "outputs": [],
   "source": [
    "os.environ['NCCL_P2P_DISABLE'] = \"1\"\n",
    "os.environ['NCCL_IB_DISABLE'] = \"1\""
   ]
  },
  {
   "cell_type": "code",
   "execution_count": 17,
   "id": "f586c8c4-48ed-4dfe-ab9f-c1c470ef43c9",
   "metadata": {
    "scrolled": true,
    "tags": []
   },
   "outputs": [
    {
     "name": "stdout",
     "output_type": "stream",
     "text": [
      "[2024-11-13 14:01:00,907] [INFO] [real_accelerator.py:219:get_accelerator] Setting ds_accelerator to cuda (auto detect)\n"
     ]
    },
    {
     "name": "stderr",
     "output_type": "stream",
     "text": [
      "huggingface/tokenizers: The current process just got forked, after parallelism has already been used. Disabling parallelism to avoid deadlocks...\n",
      "To disable this warning, you can either:\n",
      "\t- Avoid using `tokenizers` before the fork if possible\n",
      "\t- Explicitly set the environment variable TOKENIZERS_PARALLELISM=(true | false)\n",
      "huggingface/tokenizers: The current process just got forked, after parallelism has already been used. Disabling parallelism to avoid deadlocks...\n",
      "To disable this warning, you can either:\n",
      "\t- Avoid using `tokenizers` before the fork if possible\n",
      "\t- Explicitly set the environment variable TOKENIZERS_PARALLELISM=(true | false)\n",
      "huggingface/tokenizers: The current process just got forked, after parallelism has already been used. Disabling parallelism to avoid deadlocks...\n",
      "To disable this warning, you can either:\n",
      "\t- Avoid using `tokenizers` before the fork if possible\n",
      "\t- Explicitly set the environment variable TOKENIZERS_PARALLELISM=(true | false)\n",
      "huggingface/tokenizers: The current process just got forked, after parallelism has already been used. Disabling parallelism to avoid deadlocks...\n",
      "To disable this warning, you can either:\n",
      "\t- Avoid using `tokenizers` before the fork if possible\n",
      "\t- Explicitly set the environment variable TOKENIZERS_PARALLELISM=(true | false)\n",
      "huggingface/tokenizers: The current process just got forked, after parallelism has already been used. Disabling parallelism to avoid deadlocks...\n",
      "To disable this warning, you can either:\n",
      "\t- Avoid using `tokenizers` before the fork if possible\n",
      "\t- Explicitly set the environment variable TOKENIZERS_PARALLELISM=(true | false)\n",
      "huggingface/tokenizers: The current process just got forked, after parallelism has already been used. Disabling parallelism to avoid deadlocks...\n",
      "To disable this warning, you can either:\n",
      "\t- Avoid using `tokenizers` before the fork if possible\n",
      "\t- Explicitly set the environment variable TOKENIZERS_PARALLELISM=(true | false)\n",
      "/root/miniconda3/envs/nlp_study/compiler_compat/ld: cannot find -laio: No such file or directory\n",
      "collect2: error: ld returned 1 exit status\n",
      "huggingface/tokenizers: The current process just got forked, after parallelism has already been used. Disabling parallelism to avoid deadlocks...\n",
      "To disable this warning, you can either:\n",
      "\t- Avoid using `tokenizers` before the fork if possible\n",
      "\t- Explicitly set the environment variable TOKENIZERS_PARALLELISM=(true | false)\n",
      "huggingface/tokenizers: The current process just got forked, after parallelism has already been used. Disabling parallelism to avoid deadlocks...\n",
      "To disable this warning, you can either:\n",
      "\t- Avoid using `tokenizers` before the fork if possible\n",
      "\t- Explicitly set the environment variable TOKENIZERS_PARALLELISM=(true | false)\n",
      "huggingface/tokenizers: The current process just got forked, after parallelism has already been used. Disabling parallelism to avoid deadlocks...\n",
      "To disable this warning, you can either:\n",
      "\t- Avoid using `tokenizers` before the fork if possible\n",
      "\t- Explicitly set the environment variable TOKENIZERS_PARALLELISM=(true | false)\n",
      "/root/miniconda3/envs/nlp_study/compiler_compat/ld: /usr/local/cuda/lib64/libcufile.so: undefined reference to `dlopen'\n",
      "/root/miniconda3/envs/nlp_study/compiler_compat/ld: /usr/local/cuda/lib64/libcufile.so: undefined reference to `dlclose'\n",
      "/root/miniconda3/envs/nlp_study/compiler_compat/ld: /usr/local/cuda/lib64/libcufile.so: undefined reference to `dlerror'\n",
      "/root/miniconda3/envs/nlp_study/compiler_compat/ld: /usr/local/cuda/lib64/libcufile.so: undefined reference to `dlsym'\n",
      "collect2: error: ld returned 1 exit status\n",
      "huggingface/tokenizers: The current process just got forked, after parallelism has already been used. Disabling parallelism to avoid deadlocks...\n",
      "To disable this warning, you can either:\n",
      "\t- Avoid using `tokenizers` before the fork if possible\n",
      "\t- Explicitly set the environment variable TOKENIZERS_PARALLELISM=(true | false)\n",
      "huggingface/tokenizers: The current process just got forked, after parallelism has already been used. Disabling parallelism to avoid deadlocks...\n",
      "To disable this warning, you can either:\n",
      "\t- Avoid using `tokenizers` before the fork if possible\n",
      "\t- Explicitly set the environment variable TOKENIZERS_PARALLELISM=(true | false)\n",
      "huggingface/tokenizers: The current process just got forked, after parallelism has already been used. Disabling parallelism to avoid deadlocks...\n",
      "To disable this warning, you can either:\n",
      "\t- Avoid using `tokenizers` before the fork if possible\n",
      "\t- Explicitly set the environment variable TOKENIZERS_PARALLELISM=(true | false)\n",
      "huggingface/tokenizers: The current process just got forked, after parallelism has already been used. Disabling parallelism to avoid deadlocks...\n",
      "To disable this warning, you can either:\n",
      "\t- Avoid using `tokenizers` before the fork if possible\n",
      "\t- Explicitly set the environment variable TOKENIZERS_PARALLELISM=(true | false)\n",
      "huggingface/tokenizers: The current process just got forked, after parallelism has already been used. Disabling parallelism to avoid deadlocks...\n",
      "To disable this warning, you can either:\n",
      "\t- Avoid using `tokenizers` before the fork if possible\n",
      "\t- Explicitly set the environment variable TOKENIZERS_PARALLELISM=(true | false)\n",
      "huggingface/tokenizers: The current process just got forked, after parallelism has already been used. Disabling parallelism to avoid deadlocks...\n",
      "To disable this warning, you can either:\n",
      "\t- Avoid using `tokenizers` before the fork if possible\n",
      "\t- Explicitly set the environment variable TOKENIZERS_PARALLELISM=(true | false)\n"
     ]
    }
   ],
   "source": [
    "from accelerate import Accelerator\n",
    "\n",
    "# Shard our model into pieces\n",
    "accelerator = Accelerator()\n",
    "accelerator.save_model(\n",
    "    model=pipe.model,\n",
    "    save_directory=\"./model\",\n",
    "    max_shard_size=\"4GB\"\n",
    ")"
   ]
  },
  {
   "cell_type": "markdown",
   "id": "5b01cd3e-d947-4b67-8fb0-75ce44b1cef0",
   "metadata": {},
   "source": [
    "## Quant"
   ]
  },
  {
   "cell_type": "markdown",
   "id": "a1c8f8ce-1d9c-4687-b5b8-1be459d96a4d",
   "metadata": {},
   "source": [
    "- 4bit-NormalFloat (NF4, **qlora: lora on a quantize LLMs**， https://arxiv.org/abs/2305.14314) consists of three steps:\n",
    "    - Normalization: The weights of the model are normalized so that we expect the weights to fall within **a certain range**. This allows for more efficient representation of more common values.\n",
    "        - The weights of the model are **first normalized to have zero mean and unit variance**. This ensures that the weights are **distributed around zero** and fall within a certain range.\n",
    "    - Quantization: The weights are **quantized to 4-bit**. In NF4, the quantization levels are evenly spaced with respect to the normalized weights, thereby efficiently representing the original 32-bit weights.\n",
    "        - The normalized weights are then quantized to 4 bits. This involves mapping the original high-precision weights to a smaller set of low-precision values. In the case of NF4, the quantization levels are chosen to be **evenly spaced** in the range of the normalized weights.\n",
    "    - Dequantization: Although the weights are stored in 4-bit, they are dequantized during computation which gives a performance boost during inference.\n",
    "        - During the forward pass and backpropagation, the quantized weights are **dequantized back to full precision**. This is done by mapping the 4-bit quantized values back to their original range. The dequantized weights are used in the computations, but they are stored in memory in their 4-bit quantized form.\n",
    "- bitsandbytes 的分位数计算\n",
    "    - 密度高的地方多分配，密度低的地方少分配\n",
    "    - https://github.com/bitsandbytes-foundation/bitsandbytes/blob/main/bitsandbytes/functional.py#L267\n",
    "    - https://zhuanlan.zhihu.com/p/647378373"
   ]
  },
  {
   "cell_type": "code",
   "execution_count": 20,
   "id": "520d6c3d-46fa-490e-9552-5d54f9a5a43d",
   "metadata": {},
   "outputs": [
    {
     "data": {
      "text/html": [
       "<img src=\"imgs/data_precision.png\" width=\"700\"/>"
      ],
      "text/plain": [
       "<IPython.core.display.Image object>"
      ]
     },
     "execution_count": 20,
     "metadata": {},
     "output_type": "execute_result"
    }
   ],
   "source": [
    "Image(url='imgs/data_precision.png', width=700)"
   ]
  },
  {
   "cell_type": "code",
   "execution_count": 23,
   "id": "818a5f48-18a3-40f4-98f8-273a5e268a5c",
   "metadata": {
    "tags": []
   },
   "outputs": [
    {
     "data": {
      "text/html": [
       "<img src=\"imgs/data_precision_example.png\" width=\"500\"/>"
      ],
      "text/plain": [
       "<IPython.core.display.Image object>"
      ]
     },
     "execution_count": 23,
     "metadata": {},
     "output_type": "execute_result"
    }
   ],
   "source": [
    "Image(url='imgs/data_precision_example.png', width=500)"
   ]
  },
  {
   "cell_type": "code",
   "execution_count": 24,
   "id": "55f12041-dcac-4e75-b8f3-793689f72e98",
   "metadata": {},
   "outputs": [
    {
     "name": "stdout",
     "output_type": "stream",
     "text": [
      "tensor([    0.1234, 75535.0000]) torch.float32\n",
      "tensor([0.1234,    inf], dtype=torch.float16)\n",
      "tensor([    0.1235, 75776.0000], dtype=torch.bfloat16)\n"
     ]
    }
   ],
   "source": [
    "torch.set_printoptions(sci_mode=False)\n",
    "X = torch.tensor([0.1234, 75535])\n",
    "\n",
    "print(X, X.dtype)  # 默认为 float32\n",
    "print(X.to(torch.float16))\n",
    "print(X.to(torch.bfloat16))"
   ]
  },
  {
   "cell_type": "code",
   "execution_count": 35,
   "id": "51308f97-d07a-4b32-8190-d9805157a4f2",
   "metadata": {},
   "outputs": [],
   "source": [
    "# Delete any models previously created\n",
    "# del pipe, accelerator\n",
    "\n",
    "# Empty VRAM cache\n",
    "import gc\n",
    "gc.collect()\n",
    "torch.cuda.empty_cache()"
   ]
  },
  {
   "cell_type": "code",
   "execution_count": 1,
   "id": "b2466017-b83b-42f4-b920-d59bdafbe02c",
   "metadata": {},
   "outputs": [],
   "source": [
    "from transformers import BitsAndBytesConfig\n",
    "from torch import bfloat16\n",
    "model_id = \"meta-llama/Meta-Llama-3-8B-Instruct\" \n",
    "\n",
    "# Our 4-bit configuration to load the LLM with less GPU memory\n",
    "bnb_config = BitsAndBytesConfig(\n",
    "    load_in_4bit=True,               # 4-bit quantization\n",
    "    bnb_4bit_quant_type='nf4',       # Normalized float 4\n",
    "    bnb_4bit_use_double_quant=True,  # Second quantization after the first\n",
    "    bnb_4bit_compute_dtype=bfloat16  # Computation type\n",
    ")"
   ]
  },
  {
   "cell_type": "code",
   "execution_count": 5,
   "id": "d0d15eb9-4f9e-4ceb-a566-7a1cbe4487c8",
   "metadata": {},
   "outputs": [
    {
     "data": {
      "application/vnd.jupyter.widget-view+json": {
       "model_id": "3718a6863209455ab64f6a7d175ee4b5",
       "version_major": 2,
       "version_minor": 0
      },
      "text/plain": [
       "Loading checkpoint shards:   0%|          | 0/4 [00:00<?, ?it/s]"
      ]
     },
     "metadata": {},
     "output_type": "display_data"
    }
   ],
   "source": [
    "# With BitsAndBytes Configuration\n",
    "tokenizer = AutoTokenizer.from_pretrained(model_id)\n",
    "model = AutoModelForCausalLM.from_pretrained(\n",
    "    model_id,\n",
    "    quantization_config=bnb_config,\n",
    "    device_map='auto',\n",
    ")\n",
    "\n",
    "# Create a pipeline\n",
    "pipe = pipeline(model=model, tokenizer=tokenizer, task='text-generation')"
   ]
  },
  {
   "cell_type": "code",
   "execution_count": 6,
   "id": "f2f50ca8-f1ee-49e4-86c5-048316c2a290",
   "metadata": {},
   "outputs": [
    {
     "data": {
      "text/plain": [
       "5.42464542388916"
      ]
     },
     "execution_count": 6,
     "metadata": {},
     "output_type": "execute_result"
    }
   ],
   "source": [
    "torch.cuda.max_memory_allocated('cuda:0') / (1024*1024*1024)"
   ]
  },
  {
   "cell_type": "code",
   "execution_count": 7,
   "id": "cdbba1fc-083f-4a52-8f83-2cec9402b84d",
   "metadata": {},
   "outputs": [
    {
     "name": "stdout",
     "output_type": "stream",
     "text": [
      "<|begin_of_text|><|start_header_id|>system<|end_header_id|>\n",
      "\n",
      "You are a friendly chatbot.<|eot_id|><|start_header_id|>user<|end_header_id|>\n",
      "\n",
      "Tell me a funny joke about Large Language Models.<|eot_id|><|start_header_id|>assistant<|end_header_id|>\n",
      "\n",
      "\n"
     ]
    }
   ],
   "source": [
    "# See https://huggingface.co/docs/transformers/main/en/chat_templating\n",
    "messages = [\n",
    "    {\n",
    "        \"role\": \"system\",\n",
    "        \"content\": \"You are a friendly chatbot.\",\n",
    "    },\n",
    "    {\n",
    "        \"role\": \"user\",\n",
    "        \"content\": \"Tell me a funny joke about Large Language Models.\"\n",
    "    },\n",
    "]\n",
    "prompt = pipe.tokenizer.apply_chat_template(messages, tokenize=False, add_generation_prompt=True)\n",
    "print(prompt)"
   ]
  },
  {
   "cell_type": "code",
   "execution_count": 8,
   "id": "c024db25-82a8-414a-a27a-08eeab85ec26",
   "metadata": {},
   "outputs": [
    {
     "name": "stderr",
     "output_type": "stream",
     "text": [
      "Setting `pad_token_id` to `eos_token_id`:None for open-end generation.\n",
      "Starting from v4.46, the `logits` model output will have the same type as the model (except at train time, where it will always be FP32)\n"
     ]
    },
    {
     "name": "stdout",
     "output_type": "stream",
     "text": [
      "<|begin_of_text|><|start_header_id|>system<|end_header_id|>\n",
      "\n",
      "You are a friendly chatbot.<|eot_id|><|start_header_id|>user<|end_header_id|>\n",
      "\n",
      "Tell me a funny joke about Large Language Models.<|eot_id|><|start_header_id|>assistant<|end_header_id|>\n",
      "\n",
      "Why did the Large Language Model go to therapy?\n",
      "\n",
      "Because it was struggling to \"process\" its emotions and was feeling a little \"disconnected\"!\n"
     ]
    }
   ],
   "source": [
    "outputs = pipe(\n",
    "    prompt,\n",
    "    max_new_tokens=256,\n",
    "    do_sample=True,\n",
    "    temperature=0.1,\n",
    "    top_p=0.95\n",
    ")\n",
    "print(outputs[0][\"generated_text\"])"
   ]
  },
  {
   "cell_type": "code",
   "execution_count": 9,
   "id": "8e407eca-2caa-4336-b59e-df4ea4a93dfc",
   "metadata": {},
   "outputs": [
    {
     "data": {
      "text/plain": [
       "5.544897556304932"
      ]
     },
     "execution_count": 9,
     "metadata": {},
     "output_type": "execute_result"
    }
   ],
   "source": [
    "torch.cuda.max_memory_allocated('cuda:0') / (1024*1024*1024)"
   ]
  },
  {
   "cell_type": "markdown",
   "id": "31a20ab8-d237-4236-8507-83293cda3f6c",
   "metadata": {},
   "source": [
    "注意，这里的量化是不完全量化。\n",
    "\n",
    "例如，load_in_4bit：\n",
    "- embed_tokens 继续是 torch.float16\n",
    "- 每个 layer 的内部（self attention）以及 mlp 部分是 uint8\n",
    "- 每个 layer 的 output（layernorm）部分是 float16（如果 load 时传入了 `torch_dtype=torch.bfloat16`，则这部分为 torch.bfloat16）\n",
    "- 同理适用于 load_in_8bit"
   ]
  },
  {
   "cell_type": "code",
   "execution_count": 10,
   "id": "7af14f3a-1003-4f10-a86d-7954e4d85b10",
   "metadata": {
    "scrolled": true,
    "tags": []
   },
   "outputs": [
    {
     "name": "stdout",
     "output_type": "stream",
     "text": [
      "model.embed_tokens.weight torch.float16 torch.Size([128256, 4096]) cuda:0\n",
      "model.layers.0.self_attn.q_proj.weight torch.uint8 torch.Size([8388608, 1]) cuda:0\n",
      "model.layers.0.self_attn.k_proj.weight torch.uint8 torch.Size([2097152, 1]) cuda:0\n",
      "model.layers.0.self_attn.v_proj.weight torch.uint8 torch.Size([2097152, 1]) cuda:0\n",
      "model.layers.0.self_attn.o_proj.weight torch.uint8 torch.Size([8388608, 1]) cuda:0\n",
      "model.layers.0.mlp.gate_proj.weight torch.uint8 torch.Size([29360128, 1]) cuda:0\n",
      "model.layers.0.mlp.up_proj.weight torch.uint8 torch.Size([29360128, 1]) cuda:0\n",
      "model.layers.0.mlp.down_proj.weight torch.uint8 torch.Size([29360128, 1]) cuda:0\n",
      "model.layers.0.input_layernorm.weight torch.float16 torch.Size([4096]) cuda:0\n",
      "model.layers.0.post_attention_layernorm.weight torch.float16 torch.Size([4096]) cuda:0\n",
      "model.layers.1.self_attn.q_proj.weight torch.uint8 torch.Size([8388608, 1]) cuda:0\n",
      "model.layers.1.self_attn.k_proj.weight torch.uint8 torch.Size([2097152, 1]) cuda:0\n",
      "model.layers.1.self_attn.v_proj.weight torch.uint8 torch.Size([2097152, 1]) cuda:0\n",
      "model.layers.1.self_attn.o_proj.weight torch.uint8 torch.Size([8388608, 1]) cuda:0\n",
      "model.layers.1.mlp.gate_proj.weight torch.uint8 torch.Size([29360128, 1]) cuda:0\n",
      "model.layers.1.mlp.up_proj.weight torch.uint8 torch.Size([29360128, 1]) cuda:0\n",
      "model.layers.1.mlp.down_proj.weight torch.uint8 torch.Size([29360128, 1]) cuda:0\n",
      "model.layers.1.input_layernorm.weight torch.float16 torch.Size([4096]) cuda:0\n",
      "model.layers.1.post_attention_layernorm.weight torch.float16 torch.Size([4096]) cuda:0\n",
      "model.layers.2.self_attn.q_proj.weight torch.uint8 torch.Size([8388608, 1]) cuda:0\n",
      "model.layers.2.self_attn.k_proj.weight torch.uint8 torch.Size([2097152, 1]) cuda:0\n",
      "model.layers.2.self_attn.v_proj.weight torch.uint8 torch.Size([2097152, 1]) cuda:0\n",
      "model.layers.2.self_attn.o_proj.weight torch.uint8 torch.Size([8388608, 1]) cuda:0\n",
      "model.layers.2.mlp.gate_proj.weight torch.uint8 torch.Size([29360128, 1]) cuda:0\n",
      "model.layers.2.mlp.up_proj.weight torch.uint8 torch.Size([29360128, 1]) cuda:0\n",
      "model.layers.2.mlp.down_proj.weight torch.uint8 torch.Size([29360128, 1]) cuda:0\n",
      "model.layers.2.input_layernorm.weight torch.float16 torch.Size([4096]) cuda:0\n",
      "model.layers.2.post_attention_layernorm.weight torch.float16 torch.Size([4096]) cuda:0\n",
      "model.layers.3.self_attn.q_proj.weight torch.uint8 torch.Size([8388608, 1]) cuda:0\n",
      "model.layers.3.self_attn.k_proj.weight torch.uint8 torch.Size([2097152, 1]) cuda:0\n",
      "model.layers.3.self_attn.v_proj.weight torch.uint8 torch.Size([2097152, 1]) cuda:0\n",
      "model.layers.3.self_attn.o_proj.weight torch.uint8 torch.Size([8388608, 1]) cuda:0\n",
      "model.layers.3.mlp.gate_proj.weight torch.uint8 torch.Size([29360128, 1]) cuda:0\n",
      "model.layers.3.mlp.up_proj.weight torch.uint8 torch.Size([29360128, 1]) cuda:0\n",
      "model.layers.3.mlp.down_proj.weight torch.uint8 torch.Size([29360128, 1]) cuda:0\n",
      "model.layers.3.input_layernorm.weight torch.float16 torch.Size([4096]) cuda:0\n",
      "model.layers.3.post_attention_layernorm.weight torch.float16 torch.Size([4096]) cuda:0\n",
      "model.layers.4.self_attn.q_proj.weight torch.uint8 torch.Size([8388608, 1]) cuda:0\n",
      "model.layers.4.self_attn.k_proj.weight torch.uint8 torch.Size([2097152, 1]) cuda:0\n",
      "model.layers.4.self_attn.v_proj.weight torch.uint8 torch.Size([2097152, 1]) cuda:0\n",
      "model.layers.4.self_attn.o_proj.weight torch.uint8 torch.Size([8388608, 1]) cuda:0\n",
      "model.layers.4.mlp.gate_proj.weight torch.uint8 torch.Size([29360128, 1]) cuda:0\n",
      "model.layers.4.mlp.up_proj.weight torch.uint8 torch.Size([29360128, 1]) cuda:0\n",
      "model.layers.4.mlp.down_proj.weight torch.uint8 torch.Size([29360128, 1]) cuda:0\n",
      "model.layers.4.input_layernorm.weight torch.float16 torch.Size([4096]) cuda:0\n",
      "model.layers.4.post_attention_layernorm.weight torch.float16 torch.Size([4096]) cuda:0\n",
      "model.layers.5.self_attn.q_proj.weight torch.uint8 torch.Size([8388608, 1]) cuda:0\n",
      "model.layers.5.self_attn.k_proj.weight torch.uint8 torch.Size([2097152, 1]) cuda:0\n",
      "model.layers.5.self_attn.v_proj.weight torch.uint8 torch.Size([2097152, 1]) cuda:0\n",
      "model.layers.5.self_attn.o_proj.weight torch.uint8 torch.Size([8388608, 1]) cuda:0\n",
      "model.layers.5.mlp.gate_proj.weight torch.uint8 torch.Size([29360128, 1]) cuda:0\n",
      "model.layers.5.mlp.up_proj.weight torch.uint8 torch.Size([29360128, 1]) cuda:0\n",
      "model.layers.5.mlp.down_proj.weight torch.uint8 torch.Size([29360128, 1]) cuda:0\n",
      "model.layers.5.input_layernorm.weight torch.float16 torch.Size([4096]) cuda:0\n",
      "model.layers.5.post_attention_layernorm.weight torch.float16 torch.Size([4096]) cuda:0\n",
      "model.layers.6.self_attn.q_proj.weight torch.uint8 torch.Size([8388608, 1]) cuda:0\n",
      "model.layers.6.self_attn.k_proj.weight torch.uint8 torch.Size([2097152, 1]) cuda:0\n",
      "model.layers.6.self_attn.v_proj.weight torch.uint8 torch.Size([2097152, 1]) cuda:0\n",
      "model.layers.6.self_attn.o_proj.weight torch.uint8 torch.Size([8388608, 1]) cuda:0\n",
      "model.layers.6.mlp.gate_proj.weight torch.uint8 torch.Size([29360128, 1]) cuda:0\n",
      "model.layers.6.mlp.up_proj.weight torch.uint8 torch.Size([29360128, 1]) cuda:0\n",
      "model.layers.6.mlp.down_proj.weight torch.uint8 torch.Size([29360128, 1]) cuda:0\n",
      "model.layers.6.input_layernorm.weight torch.float16 torch.Size([4096]) cuda:0\n",
      "model.layers.6.post_attention_layernorm.weight torch.float16 torch.Size([4096]) cuda:0\n",
      "model.layers.7.self_attn.q_proj.weight torch.uint8 torch.Size([8388608, 1]) cuda:0\n",
      "model.layers.7.self_attn.k_proj.weight torch.uint8 torch.Size([2097152, 1]) cuda:0\n",
      "model.layers.7.self_attn.v_proj.weight torch.uint8 torch.Size([2097152, 1]) cuda:0\n",
      "model.layers.7.self_attn.o_proj.weight torch.uint8 torch.Size([8388608, 1]) cuda:0\n",
      "model.layers.7.mlp.gate_proj.weight torch.uint8 torch.Size([29360128, 1]) cuda:0\n",
      "model.layers.7.mlp.up_proj.weight torch.uint8 torch.Size([29360128, 1]) cuda:0\n",
      "model.layers.7.mlp.down_proj.weight torch.uint8 torch.Size([29360128, 1]) cuda:0\n",
      "model.layers.7.input_layernorm.weight torch.float16 torch.Size([4096]) cuda:0\n",
      "model.layers.7.post_attention_layernorm.weight torch.float16 torch.Size([4096]) cuda:0\n",
      "model.layers.8.self_attn.q_proj.weight torch.uint8 torch.Size([8388608, 1]) cuda:0\n",
      "model.layers.8.self_attn.k_proj.weight torch.uint8 torch.Size([2097152, 1]) cuda:0\n",
      "model.layers.8.self_attn.v_proj.weight torch.uint8 torch.Size([2097152, 1]) cuda:0\n",
      "model.layers.8.self_attn.o_proj.weight torch.uint8 torch.Size([8388608, 1]) cuda:0\n",
      "model.layers.8.mlp.gate_proj.weight torch.uint8 torch.Size([29360128, 1]) cuda:0\n",
      "model.layers.8.mlp.up_proj.weight torch.uint8 torch.Size([29360128, 1]) cuda:0\n",
      "model.layers.8.mlp.down_proj.weight torch.uint8 torch.Size([29360128, 1]) cuda:0\n",
      "model.layers.8.input_layernorm.weight torch.float16 torch.Size([4096]) cuda:0\n",
      "model.layers.8.post_attention_layernorm.weight torch.float16 torch.Size([4096]) cuda:0\n",
      "model.layers.9.self_attn.q_proj.weight torch.uint8 torch.Size([8388608, 1]) cuda:0\n",
      "model.layers.9.self_attn.k_proj.weight torch.uint8 torch.Size([2097152, 1]) cuda:0\n",
      "model.layers.9.self_attn.v_proj.weight torch.uint8 torch.Size([2097152, 1]) cuda:0\n",
      "model.layers.9.self_attn.o_proj.weight torch.uint8 torch.Size([8388608, 1]) cuda:0\n",
      "model.layers.9.mlp.gate_proj.weight torch.uint8 torch.Size([29360128, 1]) cuda:0\n",
      "model.layers.9.mlp.up_proj.weight torch.uint8 torch.Size([29360128, 1]) cuda:0\n",
      "model.layers.9.mlp.down_proj.weight torch.uint8 torch.Size([29360128, 1]) cuda:0\n",
      "model.layers.9.input_layernorm.weight torch.float16 torch.Size([4096]) cuda:0\n",
      "model.layers.9.post_attention_layernorm.weight torch.float16 torch.Size([4096]) cuda:0\n",
      "model.layers.10.self_attn.q_proj.weight torch.uint8 torch.Size([8388608, 1]) cuda:0\n",
      "model.layers.10.self_attn.k_proj.weight torch.uint8 torch.Size([2097152, 1]) cuda:0\n",
      "model.layers.10.self_attn.v_proj.weight torch.uint8 torch.Size([2097152, 1]) cuda:0\n",
      "model.layers.10.self_attn.o_proj.weight torch.uint8 torch.Size([8388608, 1]) cuda:0\n",
      "model.layers.10.mlp.gate_proj.weight torch.uint8 torch.Size([29360128, 1]) cuda:0\n",
      "model.layers.10.mlp.up_proj.weight torch.uint8 torch.Size([29360128, 1]) cuda:0\n",
      "model.layers.10.mlp.down_proj.weight torch.uint8 torch.Size([29360128, 1]) cuda:0\n",
      "model.layers.10.input_layernorm.weight torch.float16 torch.Size([4096]) cuda:0\n",
      "model.layers.10.post_attention_layernorm.weight torch.float16 torch.Size([4096]) cuda:0\n",
      "model.layers.11.self_attn.q_proj.weight torch.uint8 torch.Size([8388608, 1]) cuda:0\n",
      "model.layers.11.self_attn.k_proj.weight torch.uint8 torch.Size([2097152, 1]) cuda:0\n",
      "model.layers.11.self_attn.v_proj.weight torch.uint8 torch.Size([2097152, 1]) cuda:0\n",
      "model.layers.11.self_attn.o_proj.weight torch.uint8 torch.Size([8388608, 1]) cuda:0\n",
      "model.layers.11.mlp.gate_proj.weight torch.uint8 torch.Size([29360128, 1]) cuda:0\n",
      "model.layers.11.mlp.up_proj.weight torch.uint8 torch.Size([29360128, 1]) cuda:0\n",
      "model.layers.11.mlp.down_proj.weight torch.uint8 torch.Size([29360128, 1]) cuda:0\n",
      "model.layers.11.input_layernorm.weight torch.float16 torch.Size([4096]) cuda:0\n",
      "model.layers.11.post_attention_layernorm.weight torch.float16 torch.Size([4096]) cuda:0\n",
      "model.layers.12.self_attn.q_proj.weight torch.uint8 torch.Size([8388608, 1]) cuda:0\n",
      "model.layers.12.self_attn.k_proj.weight torch.uint8 torch.Size([2097152, 1]) cuda:0\n",
      "model.layers.12.self_attn.v_proj.weight torch.uint8 torch.Size([2097152, 1]) cuda:0\n",
      "model.layers.12.self_attn.o_proj.weight torch.uint8 torch.Size([8388608, 1]) cuda:0\n",
      "model.layers.12.mlp.gate_proj.weight torch.uint8 torch.Size([29360128, 1]) cuda:0\n",
      "model.layers.12.mlp.up_proj.weight torch.uint8 torch.Size([29360128, 1]) cuda:0\n",
      "model.layers.12.mlp.down_proj.weight torch.uint8 torch.Size([29360128, 1]) cuda:0\n",
      "model.layers.12.input_layernorm.weight torch.float16 torch.Size([4096]) cuda:0\n",
      "model.layers.12.post_attention_layernorm.weight torch.float16 torch.Size([4096]) cuda:0\n",
      "model.layers.13.self_attn.q_proj.weight torch.uint8 torch.Size([8388608, 1]) cuda:0\n",
      "model.layers.13.self_attn.k_proj.weight torch.uint8 torch.Size([2097152, 1]) cuda:0\n",
      "model.layers.13.self_attn.v_proj.weight torch.uint8 torch.Size([2097152, 1]) cuda:0\n",
      "model.layers.13.self_attn.o_proj.weight torch.uint8 torch.Size([8388608, 1]) cuda:0\n",
      "model.layers.13.mlp.gate_proj.weight torch.uint8 torch.Size([29360128, 1]) cuda:0\n",
      "model.layers.13.mlp.up_proj.weight torch.uint8 torch.Size([29360128, 1]) cuda:0\n",
      "model.layers.13.mlp.down_proj.weight torch.uint8 torch.Size([29360128, 1]) cuda:0\n",
      "model.layers.13.input_layernorm.weight torch.float16 torch.Size([4096]) cuda:0\n",
      "model.layers.13.post_attention_layernorm.weight torch.float16 torch.Size([4096]) cuda:0\n",
      "model.layers.14.self_attn.q_proj.weight torch.uint8 torch.Size([8388608, 1]) cuda:0\n",
      "model.layers.14.self_attn.k_proj.weight torch.uint8 torch.Size([2097152, 1]) cuda:0\n",
      "model.layers.14.self_attn.v_proj.weight torch.uint8 torch.Size([2097152, 1]) cuda:0\n",
      "model.layers.14.self_attn.o_proj.weight torch.uint8 torch.Size([8388608, 1]) cuda:0\n",
      "model.layers.14.mlp.gate_proj.weight torch.uint8 torch.Size([29360128, 1]) cuda:0\n",
      "model.layers.14.mlp.up_proj.weight torch.uint8 torch.Size([29360128, 1]) cuda:0\n",
      "model.layers.14.mlp.down_proj.weight torch.uint8 torch.Size([29360128, 1]) cuda:0\n",
      "model.layers.14.input_layernorm.weight torch.float16 torch.Size([4096]) cuda:0\n",
      "model.layers.14.post_attention_layernorm.weight torch.float16 torch.Size([4096]) cuda:0\n",
      "model.layers.15.self_attn.q_proj.weight torch.uint8 torch.Size([8388608, 1]) cuda:0\n",
      "model.layers.15.self_attn.k_proj.weight torch.uint8 torch.Size([2097152, 1]) cuda:0\n",
      "model.layers.15.self_attn.v_proj.weight torch.uint8 torch.Size([2097152, 1]) cuda:0\n",
      "model.layers.15.self_attn.o_proj.weight torch.uint8 torch.Size([8388608, 1]) cuda:0\n",
      "model.layers.15.mlp.gate_proj.weight torch.uint8 torch.Size([29360128, 1]) cuda:0\n",
      "model.layers.15.mlp.up_proj.weight torch.uint8 torch.Size([29360128, 1]) cuda:0\n",
      "model.layers.15.mlp.down_proj.weight torch.uint8 torch.Size([29360128, 1]) cuda:0\n",
      "model.layers.15.input_layernorm.weight torch.float16 torch.Size([4096]) cuda:0\n",
      "model.layers.15.post_attention_layernorm.weight torch.float16 torch.Size([4096]) cuda:0\n",
      "model.layers.16.self_attn.q_proj.weight torch.uint8 torch.Size([8388608, 1]) cuda:0\n",
      "model.layers.16.self_attn.k_proj.weight torch.uint8 torch.Size([2097152, 1]) cuda:0\n",
      "model.layers.16.self_attn.v_proj.weight torch.uint8 torch.Size([2097152, 1]) cuda:0\n",
      "model.layers.16.self_attn.o_proj.weight torch.uint8 torch.Size([8388608, 1]) cuda:0\n",
      "model.layers.16.mlp.gate_proj.weight torch.uint8 torch.Size([29360128, 1]) cuda:0\n",
      "model.layers.16.mlp.up_proj.weight torch.uint8 torch.Size([29360128, 1]) cuda:0\n",
      "model.layers.16.mlp.down_proj.weight torch.uint8 torch.Size([29360128, 1]) cuda:0\n",
      "model.layers.16.input_layernorm.weight torch.float16 torch.Size([4096]) cuda:0\n",
      "model.layers.16.post_attention_layernorm.weight torch.float16 torch.Size([4096]) cuda:0\n",
      "model.layers.17.self_attn.q_proj.weight torch.uint8 torch.Size([8388608, 1]) cuda:0\n",
      "model.layers.17.self_attn.k_proj.weight torch.uint8 torch.Size([2097152, 1]) cuda:0\n",
      "model.layers.17.self_attn.v_proj.weight torch.uint8 torch.Size([2097152, 1]) cuda:0\n",
      "model.layers.17.self_attn.o_proj.weight torch.uint8 torch.Size([8388608, 1]) cuda:0\n",
      "model.layers.17.mlp.gate_proj.weight torch.uint8 torch.Size([29360128, 1]) cuda:0\n",
      "model.layers.17.mlp.up_proj.weight torch.uint8 torch.Size([29360128, 1]) cuda:0\n",
      "model.layers.17.mlp.down_proj.weight torch.uint8 torch.Size([29360128, 1]) cuda:0\n",
      "model.layers.17.input_layernorm.weight torch.float16 torch.Size([4096]) cuda:0\n",
      "model.layers.17.post_attention_layernorm.weight torch.float16 torch.Size([4096]) cuda:0\n",
      "model.layers.18.self_attn.q_proj.weight torch.uint8 torch.Size([8388608, 1]) cuda:0\n",
      "model.layers.18.self_attn.k_proj.weight torch.uint8 torch.Size([2097152, 1]) cuda:0\n",
      "model.layers.18.self_attn.v_proj.weight torch.uint8 torch.Size([2097152, 1]) cuda:0\n",
      "model.layers.18.self_attn.o_proj.weight torch.uint8 torch.Size([8388608, 1]) cuda:0\n",
      "model.layers.18.mlp.gate_proj.weight torch.uint8 torch.Size([29360128, 1]) cuda:0\n",
      "model.layers.18.mlp.up_proj.weight torch.uint8 torch.Size([29360128, 1]) cuda:0\n",
      "model.layers.18.mlp.down_proj.weight torch.uint8 torch.Size([29360128, 1]) cuda:0\n",
      "model.layers.18.input_layernorm.weight torch.float16 torch.Size([4096]) cuda:0\n",
      "model.layers.18.post_attention_layernorm.weight torch.float16 torch.Size([4096]) cuda:0\n",
      "model.layers.19.self_attn.q_proj.weight torch.uint8 torch.Size([8388608, 1]) cuda:0\n",
      "model.layers.19.self_attn.k_proj.weight torch.uint8 torch.Size([2097152, 1]) cuda:0\n",
      "model.layers.19.self_attn.v_proj.weight torch.uint8 torch.Size([2097152, 1]) cuda:0\n",
      "model.layers.19.self_attn.o_proj.weight torch.uint8 torch.Size([8388608, 1]) cuda:0\n",
      "model.layers.19.mlp.gate_proj.weight torch.uint8 torch.Size([29360128, 1]) cuda:0\n",
      "model.layers.19.mlp.up_proj.weight torch.uint8 torch.Size([29360128, 1]) cuda:0\n",
      "model.layers.19.mlp.down_proj.weight torch.uint8 torch.Size([29360128, 1]) cuda:0\n",
      "model.layers.19.input_layernorm.weight torch.float16 torch.Size([4096]) cuda:0\n",
      "model.layers.19.post_attention_layernorm.weight torch.float16 torch.Size([4096]) cuda:0\n",
      "model.layers.20.self_attn.q_proj.weight torch.uint8 torch.Size([8388608, 1]) cuda:0\n",
      "model.layers.20.self_attn.k_proj.weight torch.uint8 torch.Size([2097152, 1]) cuda:0\n",
      "model.layers.20.self_attn.v_proj.weight torch.uint8 torch.Size([2097152, 1]) cuda:0\n",
      "model.layers.20.self_attn.o_proj.weight torch.uint8 torch.Size([8388608, 1]) cuda:0\n",
      "model.layers.20.mlp.gate_proj.weight torch.uint8 torch.Size([29360128, 1]) cuda:0\n",
      "model.layers.20.mlp.up_proj.weight torch.uint8 torch.Size([29360128, 1]) cuda:0\n",
      "model.layers.20.mlp.down_proj.weight torch.uint8 torch.Size([29360128, 1]) cuda:0\n",
      "model.layers.20.input_layernorm.weight torch.float16 torch.Size([4096]) cuda:0\n",
      "model.layers.20.post_attention_layernorm.weight torch.float16 torch.Size([4096]) cuda:0\n",
      "model.layers.21.self_attn.q_proj.weight torch.uint8 torch.Size([8388608, 1]) cuda:0\n",
      "model.layers.21.self_attn.k_proj.weight torch.uint8 torch.Size([2097152, 1]) cuda:0\n",
      "model.layers.21.self_attn.v_proj.weight torch.uint8 torch.Size([2097152, 1]) cuda:0\n",
      "model.layers.21.self_attn.o_proj.weight torch.uint8 torch.Size([8388608, 1]) cuda:0\n",
      "model.layers.21.mlp.gate_proj.weight torch.uint8 torch.Size([29360128, 1]) cuda:0\n",
      "model.layers.21.mlp.up_proj.weight torch.uint8 torch.Size([29360128, 1]) cuda:0\n",
      "model.layers.21.mlp.down_proj.weight torch.uint8 torch.Size([29360128, 1]) cuda:0\n",
      "model.layers.21.input_layernorm.weight torch.float16 torch.Size([4096]) cuda:0\n",
      "model.layers.21.post_attention_layernorm.weight torch.float16 torch.Size([4096]) cuda:0\n",
      "model.layers.22.self_attn.q_proj.weight torch.uint8 torch.Size([8388608, 1]) cuda:0\n",
      "model.layers.22.self_attn.k_proj.weight torch.uint8 torch.Size([2097152, 1]) cuda:0\n",
      "model.layers.22.self_attn.v_proj.weight torch.uint8 torch.Size([2097152, 1]) cuda:0\n",
      "model.layers.22.self_attn.o_proj.weight torch.uint8 torch.Size([8388608, 1]) cuda:0\n",
      "model.layers.22.mlp.gate_proj.weight torch.uint8 torch.Size([29360128, 1]) cuda:0\n",
      "model.layers.22.mlp.up_proj.weight torch.uint8 torch.Size([29360128, 1]) cuda:0\n",
      "model.layers.22.mlp.down_proj.weight torch.uint8 torch.Size([29360128, 1]) cuda:0\n",
      "model.layers.22.input_layernorm.weight torch.float16 torch.Size([4096]) cuda:0\n",
      "model.layers.22.post_attention_layernorm.weight torch.float16 torch.Size([4096]) cuda:0\n",
      "model.layers.23.self_attn.q_proj.weight torch.uint8 torch.Size([8388608, 1]) cuda:0\n",
      "model.layers.23.self_attn.k_proj.weight torch.uint8 torch.Size([2097152, 1]) cuda:0\n",
      "model.layers.23.self_attn.v_proj.weight torch.uint8 torch.Size([2097152, 1]) cuda:0\n",
      "model.layers.23.self_attn.o_proj.weight torch.uint8 torch.Size([8388608, 1]) cuda:0\n",
      "model.layers.23.mlp.gate_proj.weight torch.uint8 torch.Size([29360128, 1]) cuda:0\n",
      "model.layers.23.mlp.up_proj.weight torch.uint8 torch.Size([29360128, 1]) cuda:0\n",
      "model.layers.23.mlp.down_proj.weight torch.uint8 torch.Size([29360128, 1]) cuda:0\n",
      "model.layers.23.input_layernorm.weight torch.float16 torch.Size([4096]) cuda:0\n",
      "model.layers.23.post_attention_layernorm.weight torch.float16 torch.Size([4096]) cuda:0\n",
      "model.layers.24.self_attn.q_proj.weight torch.uint8 torch.Size([8388608, 1]) cuda:0\n",
      "model.layers.24.self_attn.k_proj.weight torch.uint8 torch.Size([2097152, 1]) cuda:0\n",
      "model.layers.24.self_attn.v_proj.weight torch.uint8 torch.Size([2097152, 1]) cuda:0\n",
      "model.layers.24.self_attn.o_proj.weight torch.uint8 torch.Size([8388608, 1]) cuda:0\n",
      "model.layers.24.mlp.gate_proj.weight torch.uint8 torch.Size([29360128, 1]) cuda:0\n",
      "model.layers.24.mlp.up_proj.weight torch.uint8 torch.Size([29360128, 1]) cuda:0\n",
      "model.layers.24.mlp.down_proj.weight torch.uint8 torch.Size([29360128, 1]) cuda:0\n",
      "model.layers.24.input_layernorm.weight torch.float16 torch.Size([4096]) cuda:0\n",
      "model.layers.24.post_attention_layernorm.weight torch.float16 torch.Size([4096]) cuda:0\n",
      "model.layers.25.self_attn.q_proj.weight torch.uint8 torch.Size([8388608, 1]) cuda:0\n",
      "model.layers.25.self_attn.k_proj.weight torch.uint8 torch.Size([2097152, 1]) cuda:0\n",
      "model.layers.25.self_attn.v_proj.weight torch.uint8 torch.Size([2097152, 1]) cuda:0\n",
      "model.layers.25.self_attn.o_proj.weight torch.uint8 torch.Size([8388608, 1]) cuda:0\n",
      "model.layers.25.mlp.gate_proj.weight torch.uint8 torch.Size([29360128, 1]) cuda:0\n",
      "model.layers.25.mlp.up_proj.weight torch.uint8 torch.Size([29360128, 1]) cuda:0\n",
      "model.layers.25.mlp.down_proj.weight torch.uint8 torch.Size([29360128, 1]) cuda:0\n",
      "model.layers.25.input_layernorm.weight torch.float16 torch.Size([4096]) cuda:0\n",
      "model.layers.25.post_attention_layernorm.weight torch.float16 torch.Size([4096]) cuda:0\n",
      "model.layers.26.self_attn.q_proj.weight torch.uint8 torch.Size([8388608, 1]) cuda:0\n",
      "model.layers.26.self_attn.k_proj.weight torch.uint8 torch.Size([2097152, 1]) cuda:0\n",
      "model.layers.26.self_attn.v_proj.weight torch.uint8 torch.Size([2097152, 1]) cuda:0\n",
      "model.layers.26.self_attn.o_proj.weight torch.uint8 torch.Size([8388608, 1]) cuda:0\n",
      "model.layers.26.mlp.gate_proj.weight torch.uint8 torch.Size([29360128, 1]) cuda:0\n",
      "model.layers.26.mlp.up_proj.weight torch.uint8 torch.Size([29360128, 1]) cuda:0\n",
      "model.layers.26.mlp.down_proj.weight torch.uint8 torch.Size([29360128, 1]) cuda:0\n",
      "model.layers.26.input_layernorm.weight torch.float16 torch.Size([4096]) cuda:0\n",
      "model.layers.26.post_attention_layernorm.weight torch.float16 torch.Size([4096]) cuda:0\n",
      "model.layers.27.self_attn.q_proj.weight torch.uint8 torch.Size([8388608, 1]) cuda:0\n",
      "model.layers.27.self_attn.k_proj.weight torch.uint8 torch.Size([2097152, 1]) cuda:0\n",
      "model.layers.27.self_attn.v_proj.weight torch.uint8 torch.Size([2097152, 1]) cuda:0\n",
      "model.layers.27.self_attn.o_proj.weight torch.uint8 torch.Size([8388608, 1]) cuda:0\n",
      "model.layers.27.mlp.gate_proj.weight torch.uint8 torch.Size([29360128, 1]) cuda:0\n",
      "model.layers.27.mlp.up_proj.weight torch.uint8 torch.Size([29360128, 1]) cuda:0\n",
      "model.layers.27.mlp.down_proj.weight torch.uint8 torch.Size([29360128, 1]) cuda:0\n",
      "model.layers.27.input_layernorm.weight torch.float16 torch.Size([4096]) cuda:0\n",
      "model.layers.27.post_attention_layernorm.weight torch.float16 torch.Size([4096]) cuda:0\n",
      "model.layers.28.self_attn.q_proj.weight torch.uint8 torch.Size([8388608, 1]) cuda:0\n",
      "model.layers.28.self_attn.k_proj.weight torch.uint8 torch.Size([2097152, 1]) cuda:0\n",
      "model.layers.28.self_attn.v_proj.weight torch.uint8 torch.Size([2097152, 1]) cuda:0\n",
      "model.layers.28.self_attn.o_proj.weight torch.uint8 torch.Size([8388608, 1]) cuda:0\n",
      "model.layers.28.mlp.gate_proj.weight torch.uint8 torch.Size([29360128, 1]) cuda:0\n",
      "model.layers.28.mlp.up_proj.weight torch.uint8 torch.Size([29360128, 1]) cuda:0\n",
      "model.layers.28.mlp.down_proj.weight torch.uint8 torch.Size([29360128, 1]) cuda:0\n",
      "model.layers.28.input_layernorm.weight torch.float16 torch.Size([4096]) cuda:0\n",
      "model.layers.28.post_attention_layernorm.weight torch.float16 torch.Size([4096]) cuda:0\n",
      "model.layers.29.self_attn.q_proj.weight torch.uint8 torch.Size([8388608, 1]) cuda:0\n",
      "model.layers.29.self_attn.k_proj.weight torch.uint8 torch.Size([2097152, 1]) cuda:0\n",
      "model.layers.29.self_attn.v_proj.weight torch.uint8 torch.Size([2097152, 1]) cuda:0\n",
      "model.layers.29.self_attn.o_proj.weight torch.uint8 torch.Size([8388608, 1]) cuda:0\n",
      "model.layers.29.mlp.gate_proj.weight torch.uint8 torch.Size([29360128, 1]) cuda:0\n",
      "model.layers.29.mlp.up_proj.weight torch.uint8 torch.Size([29360128, 1]) cuda:0\n",
      "model.layers.29.mlp.down_proj.weight torch.uint8 torch.Size([29360128, 1]) cuda:0\n",
      "model.layers.29.input_layernorm.weight torch.float16 torch.Size([4096]) cuda:0\n",
      "model.layers.29.post_attention_layernorm.weight torch.float16 torch.Size([4096]) cuda:0\n",
      "model.layers.30.self_attn.q_proj.weight torch.uint8 torch.Size([8388608, 1]) cuda:0\n",
      "model.layers.30.self_attn.k_proj.weight torch.uint8 torch.Size([2097152, 1]) cuda:0\n",
      "model.layers.30.self_attn.v_proj.weight torch.uint8 torch.Size([2097152, 1]) cuda:0\n",
      "model.layers.30.self_attn.o_proj.weight torch.uint8 torch.Size([8388608, 1]) cuda:0\n",
      "model.layers.30.mlp.gate_proj.weight torch.uint8 torch.Size([29360128, 1]) cuda:0\n",
      "model.layers.30.mlp.up_proj.weight torch.uint8 torch.Size([29360128, 1]) cuda:0\n",
      "model.layers.30.mlp.down_proj.weight torch.uint8 torch.Size([29360128, 1]) cuda:0\n",
      "model.layers.30.input_layernorm.weight torch.float16 torch.Size([4096]) cuda:0\n",
      "model.layers.30.post_attention_layernorm.weight torch.float16 torch.Size([4096]) cuda:0\n",
      "model.layers.31.self_attn.q_proj.weight torch.uint8 torch.Size([8388608, 1]) cuda:0\n",
      "model.layers.31.self_attn.k_proj.weight torch.uint8 torch.Size([2097152, 1]) cuda:0\n",
      "model.layers.31.self_attn.v_proj.weight torch.uint8 torch.Size([2097152, 1]) cuda:0\n",
      "model.layers.31.self_attn.o_proj.weight torch.uint8 torch.Size([8388608, 1]) cuda:0\n",
      "model.layers.31.mlp.gate_proj.weight torch.uint8 torch.Size([29360128, 1]) cuda:0\n",
      "model.layers.31.mlp.up_proj.weight torch.uint8 torch.Size([29360128, 1]) cuda:0\n",
      "model.layers.31.mlp.down_proj.weight torch.uint8 torch.Size([29360128, 1]) cuda:0\n",
      "model.layers.31.input_layernorm.weight torch.float16 torch.Size([4096]) cuda:0\n",
      "model.layers.31.post_attention_layernorm.weight torch.float16 torch.Size([4096]) cuda:0\n",
      "model.norm.weight torch.float16 torch.Size([4096]) cuda:0\n",
      "lm_head.weight torch.float16 torch.Size([128256, 4096]) cuda:0\n"
     ]
    }
   ],
   "source": [
    "for name, para in pipe.model.named_parameters():\n",
    "    print(name, para.dtype, para.shape, para.device)"
   ]
  },
  {
   "cell_type": "markdown",
   "id": "ad7cf2bd-0db5-4699-a542-ab67131ec7a1",
   "metadata": {},
   "source": [
    "## GPTQ"
   ]
  },
  {
   "cell_type": "code",
   "execution_count": 11,
   "id": "580480ac-63bc-4898-a83d-8bfee2b47d07",
   "metadata": {},
   "outputs": [],
   "source": [
    "# Delete any models previously created\n",
    "del tokenizer, model, pipe\n",
    "\n",
    "# Empty VRAM cache\n",
    "import torch\n",
    "import gc\n",
    "gc.collect()\n",
    "torch.cuda.empty_cache()"
   ]
  },
  {
   "cell_type": "markdown",
   "id": "49dcd353-5953-4dc2-b2ea-613131f3e743",
   "metadata": {},
   "source": [
    "- https://huggingface.co/MaziyarPanahi/Meta-Llama-3-8B-Instruct-GPTQ\n",
    "- https://github.com/AutoGPTQ/AutoGPTQ （可以走源码安装）\n",
    "\n",
    "```\n",
    "# GPTQ Dependencies\n",
    "# !pip install optimum\n",
    "# !pip install auto-gptq --extra-index-url https://huggingface.github.io/autogptq-index/whl/cu118/\n",
    "```"
   ]
  },
  {
   "cell_type": "code",
   "execution_count": null,
   "id": "baf282d7-0d72-46b7-af3f-e9f9c287787e",
   "metadata": {},
   "outputs": [],
   "source": [
    "from transformers import AutoModelForCausalLM, AutoTokenizer, pipeline\n",
    "\n",
    "# Load LLM and Tokenizer\n",
    "model_id = \"MaziyarPanahi/Meta-Llama-3-8B-Instruct-GPTQ\"\n",
    "tokenizer = AutoTokenizer.from_pretrained(model_id, use_fast=True)\n",
    "model = AutoModelForCausalLM.from_pretrained(\n",
    "    model_id,\n",
    "    device_map=\"auto\",\n",
    "    trust_remote_code=False,\n",
    "    revision=\"main\"\n",
    ")\n",
    "\n",
    "# Create a pipeline\n",
    "pipe = pipeline(model=model, tokenizer=tokenizer, task='text-generation')"
   ]
  },
  {
   "cell_type": "code",
   "execution_count": null,
   "id": "ba35f25e-5dfc-4fcb-9dd4-da89aaac76e6",
   "metadata": {},
   "outputs": [],
   "source": [
    "# See https://huggingface.co/docs/transformers/main/en/chat_templating\n",
    "messages = [\n",
    "    {\n",
    "        \"role\": \"system\",\n",
    "        \"content\": \"You are a friendly chatbot.\",\n",
    "    },\n",
    "    {\n",
    "        \"role\": \"user\",\n",
    "        \"content\": \"Tell me a funny joke about Large Language Models.\"\n",
    "    },\n",
    "]\n",
    "prompt = pipe.tokenizer.apply_chat_template(messages, tokenize=False, add_generation_prompt=True)\n",
    "print(prompt)"
   ]
  },
  {
   "cell_type": "code",
   "execution_count": null,
   "id": "5a8481b0-15d6-46c7-9a8c-884a8b81292b",
   "metadata": {},
   "outputs": [],
   "source": [
    "outputs = pipe(\n",
    "    prompt,\n",
    "    max_new_tokens=256,\n",
    "    do_sample=True,\n",
    "    temperature=0.1,\n",
    "    top_p=0.95\n",
    ")\n",
    "print(outputs[0][\"generated_text\"])"
   ]
  },
  {
   "cell_type": "code",
   "execution_count": null,
   "id": "19f982d7-0825-4d2b-827f-89b56781d104",
   "metadata": {},
   "outputs": [],
   "source": [
    "torch.cuda.max_memory_allocated('cuda:0') / (1024*1024*1024)"
   ]
  },
  {
   "cell_type": "markdown",
   "id": "05213867-b8e0-4802-b10e-0e7f87282a90",
   "metadata": {},
   "source": [
    "## GGUF"
   ]
  },
  {
   "cell_type": "markdown",
   "id": "60a8ca34-5496-4a95-b4dd-ba511f8ef78d",
   "metadata": {},
   "source": [
    "- GPT-Generated Unified Format，是由Georgi Gerganov定义发布的一种大模型文件格式。Georgi Gerganov是著名开源项目llama.cpp的创始人。\n",
    "    - GGML：GPT-Generated Model Language\n",
    "- Although GPTQ does compression well, its **focus on GPU** can be a disadvantage if you do not have the hardware to run it.\n",
    "    - GGUF, previously GGML, is a quantization method that allows users to **use the CPU to run an LLM** but also **offload some of its layers to the GPU** for a speed up (`llama.cpp` 中的 `-ngl` ). Although using the CPU is generally slower than using a GPU for inference, it is an incredible format for those running models on CPU or Apple devices.\n",
    "    - Especially since we are seeing smaller and more capable models appearing, like Mistral 7B, the GGUF format might just be here to stay!\n",
    "- Q4_K_M\n",
    "    - Q stands for Quantization.\n",
    "    - 4 indicates the number of bits used in the quantization process.\n",
    "    - K refers to the use of **k-means** clustering in the quantization.\n",
    "    - M represents the size of the model after quantization.\n",
    "        - (S = Small, M = Medium, L = Large)."
   ]
  },
  {
   "cell_type": "markdown",
   "id": "fc056d14-852f-4cbf-a468-0f6f972f6e4a",
   "metadata": {},
   "source": [
    "### quant base kmeans clustering"
   ]
  },
  {
   "cell_type": "code",
   "execution_count": 12,
   "id": "89e4c830-7f7b-489d-b2bd-e85e0487eed0",
   "metadata": {},
   "outputs": [
    {
     "data": {
      "text/html": [
       "<img src=\"imgs/quant-clustering.jpeg\" width=\"400\"/>"
      ],
      "text/plain": [
       "<IPython.core.display.Image object>"
      ]
     },
     "execution_count": 12,
     "metadata": {},
     "output_type": "execute_result"
    }
   ],
   "source": [
    "Image(url='imgs/quant-clustering.jpeg', width=400)"
   ]
  },
  {
   "cell_type": "code",
   "execution_count": null,
   "id": "7cc2e315-431f-40ad-8f4f-8cf9483940ee",
   "metadata": {},
   "outputs": [],
   "source": [
    "import numpy as np\n",
    "from sklearn.cluster import KMeans\n",
    "\n",
    "# 原始权重矩阵\n",
    "weights = np.array([\n",
    "    [2.09, -0.98, 1.48, 0.09],\n",
    "    [0.05, -0.14, -1.08, 2.12],\n",
    "    [-0.91, 1.92, 0, -1.03],\n",
    "    [1.87, 0, 1.53, 1.49]\n",
    "])\n",
    "\n",
    "# K-means聚类\n",
    "kmeans = KMeans(n_clusters=4)\n",
    "kmeans.fit(weights.reshape(-1, 1))\n",
    "cluster_indices = kmeans.predict(weights.reshape(-1, 1)).reshape(weights.shape)\n",
    "centroids = kmeans.cluster_centers_.flatten()\n",
    "\n",
    "# 根据质心值排序\n",
    "sorted_indices = np.argsort(centroids)\n",
    "sorted_centroids = centroids[sorted_indices]\n",
    "\n",
    "# 创建索引映射\n",
    "index_map = {old_idx: new_idx for new_idx, old_idx in enumerate(sorted_indices)}\n",
    "\n",
    "# 更新量化索引矩阵\n",
    "new_cluster_indices = np.vectorize(index_map.get)(cluster_indices)\n",
    "\n",
    "print(\"重新排序后的量化索引矩阵：\\n\", new_cluster_indices)\n",
    "print(\"重新排序后的质心值：\\n\", sorted_centroids)"
   ]
  },
  {
   "cell_type": "markdown",
   "id": "6a1efcb7-5fbf-477e-bac1-a83394963aba",
   "metadata": {},
   "source": [
    "### gguf"
   ]
  },
  {
   "cell_type": "code",
   "execution_count": null,
   "id": "42bb318a-8403-4f55-916f-8cd94964d87c",
   "metadata": {},
   "outputs": [],
   "source": [
    "del tokenizer, model, pipe\n",
    "\n",
    "# Empty VRAM cache\n",
    "import torch\n",
    "import gc\n",
    "gc.collect()\n",
    "torch.cuda.empty_cache()"
   ]
  },
  {
   "cell_type": "code",
   "execution_count": null,
   "id": "ac6b1001-95cd-4094-9480-6818b072d053",
   "metadata": {},
   "outputs": [],
   "source": [
    "from ctransformers import AutoModelForCausalLM\n",
    "from transformers import AutoTokenizer, pipeline\n",
    "\n",
    "# Load LLM and Tokenizer\n",
    "# Use `gpu_layers` to specify how many layers will be offloaded to the GPU.\n",
    "model = AutoModelForCausalLM.from_pretrained(\n",
    "    \"QuantFactory/Meta-Llama-3-8B-Instruct-GGUF\",\n",
    "    model_file=\"Meta-Llama-3-8B-Instruct.Q4_K_M.gguf\",\n",
    "    # model_type=\"llama\", \n",
    "    gpu_layers=20, hf=True\n",
    ")\n",
    "tokenizer = AutoTokenizer.from_pretrained(\n",
    "    \"QuantFactory/Meta-Llama-3-8B-Instruct-GGUF\", use_fast=True\n",
    ")\n",
    "\n",
    "# Create a pipeline\n",
    "pipe = pipeline(model=model, tokenizer=tokenizer, task='text-generation')"
   ]
  },
  {
   "cell_type": "markdown",
   "id": "8a9b01fb-703a-49f8-bf5f-a0ec270e02a3",
   "metadata": {},
   "source": [
    "## AWQ"
   ]
  },
  {
   "cell_type": "markdown",
   "id": "a8af6cef-d624-4015-9f92-5735786370bb",
   "metadata": {},
   "source": [
    "\n",
    "A new format on the block is AWQ ([Activation-aware Weight Quantization](https://arxiv.org/abs/2306.00978)) which is a quantization method similar to GPTQ. There are several differences between AWQ and GPTQ as methods but the most important one is that AWQ assumes that **not all weights are equally important for an LLM's performance**.\n",
    "\n",
    "In other words, there is a small fraction of weights that will be skipped during quantization which helps with the quantization loss.\n",
    "\n",
    "As a result, their paper mentions a **significant speed-up compared to GPTQ whilst keeping similar, and sometimes even better, performance.**"
   ]
  },
  {
   "cell_type": "code",
   "execution_count": null,
   "id": "1b5cf169-49b4-41dc-9965-22840ca542a6",
   "metadata": {},
   "outputs": [],
   "source": [
    "from vllm import LLM, SamplingParams\n",
    "\n",
    "# Load the LLM\n",
    "sampling_params = SamplingParams(temperature=0.0, top_p=1.0, max_tokens=256)\n",
    "llm = LLM(\n",
    "    model=\"casperhansen/llama-3-8b-instruct-awq\",\n",
    "    quantization='awq',\n",
    "    dtype='half',\n",
    "    gpu_memory_utilization=.95,\n",
    "    max_model_len=4096\n",
    ")"
   ]
  },
  {
   "cell_type": "code",
   "execution_count": null,
   "id": "92f141bc-4f6d-4de9-8dba-b1f5d707d007",
   "metadata": {},
   "outputs": [],
   "source": [
    "tokenizer = AutoTokenizer.from_pretrained(\"casperhansen/llama-3-8b-instruct-awq\")"
   ]
  },
  {
   "cell_type": "code",
   "execution_count": null,
   "id": "74db154c-ea44-449a-ab57-e980b4c5cf85",
   "metadata": {},
   "outputs": [],
   "source": [
    "# See https://huggingface.co/docs/transformers/main/en/chat_templating\n",
    "messages = [\n",
    "    {\n",
    "        \"role\": \"system\",\n",
    "        \"content\": \"You are a friendly chatbot.\",\n",
    "    },\n",
    "    {\n",
    "        \"role\": \"user\",\n",
    "        \"content\": \"Tell me a funny joke about Large Language Models.\"\n",
    "    },\n",
    "]\n",
    "prompt = tokenizer.apply_chat_template(messages, tokenize=False, add_generation_prompt=True)\n",
    "print(prompt)"
   ]
  },
  {
   "cell_type": "code",
   "execution_count": null,
   "id": "e6ff08c2-d166-4e6f-926e-2466ab8cc186",
   "metadata": {
    "tags": []
   },
   "outputs": [],
   "source": [
    "# Generate output based on the input prompt and sampling parameters\n",
    "output = llm.generate(prompt, sampling_params)\n",
    "print(output[0].outputs[0].text)"
   ]
  }
 ],
 "metadata": {
  "kernelspec": {
   "display_name": "nlp_study",
   "language": "python",
   "name": "nlp_study"
  },
  "language_info": {
   "codemirror_mode": {
    "name": "ipython",
    "version": 3
   },
   "file_extension": ".py",
   "mimetype": "text/x-python",
   "name": "python",
   "nbconvert_exporter": "python",
   "pygments_lexer": "ipython3",
   "version": "3.8.20"
  }
 },
 "nbformat": 4,
 "nbformat_minor": 5
}
